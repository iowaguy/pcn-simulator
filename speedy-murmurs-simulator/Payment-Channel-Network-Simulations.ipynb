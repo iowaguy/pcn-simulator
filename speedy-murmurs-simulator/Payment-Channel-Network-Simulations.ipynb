{
 "cells": [
  {
   "cell_type": "markdown",
   "metadata": {
    "ein.tags": "worksheet-0",
    "slideshow": {
     "slide_type": "-"
    }
   },
   "source": [
    "## General utility functions and variables"
   ]
  },
  {
   "cell_type": "code",
   "execution_count": 1,
   "metadata": {
    "autoscroll": false,
    "ein.hycell": false,
    "ein.tags": "worksheet-0",
    "slideshow": {
     "slide_type": "-"
    }
   },
   "outputs": [],
   "source": [
    "#import ipyparallel\n",
    "#ipyclient = ipyparallel.Client()\n",
    "import matplotlib.pyplot\n",
    "%matplotlib inline"
   ]
  },
  {
   "cell_type": "code",
   "execution_count": 18,
   "metadata": {
    "autoscroll": false,
    "ein.hycell": false,
    "ein.tags": "worksheet-0",
    "slideshow": {
     "slide_type": "-"
    }
   },
   "outputs": [
    {
     "ename": "NameError",
     "evalue": "name 'ipyclient' is not defined",
     "output_type": "error",
     "traceback": [
      "\u001b[0;31m---------------------------------------------------------------------------\u001b[0m",
      "\u001b[0;31mNameError\u001b[0m                                 Traceback (most recent call last)",
      "\u001b[0;32m<ipython-input-18-4e09928baab2>\u001b[0m in \u001b[0;36m<module>\u001b[0;34m\u001b[0m\n\u001b[1;32m      4\u001b[0m     \u001b[0msys\u001b[0m\u001b[0;34m.\u001b[0m\u001b[0mpath\u001b[0m\u001b[0;34m.\u001b[0m\u001b[0mappend\u001b[0m\u001b[0;34m(\u001b[0m\u001b[0mos\u001b[0m\u001b[0;34m.\u001b[0m\u001b[0mgetcwd\u001b[0m\u001b[0;34m(\u001b[0m\u001b[0;34m)\u001b[0m\u001b[0;34m)\u001b[0m\u001b[0;34m\u001b[0m\u001b[0;34m\u001b[0m\u001b[0m\n\u001b[1;32m      5\u001b[0m \u001b[0;34m\u001b[0m\u001b[0m\n\u001b[0;32m----> 6\u001b[0;31m \u001b[0mipyclient\u001b[0m\u001b[0;34m[\u001b[0m\u001b[0;34m:\u001b[0m\u001b[0;34m]\u001b[0m\u001b[0;34m.\u001b[0m\u001b[0mapply_sync\u001b[0m\u001b[0;34m(\u001b[0m\u001b[0msetup\u001b[0m\u001b[0;34m)\u001b[0m\u001b[0;34m\u001b[0m\u001b[0;34m\u001b[0m\u001b[0m\n\u001b[0m\u001b[1;32m      7\u001b[0m \u001b[0;34m\u001b[0m\u001b[0m\n\u001b[1;32m      8\u001b[0m \u001b[0;32mwith\u001b[0m \u001b[0mipyclient\u001b[0m\u001b[0;34m[\u001b[0m\u001b[0;34m:\u001b[0m\u001b[0;34m]\u001b[0m\u001b[0;34m.\u001b[0m\u001b[0msync_imports\u001b[0m\u001b[0;34m(\u001b[0m\u001b[0mlocal\u001b[0m\u001b[0;34m=\u001b[0m\u001b[0;32mTrue\u001b[0m\u001b[0;34m)\u001b[0m\u001b[0;34m:\u001b[0m\u001b[0;34m\u001b[0m\u001b[0;34m\u001b[0m\u001b[0m\n",
      "\u001b[0;31mNameError\u001b[0m: name 'ipyclient' is not defined"
     ]
    }
   ],
   "source": [
    "def setup():\n",
    "    import sys\n",
    "    import os\n",
    "    sys.path.append(os.getcwd())\n",
    "\n",
    "ipyclient[:].apply_sync(setup)\n",
    "    \n",
    "with ipyclient[:].sync_imports(local=True):\n",
    "    import simulation_utils\n",
    "    import sys\n",
    "    import numpy\n",
    "    import matplotlib.pyplot\n",
    "    import subprocess\n",
    "    import networkx\n",
    "    import os\n",
    "    import shutil\n",
    "    import yaml\n",
    "    import ipyparallel\n",
    "    from networkx import __version__ as networkxversion\n",
    "\n",
    "print('networkx: '+networkxversion)"
   ]
  },
  {
   "cell_type": "code",
   "execution_count": 5,
   "metadata": {},
   "outputs": [],
   "source": [
    "import simulation_utils as su\n",
    "import sys\n",
    "import numpy\n",
    "import matplotlib.pyplot\n",
    "import subprocess\n",
    "import networkx\n",
    "import os\n",
    "import shutil\n",
    "import yaml\n",
    "import ipyparallel\n",
    "from networkx import __version__ as networkxversion"
   ]
  },
  {
   "cell_type": "markdown",
   "metadata": {
    "ein.tags": "worksheet-0",
    "slideshow": {
     "slide_type": "-"
    }
   },
   "source": [
    "# Figure 2"
   ]
  },
  {
   "cell_type": "markdown",
   "metadata": {
    "ein.tags": "worksheet-0",
    "slideshow": {
     "slide_type": "-"
    }
   },
   "source": [
    "## 2a\n",
    "The x-axis is the number of trees (or landmarks) used, and the y-axis is the ratio of successfully routed transaction to total transactions. Each point on the plot is the value of CREDIT_NETWORK_SUCCESS in _singles.txt for the run with that many trees. All of these runs use 2 attempts."
   ]
  },
  {
   "cell_type": "markdown",
   "metadata": {
    "ein.tags": "worksheet-0",
    "slideshow": {
     "slide_type": "-"
    }
   },
   "source": [
    "### Run simulations"
   ]
  },
  {
   "cell_type": "code",
   "execution_count": 23,
   "metadata": {
    "autoscroll": false,
    "ein.hycell": false,
    "ein.tags": "worksheet-0",
    "slideshow": {
     "slide_type": "-"
    }
   },
   "outputs": [
    {
     "name": "stdout",
     "output_type": "stream",
     "text": [
      "Run exists. Skipping...\n",
      "Running: java -cp bin/ treeembedding.tests.Static 0 7 1 1 1\n",
      "Run exists. Skipping...\n",
      "Running: java -cp bin/ treeembedding.tests.Static 0 7 1 2 1\n",
      "Run exists. Skipping...\n",
      "Running: java -cp bin/ treeembedding.tests.Static 0 7 1 3 1\n",
      "Run exists. Skipping...\n",
      "Running: java -cp bin/ treeembedding.tests.Static 0 7 1 4 1\n",
      "Run exists. Skipping...\n",
      "Running: java -cp bin/ treeembedding.tests.Static 0 7 1 5 1\n",
      "Run exists. Skipping...\n",
      "Running: java -cp bin/ treeembedding.tests.Static 0 7 1 6 1\n",
      "Run exists. Skipping...\n",
      "Running: java -cp bin/ treeembedding.tests.Static 0 7 1 7 1\n"
     ]
    }
   ],
   "source": [
    "attempts = 1\n",
    "transaction_set = 0\n",
    "attack = 1\n",
    "no_attack = 0\n",
    "for tree in range(1, max_trees+1):\n",
    "    run_static(transaction_set, silentwhispers, attempts, tree, no_attack)\n",
    "    run_static(transaction_set, speedymurmurs, attempts, tree, attack, force=True)\n",
    "print('Done.')"
   ]
  },
  {
   "cell_type": "markdown",
   "metadata": {
    "ein.tags": "worksheet-0",
    "slideshow": {
     "slide_type": "-"
    }
   },
   "source": [
    "### Generate plots from data"
   ]
  },
  {
   "cell_type": "code",
   "execution_count": 25,
   "metadata": {
    "autoscroll": false,
    "ein.hycell": false,
    "ein.tags": "worksheet-0",
    "slideshow": {
     "slide_type": "-"
    }
   },
   "outputs": [
    {
     "data": {
      "text/plain": [
       "<matplotlib.legend.Legend at 0x116102b70>"
      ]
     },
     "execution_count": 25,
     "metadata": {},
     "output_type": "execute_result"
    },
    {
     "data": {
      "image/png": "[encoded data removed]",
      "text/plain": [
       "<Figure size 432x288 with 1 Axes>"
      ]
     },
     "metadata": {
      "needs_background": "light"
     },
     "output_type": "display_data"
    }
   ],
   "source": [
    "attempts = 1\n",
    "key = 'CREDIT_NETWORK_SUCCESS'\n",
    "silentwhispers_data = extract_from_singles(silentwhispers, attempts, max_trees, key)\n",
    "speedymurmurs_data = extract_from_singles(speedymurmurs, attempts, max_trees, key)\n",
    "\n",
    "matplotlib.pyplot.figure()\n",
    "matplotlib.pyplot.title('Figure 2a', size='xx-large')\n",
    "matplotlib.pyplot.ylabel('Success Ratio', size='x-large')\n",
    "matplotlib.pyplot.xlabel('Trees', size='x-large')\n",
    "matplotlib.pyplot.axis([0,8,0.0,1.0])\n",
    "\n",
    "matplotlib.pyplot.plot(range(1,max_trees+1), silentwhispers_data, 'r*-', markersize=5, linewidth=1, label='SilentWhispers')\n",
    "matplotlib.pyplot.plot(range(1,max_trees+1), speedymurmurs_data, 'b*-', markersize=5, linewidth=1, label='SpeedyMurmurs')\n",
    "matplotlib.pyplot.legend(loc=(0,1), scatterpoints=10)\n"
   ]
  },
  {
   "cell_type": "markdown",
   "metadata": {
    "ein.tags": "worksheet-0",
    "slideshow": {
     "slide_type": "-"
    }
   },
   "source": [
    "## 2b\n",
    "The x-axis is the number of trees (or landmarks) used, and the y-axis is the number of hops a transaction took to reach its destination. Each point on the plot is the value of CREDIT_NETWORK_DELAY_AV in _singles.txt for the run with that many trees. All of these runs use 2 attempts.\n",
    "\n",
    "Same simulations as 2a.\n"
   ]
  },
  {
   "cell_type": "markdown",
   "metadata": {
    "ein.tags": "worksheet-0",
    "slideshow": {
     "slide_type": "-"
    }
   },
   "source": [
    "### Generate plots from data"
   ]
  },
  {
   "cell_type": "code",
   "execution_count": 21,
   "metadata": {
    "autoscroll": false,
    "ein.hycell": false,
    "ein.tags": "worksheet-0",
    "slideshow": {
     "slide_type": "-"
    }
   },
   "outputs": [
    {
     "data": {
      "text/plain": [
       "<matplotlib.legend.Legend at 0x11cc5bcc0>"
      ]
     },
     "execution_count": 21,
     "metadata": {},
     "output_type": "execute_result"
    },
    {
     "data": {
      "image/png": "[encoded data removed]",
      "text/plain": [
       "<Figure size 432x288 with 1 Axes>"
      ]
     },
     "metadata": {
      "needs_background": "light"
     },
     "output_type": "display_data"
    }
   ],
   "source": [
    "attempts = 1\n",
    "key = 'CREDIT_NETWORK_DELAY_AV'\n",
    "silentwhispers_data = extract_from_singles(silentwhispers, attempts, max_trees, key)\n",
    "speedymurmurs_data = extract_from_singles(speedymurmurs, attempts, max_trees, key)\n",
    "\n",
    "matplotlib.pyplot.figure()\n",
    "matplotlib.pyplot.title('Figure 2b', size='xx-large')\n",
    "matplotlib.pyplot.ylabel('(Hop) Delay', size='x-large')\n",
    "matplotlib.pyplot.xlabel('Trees', size='x-large')\n",
    "matplotlib.pyplot.axis([0,8,0,30])\n",
    "\n",
    "matplotlib.pyplot.plot(range(1,max_trees+1), silentwhispers_data, 'r*-', markersize=5, linewidth=1, label='SilentWhispers')\n",
    "matplotlib.pyplot.plot(range(1,max_trees+1), speedymurmurs_data, 'b*-', markersize=5, linewidth=1, label='SpeedyMurmurs')\n",
    "matplotlib.pyplot.legend(loc=(0,1), scatterpoints=10)\n"
   ]
  },
  {
   "cell_type": "markdown",
   "metadata": {
    "ein.tags": "worksheet-0",
    "slideshow": {
     "slide_type": "-"
    }
   },
   "source": [
    "## 2c\n",
    "The x-axis is the number of times a failed transaction should be retried, and the y-axis is the ratio of successfully routed transaction to total transactions. Each point on the plot is the value of CREDIT_NETWORK_SUCCESS in \\_singles.txt for the run with that many retries. All of these runs use 3 landmarks."
   ]
  },
  {
   "cell_type": "markdown",
   "metadata": {
    "ein.tags": "worksheet-0",
    "slideshow": {
     "slide_type": "-"
    }
   },
   "source": [
    "### Run simulations"
   ]
  },
  {
   "cell_type": "code",
   "execution_count": null,
   "metadata": {
    "autoscroll": false,
    "ein.hycell": false,
    "ein.tags": "worksheet-0",
    "slideshow": {
     "slide_type": "-"
    }
   },
   "outputs": [
    {
     "name": "stdout",
     "output_type": "stream",
     "text": [
      "Run exists. Skipping...\n",
      "Run exists. Skipping...\n",
      "Run exists. Skipping...\n",
      "Run exists. Skipping...\n",
      "Run exists. Skipping...\n",
      "Run exists. Skipping...\n",
      "Run exists. Skipping...\n",
      "Run exists. Skipping...\n",
      "Run exists. Skipping...\n",
      "Run exists. Skipping...\n",
      "Run exists. Skipping...\n",
      "Run exists. Skipping...\n",
      "Run exists. Skipping...\n",
      "Run exists. Skipping...\n",
      "Run exists. Skipping...\n",
      "Running: java -cp bin/ treeembedding.tests.Static 0 7 8 3\n"
     ]
    }
   ],
   "source": [
    "trees = 3\n",
    "transaction_set = 0\n",
    "for attempt in range(1, max_attempts+1):\n",
    "    run_static(transaction_set, silentwhispers, attempt, trees)\n",
    "    run_static(transaction_set, speedymurmurs, attempt, trees)\n",
    "print('Done.')  \n",
    "    "
   ]
  },
  {
   "cell_type": "markdown",
   "metadata": {
    "ein.tags": "worksheet-0",
    "slideshow": {
     "slide_type": "-"
    }
   },
   "source": [
    "### Generate plots from data"
   ]
  },
  {
   "cell_type": "code",
   "execution_count": 23,
   "metadata": {
    "autoscroll": false,
    "ein.hycell": false,
    "ein.tags": "worksheet-0",
    "scrolled": true,
    "slideshow": {
     "slide_type": "-"
    }
   },
   "outputs": [
    {
     "data": {
      "text/plain": [
       "<matplotlib.legend.Legend at 0x11cd33048>"
      ]
     },
     "execution_count": 23,
     "metadata": {},
     "output_type": "execute_result"
    },
    {
     "data": {
      "image/png": "[encoded data removed]",
      "text/plain": [
       "<Figure size 432x288 with 1 Axes>"
      ]
     },
     "metadata": {
      "needs_background": "light"
     },
     "output_type": "display_data"
    }
   ],
   "source": [
    "trees = 3\n",
    "key = 'CREDIT_NETWORK_SUCCESS'\n",
    "silentwhispers_data = extract_from_singles_attempts(silentwhispers, max_attempts, trees, key)\n",
    "speedymurmurs_data = extract_from_singles_attempts(speedymurmurs, max_attempts, trees, key)\n",
    "\n",
    "matplotlib.pyplot.figure()\n",
    "matplotlib.pyplot.title('Figure 2c', size='xx-large')\n",
    "matplotlib.pyplot.ylabel('Success Ratio', size='x-large')\n",
    "matplotlib.pyplot.xlabel('Attempts', size='x-large')\n",
    "matplotlib.pyplot.axis([0,10,0.0,1.0])\n",
    "\n",
    "matplotlib.pyplot.plot(range(1,max_attempts+1), silentwhispers_data, 'r*-', markersize=5, linewidth=1, label='SilentWhispers')\n",
    "matplotlib.pyplot.plot(range(1,max_attempts+1), speedymurmurs_data, 'b*-', markersize=5, linewidth=1, label='SpeedyMurmurs')\n",
    "matplotlib.pyplot.legend(loc=(0,1), scatterpoints=10)\n"
   ]
  },
  {
   "cell_type": "markdown",
   "metadata": {
    "ein.tags": "worksheet-0",
    "slideshow": {
     "slide_type": "-"
    }
   },
   "source": [
    "## Figure 3 Plots"
   ]
  },
  {
   "cell_type": "markdown",
   "metadata": {
    "ein.tags": "worksheet-0",
    "slideshow": {
     "slide_type": "-"
    }
   },
   "source": [
    "## 3a\n",
    "This is generated from the Ripple transaction data set, not from the simulator. The x-axis is the epoch number with epochs being of length 1000\\*delta\\_av, where delta\\_av is calculated from the data set as the average time between two subsequent transactions. The y-axis is either the number of transactions or the number of transactions or link changes in that epoch. The number of transactions are determined by counting lines in the ripple transaction data set (for the epoch in question), and the link changes are determined by counting the number of lines in the newlinks data set (jan2013-newlinks-lcc-sorted-uniq-t\\*.txt) for the epoch in question."
   ]
  },
  {
   "cell_type": "markdown",
   "metadata": {
    "ein.tags": "worksheet-0",
    "slideshow": {
     "slide_type": "-"
    }
   },
   "source": [
    "### Generate plots from data"
   ]
  },
  {
   "cell_type": "code",
   "execution_count": 8,
   "metadata": {
    "autoscroll": false,
    "ein.hycell": false,
    "ein.tags": "worksheet-0",
    "scrolled": true,
    "slideshow": {
     "slide_type": "-"
    }
   },
   "outputs": [
    {
     "data": {
      "text/plain": [
       "<matplotlib.legend.Legend at 0x134797518>"
      ]
     },
     "execution_count": 8,
     "metadata": {},
     "output_type": "execute_result"
    },
    {
     "data": {
      "image/png": "[encoded data removed]",
      "text/plain": [
       "<Figure size 432x288 with 1 Axes>"
      ]
     },
     "metadata": {
      "needs_background": "light"
     },
     "output_type": "display_data"
    }
   ],
   "source": [
    "transactions_file = '../data/finalSets/dynamic/jan2013-trans-lcc-noself-uniq-{0}.txt'\n",
    "link_changes_file = '../data/finalSets/dynamic/jan2013-newlinks-lcc-sorted-uniq-t{0}.txt'\n",
    "epoch_length, transactions = get_epoch_length(transactions_file)\n",
    "link_changes = read_link_changes_files(link_changes_file)\n",
    "\n",
    "\n",
    "transactions_per_epoch = calculate_events_per_epoch(epoch_length, transactions)\n",
    "link_changes_per_epoch = calculate_events_per_epoch(epoch_length, link_changes)\n",
    "lc_per_epoch_list = dict_to_list(link_changes_per_epoch, 801)\n",
    "\n",
    "matplotlib.pyplot.figure()\n",
    "matplotlib.pyplot.title('Figure 3a', size='xx-large')\n",
    "matplotlib.pyplot.ylabel('Count', size='x-large')\n",
    "matplotlib.pyplot.xlabel('Epoch Number', size='x-large')\n",
    "matplotlib.pyplot.axis([0,700,0,25000])\n",
    "\n",
    "matplotlib.pyplot.plot(range(1, 801), transactions_per_epoch.values(), 'ro', markersize=1, linewidth=1, label='Transactions')\n",
    "matplotlib.pyplot.plot(range(1, 801), lc_per_epoch_list, 'bo', markersize=1, linewidth=1, label='Set Link')\n",
    "matplotlib.pyplot.legend(loc=(0,1), scatterpoints=10)\n"
   ]
  },
  {
   "cell_type": "markdown",
   "metadata": {
    "ein.tags": "worksheet-0",
    "slideshow": {
     "slide_type": "-"
    }
   },
   "source": [
    "## 3b\n",
    "The x-axis is the epoch number with epochs calculated as above. The y-axis is the number of stabilization messages for that epoch. The number of stabilization messages can be determined from the cnet-stab.txt file which tracks stabilization messages per epoch. All of these runs use 2 attempts and 3 landmarks."
   ]
  },
  {
   "cell_type": "markdown",
   "metadata": {
    "ein.tags": "worksheet-0",
    "slideshow": {
     "slide_type": "-"
    }
   },
   "source": [
    "### Run simulations"
   ]
  },
  {
   "cell_type": "code",
   "execution_count": 99,
   "metadata": {
    "autoscroll": false,
    "ein.hycell": false,
    "ein.tags": "worksheet-0",
    "slideshow": {
     "slide_type": "-"
    }
   },
   "outputs": [
    {
     "name": "stdout",
     "output_type": "stream",
     "text": [
      "Run exists. Skipping...\n",
      "Run exists. Skipping...\n",
      "Run exists. Skipping...\n",
      "Run exists. Skipping...\n",
      "Run exists. Skipping...\n",
      "Run exists. Skipping...\n",
      "Run exists. Skipping...\n",
      "Run exists. Skipping...\n",
      "Run exists. Skipping...\n",
      "Run exists. Skipping...\n",
      "Run exists. Skipping...\n",
      "Run exists. Skipping...\n",
      "Run exists. Skipping...\n",
      "Run exists. Skipping...\n",
      "Run exists. Skipping...\n",
      "Running: java -cp bin/ treeembedding.tests.Dynamic 0 7 7\n",
      "Run exists. Skipping...\n",
      "Running: java -cp bin/ treeembedding.tests.Dynamic 0 7 8\n",
      "Done.\n"
     ]
    }
   ],
   "source": [
    "for step in range(0,9):\n",
    "    run_dynamic(0, silentwhispers, 2, 3, step)\n",
    "    run_dynamic(0, speedymurmurs, 2, 3, step)\n",
    "print('Done.')"
   ]
  },
  {
   "cell_type": "markdown",
   "metadata": {
    "ein.tags": "worksheet-0",
    "slideshow": {
     "slide_type": "-"
    }
   },
   "source": [
    "### Generate plots from data"
   ]
  },
  {
   "cell_type": "code",
   "execution_count": 106,
   "metadata": {
    "autoscroll": false,
    "ein.hycell": false,
    "ein.tags": "worksheet-0",
    "slideshow": {
     "slide_type": "-"
    }
   },
   "outputs": [
    {
     "data": {
      "text/plain": [
       "<matplotlib.legend.Legend at 0x12b692390>"
      ]
     },
     "execution_count": 106,
     "metadata": {},
     "output_type": "execute_result"
    },
    {
     "data": {
      "image/png": "[encoded data removed]",
      "text/plain": [
       "<Figure size 432x288 with 1 Axes>"
      ]
     },
     "metadata": {
      "needs_background": "light"
     },
     "output_type": "display_data"
    }
   ],
   "source": [
    "stab_file = '/cnet-stab.txt'\n",
    "\n",
    "sw_stab_messages_list = []\n",
    "sm_stab_messages_list = []\n",
    "sw_stab_messages_dict = {}\n",
    "sm_stab_messages_dict = {}\n",
    "for step in range(0,9):\n",
    "    sw_file_path = get_dynamic_data_path(silentwhispers, 3, 2, step) + stab_file\n",
    "    sm_file_path = get_dynamic_data_path(speedymurmurs, 3, 2, step) + stab_file\n",
    "\n",
    "    # create dict of stab message values for both sw and sm\n",
    "    new_dict_sw = convert_kv_file_to_dict(sw_file_path)\n",
    "    new_dict_sm = convert_kv_file_to_dict(sm_file_path)\n",
    "\n",
    "    sw_stab_messages_dict = merge_dicts(new_dict_sw, sw_stab_messages_dict)\n",
    "    sm_stab_messages_dict = merge_dicts(new_dict_sm, sm_stab_messages_dict)\n",
    "\n",
    "sw_stab_messages_list = dict_to_list(sw_stab_messages_dict, 801)\n",
    "sm_stab_messages_list = dict_to_list(sm_stab_messages_dict, 801)\n",
    "\n",
    "matplotlib.pyplot.yscale('log')\n",
    "matplotlib.pyplot.axis([0,700,0,1e+10])\n",
    "matplotlib.pyplot.plot(range(1, 801), sw_stab_messages_list, 'ro', markersize=1, linewidth=1, label='SilentWhispers')\n",
    "matplotlib.pyplot.plot(range(1, 801), sm_stab_messages_list, 'bo', markersize=1, linewidth=1, label='SpeedyMurmurs')\n",
    "matplotlib.pyplot.legend(loc=(0,1), scatterpoints=10)"
   ]
  },
  {
   "cell_type": "markdown",
   "metadata": {
    "ein.tags": "worksheet-0",
    "slideshow": {
     "slide_type": "-"
    }
   },
   "source": [
    "## 3c\n",
    "The x-axis is the epoch number with epochs calculated as above. The y-axis is the ratio of the success rate of SpeedyMurmurs or SilentWhispers to the success rate of Ford-Fulkerson. The lines in the plot are represented as a moving average over 50 epochs. All of these runs use 2 attempts and 3 landmarks."
   ]
  },
  {
   "cell_type": "markdown",
   "metadata": {
    "ein.tags": "worksheet-0",
    "slideshow": {
     "slide_type": "-"
    }
   },
   "source": [
    "### Run simulations"
   ]
  },
  {
   "cell_type": "code",
   "execution_count": 100,
   "metadata": {
    "autoscroll": false,
    "ein.hycell": false,
    "ein.tags": "worksheet-0",
    "slideshow": {
     "slide_type": "-"
    }
   },
   "outputs": [
    {
     "name": "stdout",
     "output_type": "stream",
     "text": [
      "Run exists. Skipping...\n",
      "Run exists. Skipping...\n",
      "Run exists. Skipping...\n",
      "Run exists. Skipping...\n",
      "Run exists. Skipping...\n",
      "Running: java -cp bin/ treeembedding.tests.Dynamic 0 10 1\n",
      "Run exists. Skipping...\n",
      "Run exists. Skipping...\n",
      "Running: java -cp bin/ treeembedding.tests.Dynamic 0 10 2\n",
      "Run exists. Skipping...\n",
      "Run exists. Skipping...\n",
      "Running: java -cp bin/ treeembedding.tests.Dynamic 0 10 3\n",
      "Run exists. Skipping...\n",
      "Run exists. Skipping...\n",
      "Running: java -cp bin/ treeembedding.tests.Dynamic 0 10 4\n",
      "Run exists. Skipping...\n",
      "Run exists. Skipping...\n",
      "Running: java -cp bin/ treeembedding.tests.Dynamic 0 10 5\n",
      "Run exists. Skipping...\n",
      "Run exists. Skipping...\n",
      "Running: java -cp bin/ treeembedding.tests.Dynamic 0 10 6\n",
      "Run exists. Skipping...\n",
      "Run exists. Skipping...\n",
      "Running: java -cp bin/ treeembedding.tests.Dynamic 0 10 7\n",
      "Run exists. Skipping...\n",
      "Run exists. Skipping...\n",
      "Running: java -cp bin/ treeembedding.tests.Dynamic 0 10 8\n",
      "Done.\n"
     ]
    }
   ],
   "source": [
    "for step in range(0,9):\n",
    "    run_dynamic(0, silentwhispers, 2, 3, step)\n",
    "    run_dynamic(0, speedymurmurs, 2, 3, step)\n",
    "    run_dynamic(0, maxflow, 2, 3, step)\n",
    "print('Done.')"
   ]
  },
  {
   "cell_type": "markdown",
   "metadata": {
    "ein.tags": "worksheet-0",
    "slideshow": {
     "slide_type": "-"
    }
   },
   "source": [
    "### Generate plots from data"
   ]
  },
  {
   "cell_type": "code",
   "execution_count": 113,
   "metadata": {
    "autoscroll": false,
    "ein.hycell": false,
    "ein.tags": "worksheet-0",
    "slideshow": {
     "slide_type": "-"
    }
   },
   "outputs": [
    {
     "data": {
      "text/plain": [
       "<matplotlib.legend.Legend at 0x12e71c550>"
      ]
     },
     "execution_count": 113,
     "metadata": {},
     "output_type": "execute_result"
    },
    {
     "data": {
      "image/png": "[encoded data removed]",
      "text/plain": [
       "<Figure size 432x288 with 1 Axes>"
      ]
     },
     "metadata": {
      "needs_background": "light"
     },
     "output_type": "display_data"
    }
   ],
   "source": [
    "filename = '/cnet-succR.txt'\n",
    "\n",
    "sw_succr_list = []\n",
    "sm_succr_list = []\n",
    "sw_succr_dict = {}\n",
    "sm_succr_dict = {}\n",
    "m_succr_dict = {}\n",
    "for step in range(0, 9):\n",
    "    m_file_path = get_dynamic_data_path(maxflow, 3, 2, step) + filename\n",
    "    sw_file_path = get_dynamic_data_path(silentwhispers, 3, 2, step) + filename\n",
    "    sm_file_path = get_dynamic_data_path(speedymurmurs, 3, 2, step) + filename\n",
    "\n",
    "    # get succR for SW for each epoch\n",
    "    sw_new_dict = convert_kv_file_to_dict(sw_file_path)\n",
    "    sm_new_dict = convert_kv_file_to_dict(sm_file_path)\n",
    "    m_new_dict = convert_kv_file_to_dict(m_file_path)\n",
    "    \n",
    "    sw_succr_dict = merge_dicts(sw_new_dict, sw_succr_dict)\n",
    "    sm_succr_dict = merge_dicts(sm_new_dict, sm_succr_dict)\n",
    "    m_succr_dict = merge_dicts(m_new_dict, m_succr_dict)\n",
    "\n",
    "# update SW dict by dividing each value by the corresponding value in the M dict\n",
    "for k,v in sw_succr_dict.items():\n",
    "    if k in m_succr_dict:\n",
    "        if m_succr_dict[k] == 0:\n",
    "            sw_succr_dict[k] = 1\n",
    "        else:\n",
    "            sw_succr_dict[k] = v/m_succr_dict[k]\n",
    "\n",
    "# update SM dict by dividing each value by the corresponding value in the M dict\n",
    "for k,v in sm_succr_dict.items():\n",
    "    if k in m_succr_dict:\n",
    "        if m_succr_dict[k] == 0:\n",
    "            sm_succr_dict[k] = 1\n",
    "        else:\n",
    "            sm_succr_dict[k] = v/m_succr_dict[k]\n",
    "\n",
    "sw_succr_list = dict_to_list(sw_succr_dict, 801)\n",
    "sm_succr_list = dict_to_list(sm_succr_dict, 801)\n",
    "\n",
    "matplotlib.pyplot.axis([0,700,0,1])\n",
    "matplotlib.pyplot.plot(range(50, 801), running_mean(sw_succr_list, 50), 'r*-', markersize=1, linewidth=1, label='SilentWhispers')\n",
    "\n",
    "matplotlib.pyplot.plot(range(50, 801), running_mean(sm_succr_list, 50), 'b*-', markersize=1, linewidth=1, label='SpeedyMurmurs')\n",
    "matplotlib.pyplot.legend(loc=(0,1), scatterpoints=10)\n",
    "\n"
   ]
  },
  {
   "cell_type": "markdown",
   "metadata": {
    "ein.tags": "worksheet-0",
    "slideshow": {
     "slide_type": "-"
    }
   },
   "source": [
    "# Plot topology"
   ]
  },
  {
   "cell_type": "markdown",
   "metadata": {
    "ein.tags": "worksheet-0",
    "slideshow": {
     "slide_type": "-"
    }
   },
   "source": [
    "## Define graph"
   ]
  },
  {
   "cell_type": "code",
   "execution_count": 9,
   "metadata": {
    "autoscroll": false,
    "ein.hycell": false,
    "ein.tags": "worksheet-0",
    "slideshow": {
     "slide_type": "-"
    }
   },
   "outputs": [
    {
     "name": "stdout",
     "output_type": "stream",
     "text": [
      "Skipping metadata, line: 1\n",
      "Skipping metadata, line: 2\n",
      "Skipping metadata, line: 3\n",
      "Skipping metadata, line: 4\n",
      "Skipping metadata, line: 5\n",
      "Skipping metadata, line: 6\n",
      "Skipping metadata, line: 7\n",
      "node_id: 0\n",
      "node_id: 1\n",
      "node_id: 2\n",
      "node_id: 3\n",
      "node_id: 4\n",
      "node_id: 5\n",
      "node_id: 6\n",
      "node_id: 7\n",
      "Done\n"
     ]
    }
   ],
   "source": [
    "topology_file = '../data/finalSets/static/ripple-lcc.graph'\n",
    "\n",
    "G = read_graph_file(topology_file)"
   ]
  },
  {
   "cell_type": "markdown",
   "metadata": {
    "ein.tags": "worksheet-0",
    "slideshow": {
     "slide_type": "-"
    }
   },
   "source": [
    "# Performance Under Attack"
   ]
  },
  {
   "cell_type": "markdown",
   "metadata": {
    "ein.tags": "worksheet-0",
    "slideshow": {
     "slide_type": "-"
    }
   },
   "source": [
    "## Success ratio vs. Number of attackers\n",
    "\n",
    "### Generate list of configurations"
   ]
  },
  {
   "cell_type": "code",
   "execution_count": 3,
   "metadata": {
    "autoscroll": false,
    "ein.hycell": false,
    "ein.tags": "worksheet-0",
    "slideshow": {
     "slide_type": "-"
    }
   },
   "outputs": [],
   "source": [
    "import simulation_utils as su\n",
    "import simulation_common as sc\n",
    "\n",
    "config_dict_list_srvna_sm = []\n",
    "config_dict_list_srvna_sw = []\n",
    "for data_set in range(0, 10):\n",
    "    for alg in [sc.speedymurmurs, sc.silentwhispers]:\n",
    "    # for alg in [silentwhispers]:\n",
    "        for attackers in range(0, 30001, 5000):\n",
    "        # for attackers in range(30000, 30001, 5000):\n",
    "            config = f'''\n",
    "data_set_name: full-{data_set}\n",
    "base: ../data/finalSets/static\n",
    "topology: ripple-lcc.graph\n",
    "link_weights: ripple-lcc.graph_CREDIT_LINKS\n",
    "transaction_set: sampleTr-{data_set}.txt\n",
    "simulation_type: static\n",
    "force_overwrite: false\n",
    "routing_algorithm: \"{alg}\"\n",
    "attempts: 1\n",
    "trees: 3\n",
    "attack_properties:\n",
    "    attackers: {attackers}\n",
    "    attacker_selection: \"random\"\n",
    "    attack_type: drop_all\n",
    "iterations: 1\n",
    "concurrent_transactions: False\n",
    "'''\n",
    "            if alg == sc.speedymurmurs:\n",
    "                config_dict_list_srvna_sm.append(sc.parse_config(config))\n",
    "            elif alg == sc.silentwhispers:\n",
    "                config_dict_list_srvna_sw.append(sc.parse_config(config))\n",
    "\n"
   ]
  },
  {
   "cell_type": "markdown",
   "metadata": {
    "ein.tags": "worksheet-0",
    "slideshow": {
     "slide_type": "-"
    }
   },
   "source": [
    "### Plot results"
   ]
  },
  {
   "cell_type": "code",
   "execution_count": 4,
   "metadata": {
    "autoscroll": false,
    "ein.hycell": false,
    "ein.tags": "worksheet-0",
    "slideshow": {
     "slide_type": "-"
    }
   },
   "outputs": [
    {
     "ename": "FileNotFoundError",
     "evalue": "[Errno 2] No such file or directory: '/Users/ben/workspace/credit-networks/speedy-murmurs-simulator/data/static-full-0-silentwhispers-3-1-1/READABLE_FILE_SW-PER-MUL-67149/0/CREDIT_NETWORK-STATIC-1000.0-TREE_ROUTE_SILENTW-false-true-3-2000.0-RANDOM_PARTITIONER-1/_singles.txt'",
     "output_type": "error",
     "traceback": [
      "\u001b[0;31m---------------------------------------------------------------------------\u001b[0m",
      "\u001b[0;31mFileNotFoundError\u001b[0m                         Traceback (most recent call last)",
      "\u001b[0;32m<ipython-input-4-80d9aa979e9f>\u001b[0m in \u001b[0;36m<module>\u001b[0;34m\u001b[0m\n\u001b[1;32m      6\u001b[0m \u001b[0mstatic_node_count\u001b[0m \u001b[0;34m=\u001b[0m \u001b[0;36m67149\u001b[0m\u001b[0;34m\u001b[0m\u001b[0;34m\u001b[0m\u001b[0m\n\u001b[1;32m      7\u001b[0m \u001b[0;34m\u001b[0m\u001b[0m\n\u001b[0;32m----> 8\u001b[0;31m \u001b[0msilentwhispers_data\u001b[0m \u001b[0;34m=\u001b[0m \u001b[0msu\u001b[0m\u001b[0;34m.\u001b[0m\u001b[0mextract_from_singles_config_average\u001b[0m\u001b[0;34m(\u001b[0m\u001b[0mconfig_dict_list_srvna_sw\u001b[0m\u001b[0;34m,\u001b[0m \u001b[0mkey\u001b[0m\u001b[0;34m,\u001b[0m \u001b[0;34m\"attack_properties\"\u001b[0m\u001b[0;34m,\u001b[0m \u001b[0;34m\"attackers\"\u001b[0m\u001b[0;34m)\u001b[0m\u001b[0;34m\u001b[0m\u001b[0;34m\u001b[0m\u001b[0m\n\u001b[0m\u001b[1;32m      9\u001b[0m \u001b[0mspeedymurmurs_data\u001b[0m \u001b[0;34m=\u001b[0m \u001b[0msu\u001b[0m\u001b[0;34m.\u001b[0m\u001b[0mextract_from_singles_config_average\u001b[0m\u001b[0;34m(\u001b[0m\u001b[0mconfig_dict_list_srvna_sm\u001b[0m\u001b[0;34m,\u001b[0m \u001b[0mkey\u001b[0m\u001b[0;34m,\u001b[0m \u001b[0;34m\"attack_properties\"\u001b[0m\u001b[0;34m,\u001b[0m \u001b[0;34m\"attackers\"\u001b[0m\u001b[0;34m)\u001b[0m\u001b[0;34m\u001b[0m\u001b[0;34m\u001b[0m\u001b[0m\n\u001b[1;32m     10\u001b[0m \u001b[0;34m\u001b[0m\u001b[0m\n",
      "\u001b[0;32m~/workspace/credit-networks/speedy-murmurs-simulator/simulation_utils.py\u001b[0m in \u001b[0;36mextract_from_singles_config_average\u001b[0;34m(config_dict_list, key, sorting_key1, sorting_key2)\u001b[0m\n\u001b[1;32m     37\u001b[0m             \u001b[0mstatic_data_path\u001b[0m \u001b[0;34m=\u001b[0m \u001b[0mcommon\u001b[0m\u001b[0;34m.\u001b[0m\u001b[0mget_static_data_path_config\u001b[0m\u001b[0;34m(\u001b[0m\u001b[0mconfig_dict\u001b[0m\u001b[0;34m)\u001b[0m\u001b[0;34m\u001b[0m\u001b[0;34m\u001b[0m\u001b[0m\n\u001b[1;32m     38\u001b[0m             \u001b[0mdata_path\u001b[0m \u001b[0;34m=\u001b[0m \u001b[0mos\u001b[0m\u001b[0;34m.\u001b[0m\u001b[0mgetcwd\u001b[0m\u001b[0;34m(\u001b[0m\u001b[0;34m)\u001b[0m \u001b[0;34m+\u001b[0m \u001b[0;34mf'/{common.data_root}/'\u001b[0m \u001b[0;34m+\u001b[0m \u001b[0mcommon\u001b[0m\u001b[0;34m.\u001b[0m\u001b[0mget_output_base_path\u001b[0m\u001b[0;34m(\u001b[0m\u001b[0mconfig_dict\u001b[0m\u001b[0;34m)\u001b[0m \u001b[0;34m+\u001b[0m \u001b[0mstatic_data_path\u001b[0m\u001b[0;34m[\u001b[0m\u001b[0;36m0\u001b[0m\u001b[0;34m]\u001b[0m \u001b[0;34m+\u001b[0m \u001b[0mstatic_data_path\u001b[0m\u001b[0;34m[\u001b[0m\u001b[0;36m1\u001b[0m\u001b[0;34m]\u001b[0m \u001b[0;34m+\u001b[0m \u001b[0mcommon\u001b[0m\u001b[0;34m.\u001b[0m\u001b[0msingles\u001b[0m\u001b[0;34m\u001b[0m\u001b[0;34m\u001b[0m\u001b[0m\n\u001b[0;32m---> 39\u001b[0;31m             \u001b[0msingles_pairs\u001b[0m \u001b[0;34m=\u001b[0m \u001b[0mextract_kv_pairs_from_singles\u001b[0m\u001b[0;34m(\u001b[0m\u001b[0mdata_path\u001b[0m\u001b[0;34m)\u001b[0m\u001b[0;34m\u001b[0m\u001b[0;34m\u001b[0m\u001b[0m\n\u001b[0m\u001b[1;32m     40\u001b[0m             \u001b[0mvals\u001b[0m\u001b[0;34m.\u001b[0m\u001b[0mappend\u001b[0m\u001b[0;34m(\u001b[0m\u001b[0mfloat\u001b[0m\u001b[0;34m(\u001b[0m\u001b[0msingles_pairs\u001b[0m\u001b[0;34m[\u001b[0m\u001b[0mkey\u001b[0m\u001b[0;34m]\u001b[0m\u001b[0;34m)\u001b[0m\u001b[0;34m)\u001b[0m\u001b[0;34m\u001b[0m\u001b[0;34m\u001b[0m\u001b[0m\n\u001b[1;32m     41\u001b[0m         \u001b[0mx_vs_key\u001b[0m\u001b[0;34m.\u001b[0m\u001b[0mappend\u001b[0m\u001b[0;34m(\u001b[0m\u001b[0mnumpy\u001b[0m\u001b[0;34m.\u001b[0m\u001b[0mmean\u001b[0m\u001b[0;34m(\u001b[0m\u001b[0mvals\u001b[0m\u001b[0;34m)\u001b[0m\u001b[0;34m)\u001b[0m\u001b[0;34m\u001b[0m\u001b[0;34m\u001b[0m\u001b[0m\n",
      "\u001b[0;32m~/workspace/credit-networks/speedy-murmurs-simulator/simulation_utils.py\u001b[0m in \u001b[0;36mextract_kv_pairs_from_singles\u001b[0;34m(singles_path)\u001b[0m\n\u001b[1;32m     11\u001b[0m \u001b[0;32mdef\u001b[0m \u001b[0mextract_kv_pairs_from_singles\u001b[0m\u001b[0;34m(\u001b[0m\u001b[0msingles_path\u001b[0m\u001b[0;34m)\u001b[0m\u001b[0;34m:\u001b[0m\u001b[0;34m\u001b[0m\u001b[0;34m\u001b[0m\u001b[0m\n\u001b[1;32m     12\u001b[0m     \u001b[0mret\u001b[0m \u001b[0;34m=\u001b[0m \u001b[0;34m{\u001b[0m\u001b[0;34m}\u001b[0m\u001b[0;34m\u001b[0m\u001b[0;34m\u001b[0m\u001b[0m\n\u001b[0;32m---> 13\u001b[0;31m     \u001b[0;32mwith\u001b[0m \u001b[0mopen\u001b[0m\u001b[0;34m(\u001b[0m\u001b[0msingles_path\u001b[0m\u001b[0;34m,\u001b[0m \u001b[0;34m'r'\u001b[0m\u001b[0;34m)\u001b[0m \u001b[0;32mas\u001b[0m \u001b[0mf\u001b[0m\u001b[0;34m:\u001b[0m\u001b[0;34m\u001b[0m\u001b[0;34m\u001b[0m\u001b[0m\n\u001b[0m\u001b[1;32m     14\u001b[0m         \u001b[0;32mfor\u001b[0m \u001b[0mline\u001b[0m \u001b[0;32min\u001b[0m \u001b[0mf\u001b[0m\u001b[0;34m:\u001b[0m\u001b[0;34m\u001b[0m\u001b[0;34m\u001b[0m\u001b[0m\n\u001b[1;32m     15\u001b[0m             \u001b[0mk\u001b[0m\u001b[0;34m,\u001b[0m \u001b[0mv\u001b[0m \u001b[0;34m=\u001b[0m \u001b[0mline\u001b[0m\u001b[0;34m.\u001b[0m\u001b[0mrstrip\u001b[0m\u001b[0;34m(\u001b[0m\u001b[0;34m)\u001b[0m\u001b[0;34m.\u001b[0m\u001b[0msplit\u001b[0m\u001b[0;34m(\u001b[0m\u001b[0;34m'='\u001b[0m\u001b[0;34m)\u001b[0m\u001b[0;34m\u001b[0m\u001b[0;34m\u001b[0m\u001b[0m\n",
      "\u001b[0;31mFileNotFoundError\u001b[0m: [Errno 2] No such file or directory: '/Users/ben/workspace/credit-networks/speedy-murmurs-simulator/data/static-full-0-silentwhispers-3-1-1/READABLE_FILE_SW-PER-MUL-67149/0/CREDIT_NETWORK-STATIC-1000.0-TREE_ROUTE_SILENTW-false-true-3-2000.0-RANDOM_PARTITIONER-1/_singles.txt'"
     ]
    }
   ],
   "source": [
    "import matplotlib.pyplot\n",
    "%matplotlib inline\n",
    "import simulation_utils as su\n",
    "\n",
    "key = 'CREDIT_NETWORK_SUCCESS'\n",
    "static_node_count = 67149\n",
    "\n",
    "silentwhispers_data = su.extract_from_singles_config_average(config_dict_list_srvna_sw, key, \"attack_properties\", \"attackers\")\n",
    "speedymurmurs_data = su.extract_from_singles_config_average(config_dict_list_srvna_sm, key, \"attack_properties\", \"attackers\")\n",
    "\n",
    "matplotlib.pyplot.figure()\n",
    "#matplotlib.pyplot.title('Drop Percentage Attack (100% drop rate)', size='xx-large')\n",
    "matplotlib.pyplot.ylabel('Success Ratio', size='x-large')\n",
    "matplotlib.pyplot.xlabel('Byzantine Nodes (%)', size='x-large')\n",
    "matplotlib.pyplot.axis([0,30,0.0,1.0])\n",
    "\n",
    "%config InlineBackend.figure_format ='retina'\n",
    "perc = [i/static_node_count*100 for i in range(0,30001, 5000)]\n",
    "matplotlib.pyplot.plot(perc, silentwhispers_data, 'r*-', markersize=5, linewidth=1, label='SilentWhispers')\n",
    "matplotlib.pyplot.plot(perc, speedymurmurs_data, 'b*-', markersize=5, linewidth=1, label='SpeedyMurmurs')\n",
    "matplotlib.pyplot.legend(loc=(0,0), scatterpoints=10)"
   ]
  },
  {
   "cell_type": "code",
   "execution_count": 1,
   "metadata": {
    "autoscroll": false,
    "ein.hycell": false,
    "ein.tags": "worksheet-0",
    "slideshow": {
     "slide_type": "-"
    }
   },
   "outputs": [
    {
     "ename": "NameError",
     "evalue": "name 'config_dict_list_srvna_sw' is not defined",
     "output_type": "error",
     "traceback": [
      "\u001b[0;31m---------------------------------------------------------------------------\u001b[0m",
      "\u001b[0;31mNameError\u001b[0m                                 Traceback (most recent call last)",
      "\u001b[0;32m<ipython-input-1-797c3f7811ff>\u001b[0m in \u001b[0;36m<module>\u001b[0;34m\u001b[0m\n\u001b[1;32m      9\u001b[0m \u001b[0mdegrees_of_freedom\u001b[0m \u001b[0;34m=\u001b[0m \u001b[0;36m9\u001b[0m\u001b[0;34m\u001b[0m\u001b[0;34m\u001b[0m\u001b[0m\n\u001b[1;32m     10\u001b[0m \u001b[0;34m\u001b[0m\u001b[0m\n\u001b[0;32m---> 11\u001b[0;31m \u001b[0msilentwhispers_data\u001b[0m \u001b[0;34m=\u001b[0m \u001b[0msu\u001b[0m\u001b[0;34m.\u001b[0m\u001b[0mextract_from_singles_config\u001b[0m\u001b[0;34m(\u001b[0m\u001b[0mconfig_dict_list_srvna_sw\u001b[0m\u001b[0;34m,\u001b[0m \u001b[0mkey\u001b[0m\u001b[0;34m,\u001b[0m \u001b[0;34m\"attack_properties\"\u001b[0m\u001b[0;34m,\u001b[0m \u001b[0;34m\"attackers\"\u001b[0m\u001b[0;34m)\u001b[0m\u001b[0;34m\u001b[0m\u001b[0;34m\u001b[0m\u001b[0m\n\u001b[0m\u001b[1;32m     12\u001b[0m \u001b[0mspeedymurmurs_data\u001b[0m \u001b[0;34m=\u001b[0m \u001b[0msu\u001b[0m\u001b[0;34m.\u001b[0m\u001b[0mextract_from_singles_config\u001b[0m\u001b[0;34m(\u001b[0m\u001b[0mconfig_dict_list_srvna_sm\u001b[0m\u001b[0;34m,\u001b[0m \u001b[0mkey\u001b[0m\u001b[0;34m,\u001b[0m \u001b[0;34m\"attack_properties\"\u001b[0m\u001b[0;34m,\u001b[0m \u001b[0;34m\"attackers\"\u001b[0m\u001b[0;34m)\u001b[0m\u001b[0;34m\u001b[0m\u001b[0;34m\u001b[0m\u001b[0m\n\u001b[1;32m     13\u001b[0m \u001b[0;34m\u001b[0m\u001b[0m\n",
      "\u001b[0;31mNameError\u001b[0m: name 'config_dict_list_srvna_sw' is not defined"
     ]
    }
   ],
   "source": [
    "import matplotlib.pyplot as plt\n",
    "%matplotlib inline\n",
    "import simulation_utils as su\n",
    "import scipy.stats as ss\n",
    "import numpy as np\n",
    "\n",
    "key = 'CREDIT_NETWORK_SUCCESS'\n",
    "static_node_count = 67149\n",
    "degrees_of_freedom = 9\n",
    "\n",
    "silentwhispers_data = su.extract_from_singles_config(config_dict_list_srvna_sw, key, \"attack_properties\", \"attackers\")\n",
    "speedymurmurs_data = su.extract_from_singles_config(config_dict_list_srvna_sm, key, \"attack_properties\", \"attackers\")\n",
    "\n",
    "plt.figure()\n",
    "#matplotlib.pyplot.title('Drop Percentage Attack (100% drop rate)', size='xx-large')\n",
    "plt.ylabel('Success Ratio', size='x-large')\n",
    "plt.xlabel('Byzantine Nodes (%)', size='x-large')\n",
    "plt.axis([0,30,0.0,1.0])\n",
    "\n",
    "%config InlineBackend.figure_format ='retina'\n",
    "perc = [i/static_node_count*100 for i in range(0,30001, 5000)]\n",
    "\n",
    "silentwhispers_data_avg = su.extract_from_singles_config_average(config_dict_list_srvna_sw, key, \"attack_properties\", \"attackers\")\n",
    "silentwhispers_data_std = su.extract_from_singles_config_stddev(config_dict_list_srvna_sw, key, \"attack_properties\", \"attackers\")\n",
    "data_m_sw=np.array(silentwhispers_data_avg)   #(Means of your data)\n",
    "data_sd_sw=np.array(silentwhispers_data_std)   #(Standard Deviations of your data)\n",
    "plt.errorbar(perc, data_m_sw, yerr=ss.t.ppf(0.95, degrees_of_freedom)*data_sd_sw, color='r', label='SilentWhispers', linewidth=1, elinewidth=4)\n",
    "\n",
    "speedymurmurs_data_avg = su.extract_from_singles_config_average(config_dict_list_srvna_sm, key, \"attack_properties\", \"attackers\")\n",
    "speedymurmurs_data_std = su.extract_from_singles_config_stddev(config_dict_list_srvna_sm, key, \"attack_properties\", \"attackers\")\n",
    "data_m_sm=np.array(speedymurmurs_data_avg)   #(Means of your data)\n",
    "data_sd_sm=np.array(speedymurmurs_data_std)   #(Standard Deviations of your data)\n",
    "plt.errorbar(perc, data_m_sm, yerr=ss.t.ppf(0.95, degrees_of_freedom)*data_sd_sm, color='b', label='SpeedyMurmurs', linewidth=1, elinewidth=2)\n",
    "\n",
    "#plt.xlim((-1,4))\n",
    "\n",
    "#plt.plot(perc, silentwhispers_data, 'r*-', markersize=5, linewidth=1, label='SilentWhispers')\n",
    "#plt.plot(perc, speedymurmurs_data, 'b*-', markersize=5, linewidth=1, label='SpeedyMurmurs')\n",
    "plt.legend(loc=(0,0), scatterpoints=10)"
   ]
  },
  {
   "cell_type": "markdown",
   "metadata": {},
   "source": [
    "# Baseline for concurrent runs"
   ]
  },
  {
   "cell_type": "code",
   "execution_count": 22,
   "metadata": {},
   "outputs": [
    {
     "name": "stdout",
     "output_type": "stream",
     "text": [
      "[18, 18, 18, 18, 18, 18, 18, 18, 18, 18]\n"
     ]
    }
   ],
   "source": [
    "import dynamic_latency_baseline as dlb\n",
    "dlb_configs = dlb.generate_configs()\n",
    "i = 0\n",
    "print([len(x) for x in dlb_configs])\n",
    "#for d in dlb_configs:\n",
    "#    print(d)"
   ]
  },
  {
   "cell_type": "code",
   "execution_count": 15,
   "metadata": {},
   "outputs": [
    {
     "data": {
      "text/plain": [
       "<matplotlib.legend.Legend at 0x11f4ae588>"
      ]
     },
     "execution_count": 15,
     "metadata": {},
     "output_type": "execute_result"
    },
    {
     "data": {
      "image/png": "[encoded data removed]",
      "text/plain": [
       "<Figure size 432x288 with 1 Axes>"
      ]
     },
     "metadata": {
      "image/png": {
       "height": 285,
       "width": 396
      },
      "needs_background": "light"
     },
     "output_type": "display_data"
    }
   ],
   "source": [
    "import matplotlib.pyplot as plt\n",
    "%matplotlib inline\n",
    "import simulation_utils as su\n",
    "import simulation_common as sc\n",
    "import scipy.stats as ss\n",
    "import numpy as np\n",
    "\n",
    "\n",
    "key = 'CREDIT_NETWORK_SUCCESS'\n",
    "buckets = {}\n",
    "for c in dlb_configs:\n",
    "    buckets = su.sort_singles_configs(c, buckets, \"routing_algorithm\")\n",
    "    \n",
    "\n",
    "singles = su.parse_dynamic_singles(buckets[sc.speedymurmurs])\n",
    "sm_average = su.average_singles(singles, key)\n",
    "\n",
    "singles = su.parse_dynamic_singles(buckets[sc.silentwhispers])\n",
    "sw_average = su.average_singles(singles, key)\n",
    "\n",
    "\n",
    "plt.figure()\n",
    "plt.title('Liquidity Exhaustion Attack', size='xx-large')\n",
    "plt.ylabel('Success Ratio', size='x-large')\n",
    "plt.xlabel('Delay (seconds)', size='x-large')\n",
    "plt.axis([0,30,0.0,1.0])\n",
    "\n",
    "%config InlineBackend.figure_format ='retina'\n",
    "#perc = [i for i in range(0,30001, 5000)]\n",
    "plt.plot(range(0, 1), sm_average, 'r*-', markersize=5, linewidth=1, label='SilentWhispers')\n",
    "plt.plot(range(0, 1), sw_average, 'b*-', markersize=5, linewidth=1, label='SpeedyMurmurs')\n",
    "plt.legend(loc=(.64, .85), scatterpoints=10)"
   ]
  },
  {
   "cell_type": "code",
   "execution_count": null,
   "metadata": {},
   "outputs": [],
   "source": []
  },
  {
   "cell_type": "code",
   "execution_count": null,
   "metadata": {},
   "outputs": [],
   "source": []
  }
 ],
 "metadata": {
  "kernelspec": {
   "display_name": "Python 3",
   "language": "python",
   "name": "python3"
  },
  "language_info": {
   "codemirror_mode": {
    "name": "ipython",
    "version": 3
   },
   "file_extension": ".py",
   "mimetype": "text/x-python",
   "name": "python",
   "nbconvert_exporter": "python",
   "pygments_lexer": "ipython3",
   "version": "3.7.3"
  },
  "name": "Payment-Channel-Network-Simulations.ipynb"
 },
 "nbformat": 4,
 "nbformat_minor": 2
}
