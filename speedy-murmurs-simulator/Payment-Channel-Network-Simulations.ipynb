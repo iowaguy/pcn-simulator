{
 "cells": [
  {
   "cell_type": "code",
   "execution_count": 115,
   "metadata": {
    "autoscroll": false,
    "collapsed": false,
    "ein.hycell": false,
    "ein.tags": "worksheet-0",
    "slideshow": {
     "slide_type": "-"
    }
   },
   "outputs": [
    {
     "name": "stdout",
     "output_type": "stream",
     "text": [
      "importing numpy on engine(s)\n",
      "importing matplotlib.pyplot on engine(s)\n",
      "importing subprocess on engine(s)\n",
      "importing networkx on engine(s)\n",
      "importing os on engine(s)\n",
      "importing shutil on engine(s)\n",
      "importing yaml on engine(s)\n",
      "importing ipyparallel on engine(s)\n",
      "importing __version__ from networkx on engine(s)\n"
     ]
    },
    {
     "name": "stdout",
     "output_type": "stream",
     "text": [
      "networkx: 2.2\n"
     ]
    }
   ],
   "source": [
    "import ipyparallel\n",
    "\n",
    "global ipyclient\n",
    "ipyclient = ipyparallel.Client()\n",
    "with ipyclient[:].sync_imports(local=True):\n",
    "    import numpy\n",
    "    import matplotlib.pyplot\n",
    "    import subprocess\n",
    "    import networkx\n",
    "    import os\n",
    "    import shutil\n",
    "    import yaml\n",
    "    import ipyparallel\n",
    "    from networkx import __version__ as networkxversion\n",
    "\n",
    "print('networkx: '+networkxversion)\n",
    "%matplotlib inline\n"
   ]
  },
  {
   "cell_type": "markdown",
   "metadata": {
    "ein.tags": "worksheet-0",
    "slideshow": {
     "slide_type": "-"
    }
   },
   "source": [
    "## General utility functions and variables"
   ]
  },
  {
   "cell_type": "code",
   "execution_count": 86,
   "metadata": {
    "autoscroll": false,
    "collapsed": false,
    "ein.hycell": false,
    "ein.tags": "worksheet-0",
    "slideshow": {
     "slide_type": "-"
    }
   },
   "outputs": [],
   "source": [
    "global singles\n",
    "global classpath\n",
    "global ID\n",
    "global silentwhispers\n",
    "global speedymurmurs\n",
    "global max_steps\n",
    "global max_attempts\n",
    "global max_trees\n",
    "\n",
    "\n",
    "singles = '_singles.txt'\n",
    "classpath = 'target/pcn-simulator-1.0-SNAPSHOT-jar-with-dependencies.jar'\n",
    "ID = 'id'\n",
    "silentwhispers = 'silentwhispers'\n",
    "speedymurmurs = 'speedymurmurs'\n",
    "maxflow = 'maxflow'\n",
    "max_steps = 9\n",
    "max_attempts = 10\n",
    "max_trees = 7\n",
    "config_file_name = 'runconfig.yml'\n",
    "output_dir_default_base = 'data'\n",
    "\n",
    "algo_info = {\n",
    "    'silentwhispers':{\n",
    "        'token':'SW-PER-MUL',\n",
    "        'run_token':'SILENTW-false-true',\n",
    "        'short_name':'SW',\n",
    "        'id':0\n",
    "    },\n",
    "    'speedymurmurs':{\n",
    "        'token':'V-DYN',\n",
    "        'run_token':'TDRAP-true-false',\n",
    "        'short_name':'SM',\n",
    "        'id':7\n",
    "    },\n",
    "    'maxflow':{\n",
    "        'short_name':'M',\n",
    "        'id':10\n",
    "    }\n",
    "}\n",
    "static_node_count = '67149'\n",
    "dynamic_node_count = '93502'\n",
    "\n",
    "data_root = 'data'\n",
    "static_data_root = 'data/static/'\n",
    "dynamic_data_root = f'{data_root}'\n",
    "\n",
    "dynamic_epoch = '165552.45497208898'\n",
    "static_epoch = '1000.0'\n",
    "\n",
    "\n",
    "def get_static_data_path_config(config_dict):\n",
    "    algo = config_dict[\"routing_algorithm\"]\n",
    "    dir = f'{config_dict[\"simulation_type\"]}-{config_dict[\"data_set_name\"]}-{algo}-{config_dict[\"trees\"]}-{config_dict[\"attempts\"]}-{config_dict[\"iterations\"]}'\n",
    "    if not config_dict[\"attack_properties\"] == None and config_dict[\"attack_properties\"][\"attackers\"] != 0:\n",
    "        dir += f'-{config_dict[\"attack_properties\"][\"attack_type\"]}-{config_dict[\"attack_properties\"][\"attacker_selection\"]}-{config_dict[\"attack_properties\"][\"attackers\"]}'\n",
    "\n",
    "    dir2 = f'/READABLE_FILE_{algo_info[algo][\"token\"]}-{static_node_count}/0/CREDIT_NETWORK-STATIC-{static_epoch}-TREE_ROUTE_{algo_info[algo][\"run_token\"]}-{config_dict[\"trees\"]}-2000.0-RANDOM_PARTITIONER-{config_dict[\"attempts\"]}/'\n",
    "\n",
    "    return (dir, dir2)\n",
    "\n",
    "def get_static_data_path(algo, tree, attempts):\n",
    "    return f'{static_data_root}/READABLE_FILE_{algo_info[algo][\"token\"]}-{static_node_count}/0/CREDIT_NETWORK-STATIC-{static_epoch}-TREE_ROUTE_{algo_info[algo][\"run_token\"]}-{tree}-2000.0-RANDOM_PARTITIONER-{attempts}'\n",
    "\n",
    "def get_dynamic_data_path(algo, tree, attempts, step):\n",
    "    step += 1\n",
    "    retries = attempts - 1\n",
    "    if algo == maxflow:\n",
    "        return f'{dynamic_data_root}/READABLE_FILE_{algo_info[algo][\"short_name\"]}-P{step}-{dynamic_node_count}/0/CREDIT_MAX_FLOW-0.0-0'\n",
    "    else:\n",
    "        return f'{dynamic_data_root}{algo_info[algo][\"short_name\"]}-P{step}-{dynamic_node_count}/0/CREDIT_NETWORK-{algo_info[algo][\"short_name\"]}-P{step}-{dynamic_epoch}-TREE_ROUTE_{algo_info[algo][\"run_token\"]}-{tree}-331.10490994417796-RANDOM_PARTITIONER-{retries}'\n",
    "\n",
    "def extract_kv_pairs_from_singles(singles_path):\n",
    "    ret = {}\n",
    "    with open(singles_path, 'r') as f:\n",
    "        for line in f:\n",
    "            k,v = line.rstrip().split('=')\n",
    "            ret[k] = v\n",
    "    return ret\n",
    "\n",
    "def extract_from_singles(algo, attempts, trees, key):\n",
    "    x_vs_key = []\n",
    "    for tree in range(1,trees+1):\n",
    "        data_path = get_static_data_path(algo, tree, attempts) + '/' + singles\n",
    "        singles_pairs = extract_kv_pairs_from_singles(data_path)\n",
    "        x_vs_key.append(float(singles_pairs[key]))\n",
    "    return x_vs_key\n",
    "\n",
    "# this will also calculate averages if there are multiple runs\n",
    "def extract_from_singles_config(config_dict_list, key, sorting_key1=None, sorting_key2=None):\n",
    "    x_vs_key = []\n",
    "    buckets = {}\n",
    "\n",
    "    # sort configs into buckets, where each bucket is the same except for the transaction set\n",
    "    # the key for the buckets is the property identified by sorting keys 1 and 2\n",
    "    for config_dict in config_dict_list:\n",
    "        if sorting_key1 and sorting_key2:\n",
    "            prop = config_dict[sorting_key1][sorting_key2]\n",
    "        elif sorting_key1:\n",
    "            prop = config_dict[sorting_key1]\n",
    "        elif sorting_key2:\n",
    "            raise Exception(\"ERROR: This should never be reached, dictionary is malformed\")\n",
    "        else:\n",
    "            raise Exception(\"ERROR: Key does not exist in dictionary\")\n",
    "\n",
    "        if prop not in buckets:\n",
    "            buckets[prop] = []\n",
    "\n",
    "        buckets[prop].append(config_dict)\n",
    "        # else:\n",
    "        #     # if there is no sorting key, then add to list directly\n",
    "        #     static_data_path = get_static_data_path_config(config_dict)\n",
    "        #     data_path = os.getcwd() + f'/{data_root}/' + static_data_path[0] + static_data_path[1] + singles\n",
    "        #     singles_pairs = extract_kv_pairs_from_singles(data_path)\n",
    "        #     x_vs_key.append(float(singles_pairs[key]))\n",
    "\n",
    "    for bucket in buckets:\n",
    "        vals = []\n",
    "        for config_dict in buckets[bucket]:\n",
    "            static_data_path = get_static_data_path_config(config_dict)\n",
    "            data_path = os.getcwd() + f'/{data_root}/' + static_data_path[0] + static_data_path[1] + singles\n",
    "            singles_pairs = extract_kv_pairs_from_singles(data_path)\n",
    "            vals.append(float(singles_pairs[key]))\n",
    "        x_vs_key.append(numpy.mean(vals))\n",
    "\n",
    "    return x_vs_key\n",
    "\n",
    "def extract_from_singles_attempts(algo, num_attempts, trees, key):\n",
    "    x_vs_key = []\n",
    "    for attempts in range(1,num_attempts+1):\n",
    "        data_path = get_static_data_path(algo, trees, attempts) + '/' + singles\n",
    "        singles_pairs = extract_kv_pairs_from_singles(data_path)\n",
    "        x_vs_key.append(float(singles_pairs[key]))\n",
    "    return x_vs_key\n",
    "\n",
    "def convert_kv_file_to_dict(filepath):\n",
    "    out_dict = {}\n",
    "    with open(filepath, 'r') as textfile:\n",
    "        for line in textfile:\n",
    "            k,v = line.rstrip().split('\\t')\n",
    "            out_dict[int(k)] = float(v)\n",
    "    return out_dict\n",
    "\n",
    "def dict_to_list(d, xrange):\n",
    "    out_list = []\n",
    "    for i in range(1,xrange):\n",
    "        if i in d:\n",
    "            out_list.append(d[i])\n",
    "        else:\n",
    "            out_list.append(0)\n",
    "    return out_list\n",
    "\n",
    "# repeated values are ignored\n",
    "def merge_dicts(dict1, dict2):\n",
    "    data_dict = {}\n",
    "    for k, v in dict1.items():\n",
    "        if k in dict2:\n",
    "            data_dict[k] = dict2[k]\n",
    "        else:\n",
    "            data_dict[k] = dict1[k]\n",
    "    return data_dict\n",
    "\n",
    "def create_output_dir(config_dict):\n",
    "    dir = os.getcwd() + f'/{output_dir_default_base}/' + get_static_data_path_config(config_dict)[0]\n",
    "    if not os.path.isdir(dir):\n",
    "        os.makedirs(dir)\n",
    "        return dir\n",
    "    elif config_dict[\"force_overwrite\"]:\n",
    "        shutil.rmtree(dir, ignore_errors=True)\n",
    "        os.makedirs(dir)\n",
    "        return dir\n",
    "\n"
   ]
  },
  {
   "cell_type": "markdown",
   "metadata": {
    "ein.tags": "worksheet-0",
    "slideshow": {
     "slide_type": "-"
    }
   },
   "source": [
    "## Run a single simulation"
   ]
  },
  {
   "cell_type": "code",
   "execution_count": 117,
   "metadata": {
    "autoscroll": false,
    "collapsed": false,
    "ein.hycell": false,
    "ein.tags": "worksheet-0",
    "slideshow": {
     "slide_type": "-"
    }
   },
   "outputs": [],
   "source": [
    "def run_static(transaction_set, algo, attempts, trees, attack, force=False):\n",
    "    # skip run if it has already happened\n",
    "    if not force and os.path.isdir(get_static_data_path(algo, trees, attempts)):\n",
    "        print('Run exists. Skipping...')\n",
    "        return\n",
    "    print(f'Running: java -cp {classpath} treeembedding.tests.Static {transaction_set} {algo_info[algo][ID]} {attempts} {trees} {attack}')\n",
    "    subprocess.run(['java', '-cp', f'{classpath}', 'treeembedding.tests.Static', f'{transaction_set}', f'{algo_info[algo][ID]}', f'{attempts}', f'{trees}', f'{attack}'], capture_output=True)\n",
    "\n",
    "def run_dynamic(transaction_set, algo, attempts, trees, step, force=False):\n",
    "    # skip run if it has already happened\n",
    "    if not force and os.path.isdir(get_dynamic_data_path(algo, trees, attempts, step)):\n",
    "        print('Run exists. Skipping...')\n",
    "        return\n",
    "    else:\n",
    "        print(f'Running: java -cp {classpath} treeembedding.tests.Dynamic {transaction_set} {algo_info[algo][ID]} {step}')\n",
    "        subprocess.run(['java', '-cp', f'{classpath}', 'treeembedding.tests.Dynamic', f'{transaction_set}', f'{algo_info[algo][ID]}', f'{step}'], capture_output=True)\n",
    "\n",
    "def run_static_config(config_dict, output_dir, force=False):\n",
    "    # import pdb; pdb.set_trace()\n",
    "    # skip run if it has already happened\n",
    "    if not force and os.path.isdir(get_static_data_path(config_dict['routing_algorithm'], config_dict['trees'], config_dict['attempts'])):\n",
    "        print('Run exists. Skipping...')\n",
    "        return\n",
    "    print(f'Running: java -cp {classpath} treeembedding.tests.Static {output_dir}')\n",
    "    subprocess.run(['java', '-cp', f'{classpath}', 'treeembedding.tests.Static', f'{output_dir}'], capture_output=True)\n",
    "\n",
    "def run_dynamic_config(transaction_set, algo, attempts, trees, step, force=False):\n",
    "    # skip run if it has already happened\n",
    "    if not force and os.path.isdir(get_dynamic_data_path(algo, trees, attempts, step)):\n",
    "        print('Run exists. Skipping...')\n",
    "        return\n",
    "    else:\n",
    "        print(f'Running: java -cp {classpath} treeembedding.tests.Dynamic {transaction_set} {algo_info[algo][ID]} {step}')\n",
    "        subprocess.run(['java', '-cp', f'{classpath}', 'treeembedding.tests.Dynamic', f'{transaction_set}', f'{algo_info[algo][ID]}', f'{step}'], capture_output=True)\n",
    "\n",
    "def parse_config(config_text):\n",
    "    try:\n",
    "        return yaml.safe_load(config_text)\n",
    "    except yaml.YAMLError as exc:\n",
    "        print(exc)\n",
    "\n",
    "def do_experiment(config_dict):\n",
    "\n",
    "    output_dir = create_output_dir(config_dict)\n",
    "    return output_dir\n",
    "    if output_dir == None:\n",
    "        # don't perform a run\n",
    "        print(\"Not performing run.\")\n",
    "        return\n",
    "\n",
    "    # store a copy of the config in the directory\n",
    "    config_file_path = output_dir + '/' + config_file_name\n",
    "    with open(config_file_path, \"w\") as f:\n",
    "        f.write(yaml.dump(config_dict))\n",
    "\n",
    "    if config_dict[\"simulation_type\"] == 'static':\n",
    "        run_static_config(config_dict, output_dir, config_dict['force_overwrite'])\n",
    "    elif config_dict[\"simulation_type\"] == 'dynamic':\n",
    "        run_dynamic(config_dict, output_dir)\n",
    "\n",
    "def do_experiments(config_dict_list):\n",
    "    ipyclient[:].push(dict(create_output_dir=create_output_dir, output_dir_default_base=output_dir_default_base, get_static_data_path_config=get_static_data_path_config, algo_info=algo_info, static_node_count=static_node_count, static_epoch=static_epoch, config_file_name=config_file_name, run_static_config=run_static_config, get_static_data_path=get_static_data_path, static_data_root=static_data_root, classpath=classpath))\n",
    "    a = ipyclient[:].map_async(do_experiment, config_dict_list)\n",
    "\n",
    "    for i,r in enumerate(a):\n",
    "        print(f\"task {i}; something: {r}\")\n",
    "\n",
    "\n",
    "\n"
   ]
  },
  {
   "cell_type": "markdown",
   "metadata": {
    "ein.tags": "worksheet-0",
    "slideshow": {
     "slide_type": "-"
    }
   },
   "source": [
    "# Figure 2"
   ]
  },
  {
   "cell_type": "markdown",
   "metadata": {
    "ein.tags": "worksheet-0",
    "slideshow": {
     "slide_type": "-"
    }
   },
   "source": [
    "## 2a\n",
    "The x-axis is the number of trees (or landmarks) used, and the y-axis is the ratio of successfully routed transaction to total transactions. Each point on the plot is the value of CREDIT_NETWORK_SUCCESS in _singles.txt for the run with that many trees. All of these runs use 2 attempts."
   ]
  },
  {
   "cell_type": "markdown",
   "metadata": {
    "ein.tags": "worksheet-0",
    "slideshow": {
     "slide_type": "-"
    }
   },
   "source": [
    "### Run simulations"
   ]
  },
  {
   "cell_type": "code",
   "execution_count": 23,
   "metadata": {
    "autoscroll": false,
    "collapsed": false,
    "ein.hycell": false,
    "ein.tags": "worksheet-0",
    "slideshow": {
     "slide_type": "-"
    }
   },
   "outputs": [
    {
     "name": "stdout",
     "output_type": "stream",
     "text": [
      "Run exists. Skipping...\n",
      "Running: java -cp bin/ treeembedding.tests.Static 0 7 1 1 1\n",
      "Run exists. Skipping...\n",
      "Running: java -cp bin/ treeembedding.tests.Static 0 7 1 2 1\n",
      "Run exists. Skipping...\n",
      "Running: java -cp bin/ treeembedding.tests.Static 0 7 1 3 1\n",
      "Run exists. Skipping...\n",
      "Running: java -cp bin/ treeembedding.tests.Static 0 7 1 4 1\n",
      "Run exists. Skipping...\n",
      "Running: java -cp bin/ treeembedding.tests.Static 0 7 1 5 1\n",
      "Run exists. Skipping...\n",
      "Running: java -cp bin/ treeembedding.tests.Static 0 7 1 6 1\n",
      "Run exists. Skipping...\n",
      "Running: java -cp bin/ treeembedding.tests.Static 0 7 1 7 1\n"
     ]
    }
   ],
   "source": [
    "attempts = 1\n",
    "transaction_set = 0\n",
    "attack = 1\n",
    "no_attack = 0\n",
    "for tree in range(1, max_trees+1):\n",
    "    run_static(transaction_set, silentwhispers, attempts, tree, no_attack)\n",
    "    run_static(transaction_set, speedymurmurs, attempts, tree, attack, force=True)\n",
    "print('Done.')"
   ]
  },
  {
   "cell_type": "markdown",
   "metadata": {
    "ein.tags": "worksheet-0",
    "slideshow": {
     "slide_type": "-"
    }
   },
   "source": [
    "### Generate plots from data"
   ]
  },
  {
   "cell_type": "code",
   "execution_count": 25,
   "metadata": {
    "autoscroll": false,
    "collapsed": false,
    "ein.hycell": false,
    "ein.tags": "worksheet-0",
    "slideshow": {
     "slide_type": "-"
    }
   },
   "outputs": [
    {
     "data": {
      "text/plain": [
       "<matplotlib.legend.Legend at 0x116102b70>"
      ]
     },
     "execution_count": 25,
     "metadata": {},
     "output_type": "execute_result"
    },
    {
     "data": {
      "image/png": "[encoded data removed]",
      "text/plain": [
       "<Figure size 432x288 with 1 Axes>"
      ]
     },
     "metadata": {
      "needs_background": "light"
     },
     "output_type": "display_data"
    }
   ],
   "source": [
    "attempts = 1\n",
    "key = 'CREDIT_NETWORK_SUCCESS'\n",
    "silentwhispers_data = extract_from_singles(silentwhispers, attempts, max_trees, key)\n",
    "speedymurmurs_data = extract_from_singles(speedymurmurs, attempts, max_trees, key)\n",
    "\n",
    "matplotlib.pyplot.figure()\n",
    "matplotlib.pyplot.title('Figure 2a', size='xx-large')\n",
    "matplotlib.pyplot.ylabel('Success Ratio', size='x-large')\n",
    "matplotlib.pyplot.xlabel('Trees', size='x-large')\n",
    "matplotlib.pyplot.axis([0,8,0.0,1.0])\n",
    "\n",
    "matplotlib.pyplot.plot(range(1,max_trees+1), silentwhispers_data, 'r*-', markersize=5, linewidth=1, label='SilentWhispers')\n",
    "matplotlib.pyplot.plot(range(1,max_trees+1), speedymurmurs_data, 'b*-', markersize=5, linewidth=1, label='SpeedyMurmurs')\n",
    "matplotlib.pyplot.legend(loc=(0,1), scatterpoints=10)\n"
   ]
  },
  {
   "cell_type": "markdown",
   "metadata": {
    "ein.tags": "worksheet-0",
    "slideshow": {
     "slide_type": "-"
    }
   },
   "source": [
    "## 2b\n",
    "The x-axis is the number of trees (or landmarks) used, and the y-axis is the number of hops a transaction took to reach its destination. Each point on the plot is the value of CREDIT_NETWORK_DELAY_AV in _singles.txt for the run with that many trees. All of these runs use 2 attempts.\n",
    "\n",
    "Same simulations as 2a.\n"
   ]
  },
  {
   "cell_type": "markdown",
   "metadata": {
    "ein.tags": "worksheet-0",
    "slideshow": {
     "slide_type": "-"
    }
   },
   "source": [
    "### Generate plots from data"
   ]
  },
  {
   "cell_type": "code",
   "execution_count": 21,
   "metadata": {
    "autoscroll": false,
    "collapsed": false,
    "ein.hycell": false,
    "ein.tags": "worksheet-0",
    "slideshow": {
     "slide_type": "-"
    }
   },
   "outputs": [
    {
     "data": {
      "text/plain": [
       "<matplotlib.legend.Legend at 0x11cc5bcc0>"
      ]
     },
     "execution_count": 21,
     "metadata": {},
     "output_type": "execute_result"
    },
    {
     "data": {
      "image/png": "[encoded data removed]",
      "text/plain": [
       "<Figure size 432x288 with 1 Axes>"
      ]
     },
     "metadata": {
      "needs_background": "light"
     },
     "output_type": "display_data"
    }
   ],
   "source": [
    "attempts = 1\n",
    "key = 'CREDIT_NETWORK_DELAY_AV'\n",
    "silentwhispers_data = extract_from_singles(silentwhispers, attempts, max_trees, key)\n",
    "speedymurmurs_data = extract_from_singles(speedymurmurs, attempts, max_trees, key)\n",
    "\n",
    "matplotlib.pyplot.figure()\n",
    "matplotlib.pyplot.title('Figure 2b', size='xx-large')\n",
    "matplotlib.pyplot.ylabel('(Hop) Delay', size='x-large')\n",
    "matplotlib.pyplot.xlabel('Trees', size='x-large')\n",
    "matplotlib.pyplot.axis([0,8,0,30])\n",
    "\n",
    "matplotlib.pyplot.plot(range(1,max_trees+1), silentwhispers_data, 'r*-', markersize=5, linewidth=1, label='SilentWhispers')\n",
    "matplotlib.pyplot.plot(range(1,max_trees+1), speedymurmurs_data, 'b*-', markersize=5, linewidth=1, label='SpeedyMurmurs')\n",
    "matplotlib.pyplot.legend(loc=(0,1), scatterpoints=10)\n"
   ]
  },
  {
   "cell_type": "markdown",
   "metadata": {
    "ein.tags": "worksheet-0",
    "slideshow": {
     "slide_type": "-"
    }
   },
   "source": [
    "## 2c\n",
    "The x-axis is the number of times a failed transaction should be retried, and the y-axis is the ratio of successfully routed transaction to total transactions. Each point on the plot is the value of CREDIT_NETWORK_SUCCESS in \\_singles.txt for the run with that many retries. All of these runs use 3 landmarks."
   ]
  },
  {
   "cell_type": "markdown",
   "metadata": {
    "ein.tags": "worksheet-0",
    "slideshow": {
     "slide_type": "-"
    }
   },
   "source": [
    "### Run simulations"
   ]
  },
  {
   "cell_type": "code",
   "execution_count": null,
   "metadata": {
    "autoscroll": false,
    "collapsed": false,
    "ein.hycell": false,
    "ein.tags": "worksheet-0",
    "slideshow": {
     "slide_type": "-"
    }
   },
   "outputs": [
    {
     "name": "stdout",
     "output_type": "stream",
     "text": [
      "Run exists. Skipping...\n",
      "Run exists. Skipping...\n",
      "Run exists. Skipping...\n",
      "Run exists. Skipping...\n",
      "Run exists. Skipping...\n",
      "Run exists. Skipping...\n",
      "Run exists. Skipping...\n",
      "Run exists. Skipping...\n",
      "Run exists. Skipping...\n",
      "Run exists. Skipping...\n",
      "Run exists. Skipping...\n",
      "Run exists. Skipping...\n",
      "Run exists. Skipping...\n",
      "Run exists. Skipping...\n",
      "Run exists. Skipping...\n",
      "Running: java -cp bin/ treeembedding.tests.Static 0 7 8 3\n"
     ]
    }
   ],
   "source": [
    "trees = 3\n",
    "transaction_set = 0\n",
    "for attempt in range(1, max_attempts+1):\n",
    "    run_static(transaction_set, silentwhispers, attempt, trees)\n",
    "    run_static(transaction_set, speedymurmurs, attempt, trees)\n",
    "print('Done.')  \n",
    "    "
   ]
  },
  {
   "cell_type": "markdown",
   "metadata": {
    "ein.tags": "worksheet-0",
    "slideshow": {
     "slide_type": "-"
    }
   },
   "source": [
    "### Generate plots from data"
   ]
  },
  {
   "cell_type": "code",
   "execution_count": 23,
   "metadata": {
    "autoscroll": false,
    "collapsed": false,
    "ein.hycell": false,
    "ein.tags": "worksheet-0",
    "scrolled": true,
    "slideshow": {
     "slide_type": "-"
    }
   },
   "outputs": [
    {
     "data": {
      "text/plain": [
       "<matplotlib.legend.Legend at 0x11cd33048>"
      ]
     },
     "execution_count": 23,
     "metadata": {},
     "output_type": "execute_result"
    },
    {
     "data": {
      "image/png": "[encoded data removed]",
      "text/plain": [
       "<Figure size 432x288 with 1 Axes>"
      ]
     },
     "metadata": {
      "needs_background": "light"
     },
     "output_type": "display_data"
    }
   ],
   "source": [
    "trees = 3\n",
    "key = 'CREDIT_NETWORK_SUCCESS'\n",
    "silentwhispers_data = extract_from_singles_attempts(silentwhispers, max_attempts, trees, key)\n",
    "speedymurmurs_data = extract_from_singles_attempts(speedymurmurs, max_attempts, trees, key)\n",
    "\n",
    "matplotlib.pyplot.figure()\n",
    "matplotlib.pyplot.title('Figure 2c', size='xx-large')\n",
    "matplotlib.pyplot.ylabel('Success Ratio', size='x-large')\n",
    "matplotlib.pyplot.xlabel('Attempts', size='x-large')\n",
    "matplotlib.pyplot.axis([0,10,0.0,1.0])\n",
    "\n",
    "matplotlib.pyplot.plot(range(1,max_attempts+1), silentwhispers_data, 'r*-', markersize=5, linewidth=1, label='SilentWhispers')\n",
    "matplotlib.pyplot.plot(range(1,max_attempts+1), speedymurmurs_data, 'b*-', markersize=5, linewidth=1, label='SpeedyMurmurs')\n",
    "matplotlib.pyplot.legend(loc=(0,1), scatterpoints=10)\n"
   ]
  },
  {
   "cell_type": "markdown",
   "metadata": {
    "ein.tags": "worksheet-0",
    "slideshow": {
     "slide_type": "-"
    }
   },
   "source": [
    "## Figure 3 Plots"
   ]
  },
  {
   "cell_type": "markdown",
   "metadata": {
    "ein.tags": "worksheet-0",
    "slideshow": {
     "slide_type": "-"
    }
   },
   "source": [
    "## 3a\n",
    "This is generated from the Ripple transaction data set, not from the simulator. The x-axis is the epoch number with epochs being of length 1000\\*delta\\_av, where delta\\_av is calculated from the data set as the average time between two subsequent transactions. The y-axis is either the number of transactions or the number of transactions or link changes in that epoch. The number of transactions are determined by counting lines in the ripple transaction data set (for the epoch in question), and the link changes are determined by counting the number of lines in the newlinks data set (jan2013-newlinks-lcc-sorted-uniq-t\\*.txt) for the epoch in question."
   ]
  },
  {
   "cell_type": "markdown",
   "metadata": {
    "ein.tags": "worksheet-0",
    "slideshow": {
     "slide_type": "-"
    }
   },
   "source": [
    "### Generate plots from data"
   ]
  },
  {
   "cell_type": "code",
   "execution_count": 8,
   "metadata": {
    "autoscroll": false,
    "collapsed": false,
    "ein.hycell": false,
    "ein.tags": "worksheet-0",
    "scrolled": true,
    "slideshow": {
     "slide_type": "-"
    }
   },
   "outputs": [
    {
     "data": {
      "text/plain": [
       "<matplotlib.legend.Legend at 0x134797518>"
      ]
     },
     "execution_count": 8,
     "metadata": {},
     "output_type": "execute_result"
    },
    {
     "data": {
      "image/png": "[encoded data removed]",
      "text/plain": [
       "<Figure size 432x288 with 1 Axes>"
      ]
     },
     "metadata": {
      "needs_background": "light"
     },
     "output_type": "display_data"
    }
   ],
   "source": [
    "def get_epoch_length(transactions_file):\n",
    "    transactions_list = []\n",
    "    for i in range(1, 10):\n",
    "        transactions_list = read_transactions_file(transactions_file.format(i), transactions_list)\n",
    "\n",
    "    # sum the time between subsequent transctions\n",
    "    sum_delta = 0\n",
    "    for i in range(1, len(transactions_list)):\n",
    "        sum_delta += transactions_list[i][0] - transactions_list[i - 1][0]\n",
    "    delta_av = sum_delta/len(transactions_list)\n",
    "    return (delta_av * 1000, transactions_list)\n",
    "\n",
    "def read_link_changes_files(link_changes_file):\n",
    "    link_changes_list = []\n",
    "    for i in range(1, 10):\n",
    "        link_changes_list = read_link_changes_file(link_changes_file.format(i), link_changes_list)\n",
    "    return link_changes_list\n",
    "\n",
    "def read_link_changes_file(link_changes_file, link_changes_list = []):\n",
    "    with open(link_changes_file, 'r') as link_changes:\n",
    "        count = 0\n",
    "        for link_change in link_changes:\n",
    "            lc = link_change.split(\" \")\n",
    "            # time, source, destination, amount\n",
    "            link_changes_list.append((int(lc[0]), lc[1], lc[2], lc[3]))\n",
    "\n",
    "        return link_changes_list\n",
    "\n",
    "def calculate_events_per_epoch(epoch_length, events):\n",
    "    cur_epoch = 1\n",
    "    next_epoch_starts = epoch_length\n",
    "\n",
    "    events_in_current_epoch = 0\n",
    "    events_per_epoch = {}\n",
    "    for event in events:\n",
    "        if event[0] < next_epoch_starts:\n",
    "            events_in_current_epoch += 1\n",
    "        else:\n",
    "            events_per_epoch[cur_epoch] = events_in_current_epoch\n",
    "            next_epoch_starts += epoch_length\n",
    "            cur_epoch += 1\n",
    "            # should be 1 because it needs to include the current transaction\n",
    "            events_in_current_epoch = 1\n",
    "    return events_per_epoch\n",
    "\n",
    "def read_transactions_file(transactions_file, transactions_list = []):\n",
    "    with open(transactions_file, 'r') as transactions:\n",
    "        count = 0\n",
    "        for transaction in transactions:\n",
    "            t = transaction.split(\" \")\n",
    "            if len(t) == 4:\n",
    "                # time, amount, source, destination\n",
    "                transactions_list.append((int(t[0]), t[1], t[2], t[3]))\n",
    "            elif len(t) == 3:\n",
    "                # time, amount, source, destination\n",
    "                transactions_list.append((count, t[1], t[2], t[3]))\n",
    "                count += 1\n",
    "\n",
    "        return transactions_list\n",
    "\n",
    "transactions_file = '../data/finalSets/dynamic/jan2013-trans-lcc-noself-uniq-{0}.txt'\n",
    "link_changes_file = '../data/finalSets/dynamic/jan2013-newlinks-lcc-sorted-uniq-t{0}.txt'\n",
    "epoch_length, transactions = get_epoch_length(transactions_file)\n",
    "link_changes = read_link_changes_files(link_changes_file)\n",
    "\n",
    "\n",
    "transactions_per_epoch = calculate_events_per_epoch(epoch_length, transactions)\n",
    "link_changes_per_epoch = calculate_events_per_epoch(epoch_length, link_changes)\n",
    "lc_per_epoch_list = dict_to_list(link_changes_per_epoch, 801)\n",
    "\n",
    "matplotlib.pyplot.figure()\n",
    "matplotlib.pyplot.title('Figure 3a', size='xx-large')\n",
    "matplotlib.pyplot.ylabel('Count', size='x-large')\n",
    "matplotlib.pyplot.xlabel('Epoch Number', size='x-large')\n",
    "matplotlib.pyplot.axis([0,700,0,25000])\n",
    "\n",
    "matplotlib.pyplot.plot(range(1, 801), transactions_per_epoch.values(), 'ro', markersize=1, linewidth=1, label='Transactions')\n",
    "matplotlib.pyplot.plot(range(1, 801), lc_per_epoch_list, 'bo', markersize=1, linewidth=1, label='Set Link')\n",
    "matplotlib.pyplot.legend(loc=(0,1), scatterpoints=10)\n"
   ]
  },
  {
   "cell_type": "markdown",
   "metadata": {
    "ein.tags": "worksheet-0",
    "slideshow": {
     "slide_type": "-"
    }
   },
   "source": [
    "## 3b\n",
    "The x-axis is the epoch number with epochs calculated as above. The y-axis is the number of stabilization messages for that epoch. The number of stabilization messages can be determined from the cnet-stab.txt file which tracks stabilization messages per epoch. All of these runs use 2 attempts and 3 landmarks."
   ]
  },
  {
   "cell_type": "markdown",
   "metadata": {
    "ein.tags": "worksheet-0",
    "slideshow": {
     "slide_type": "-"
    }
   },
   "source": [
    "### Run simulations"
   ]
  },
  {
   "cell_type": "code",
   "execution_count": 99,
   "metadata": {
    "autoscroll": false,
    "collapsed": false,
    "ein.hycell": false,
    "ein.tags": "worksheet-0",
    "slideshow": {
     "slide_type": "-"
    }
   },
   "outputs": [
    {
     "name": "stdout",
     "output_type": "stream",
     "text": [
      "Run exists. Skipping...\n",
      "Run exists. Skipping...\n",
      "Run exists. Skipping...\n",
      "Run exists. Skipping...\n",
      "Run exists. Skipping...\n",
      "Run exists. Skipping...\n",
      "Run exists. Skipping...\n",
      "Run exists. Skipping...\n",
      "Run exists. Skipping...\n",
      "Run exists. Skipping...\n",
      "Run exists. Skipping...\n",
      "Run exists. Skipping...\n",
      "Run exists. Skipping...\n",
      "Run exists. Skipping...\n",
      "Run exists. Skipping...\n",
      "Running: java -cp bin/ treeembedding.tests.Dynamic 0 7 7\n",
      "Run exists. Skipping...\n",
      "Running: java -cp bin/ treeembedding.tests.Dynamic 0 7 8\n",
      "Done.\n"
     ]
    }
   ],
   "source": [
    "for step in range(0,9):\n",
    "    run_dynamic(0, silentwhispers, 2, 3, step)\n",
    "    run_dynamic(0, speedymurmurs, 2, 3, step)\n",
    "print('Done.')"
   ]
  },
  {
   "cell_type": "markdown",
   "metadata": {
    "ein.tags": "worksheet-0",
    "slideshow": {
     "slide_type": "-"
    }
   },
   "source": [
    "### Generate plots from data"
   ]
  },
  {
   "cell_type": "code",
   "execution_count": 106,
   "metadata": {
    "autoscroll": false,
    "collapsed": false,
    "ein.hycell": false,
    "ein.tags": "worksheet-0",
    "slideshow": {
     "slide_type": "-"
    }
   },
   "outputs": [
    {
     "data": {
      "text/plain": [
       "<matplotlib.legend.Legend at 0x12b692390>"
      ]
     },
     "execution_count": 106,
     "metadata": {},
     "output_type": "execute_result"
    },
    {
     "data": {
      "image/png": "[encoded data removed]",
      "text/plain": [
       "<Figure size 432x288 with 1 Axes>"
      ]
     },
     "metadata": {
      "needs_background": "light"
     },
     "output_type": "display_data"
    }
   ],
   "source": [
    "stab_file = '/cnet-stab.txt'\n",
    "\n",
    "sw_stab_messages_list = []\n",
    "sm_stab_messages_list = []\n",
    "sw_stab_messages_dict = {}\n",
    "sm_stab_messages_dict = {}\n",
    "for step in range(0,9):\n",
    "    sw_file_path = get_dynamic_data_path(silentwhispers, 3, 2, step) + stab_file\n",
    "    sm_file_path = get_dynamic_data_path(speedymurmurs, 3, 2, step) + stab_file\n",
    "\n",
    "    # create dict of stab message values for both sw and sm\n",
    "    new_dict_sw = convert_kv_file_to_dict(sw_file_path)\n",
    "    new_dict_sm = convert_kv_file_to_dict(sm_file_path)\n",
    "\n",
    "    sw_stab_messages_dict = merge_dicts(new_dict_sw, sw_stab_messages_dict)\n",
    "    sm_stab_messages_dict = merge_dicts(new_dict_sm, sm_stab_messages_dict)\n",
    "\n",
    "sw_stab_messages_list = dict_to_list(sw_stab_messages_dict, 801)\n",
    "sm_stab_messages_list = dict_to_list(sm_stab_messages_dict, 801)\n",
    "\n",
    "matplotlib.pyplot.yscale('log')\n",
    "matplotlib.pyplot.axis([0,700,0,1e+10])\n",
    "matplotlib.pyplot.plot(range(1, 801), sw_stab_messages_list, 'ro', markersize=1, linewidth=1, label='SilentWhispers')\n",
    "matplotlib.pyplot.plot(range(1, 801), sm_stab_messages_list, 'bo', markersize=1, linewidth=1, label='SpeedyMurmurs')\n",
    "matplotlib.pyplot.legend(loc=(0,1), scatterpoints=10)"
   ]
  },
  {
   "cell_type": "markdown",
   "metadata": {
    "ein.tags": "worksheet-0",
    "slideshow": {
     "slide_type": "-"
    }
   },
   "source": [
    "## 3c\n",
    "The x-axis is the epoch number with epochs calculated as above. The y-axis is the ratio of the success rate of SpeedyMurmurs or SilentWhispers to the success rate of Ford-Fulkerson. The lines in the plot are represented as a moving average over 50 epochs. All of these runs use 2 attempts and 3 landmarks."
   ]
  },
  {
   "cell_type": "markdown",
   "metadata": {
    "ein.tags": "worksheet-0",
    "slideshow": {
     "slide_type": "-"
    }
   },
   "source": [
    "### Run simulations"
   ]
  },
  {
   "cell_type": "code",
   "execution_count": 100,
   "metadata": {
    "autoscroll": false,
    "collapsed": false,
    "ein.hycell": false,
    "ein.tags": "worksheet-0",
    "slideshow": {
     "slide_type": "-"
    }
   },
   "outputs": [
    {
     "name": "stdout",
     "output_type": "stream",
     "text": [
      "Run exists. Skipping...\n",
      "Run exists. Skipping...\n",
      "Run exists. Skipping...\n",
      "Run exists. Skipping...\n",
      "Run exists. Skipping...\n",
      "Running: java -cp bin/ treeembedding.tests.Dynamic 0 10 1\n",
      "Run exists. Skipping...\n",
      "Run exists. Skipping...\n",
      "Running: java -cp bin/ treeembedding.tests.Dynamic 0 10 2\n",
      "Run exists. Skipping...\n",
      "Run exists. Skipping...\n",
      "Running: java -cp bin/ treeembedding.tests.Dynamic 0 10 3\n",
      "Run exists. Skipping...\n",
      "Run exists. Skipping...\n",
      "Running: java -cp bin/ treeembedding.tests.Dynamic 0 10 4\n",
      "Run exists. Skipping...\n",
      "Run exists. Skipping...\n",
      "Running: java -cp bin/ treeembedding.tests.Dynamic 0 10 5\n",
      "Run exists. Skipping...\n",
      "Run exists. Skipping...\n",
      "Running: java -cp bin/ treeembedding.tests.Dynamic 0 10 6\n",
      "Run exists. Skipping...\n",
      "Run exists. Skipping...\n",
      "Running: java -cp bin/ treeembedding.tests.Dynamic 0 10 7\n",
      "Run exists. Skipping...\n",
      "Run exists. Skipping...\n",
      "Running: java -cp bin/ treeembedding.tests.Dynamic 0 10 8\n",
      "Done.\n"
     ]
    }
   ],
   "source": [
    "for step in range(0,9):\n",
    "    run_dynamic(0, silentwhispers, 2, 3, step)\n",
    "    run_dynamic(0, speedymurmurs, 2, 3, step)\n",
    "    run_dynamic(0, maxflow, 2, 3, step)\n",
    "print('Done.')"
   ]
  },
  {
   "cell_type": "markdown",
   "metadata": {
    "ein.tags": "worksheet-0",
    "slideshow": {
     "slide_type": "-"
    }
   },
   "source": [
    "### Generate plots from data"
   ]
  },
  {
   "cell_type": "code",
   "execution_count": 113,
   "metadata": {
    "autoscroll": false,
    "collapsed": false,
    "ein.hycell": false,
    "ein.tags": "worksheet-0",
    "slideshow": {
     "slide_type": "-"
    }
   },
   "outputs": [
    {
     "data": {
      "text/plain": [
       "<matplotlib.legend.Legend at 0x12e71c550>"
      ]
     },
     "execution_count": 113,
     "metadata": {},
     "output_type": "execute_result"
    },
    {
     "data": {
      "image/png": "[encoded data removed]",
      "text/plain": [
       "<Figure size 432x288 with 1 Axes>"
      ]
     },
     "metadata": {
      "needs_background": "light"
     },
     "output_type": "display_data"
    }
   ],
   "source": [
    "def running_mean(x, N):\n",
    "    cumsum = numpy.cumsum(numpy.insert(x, 0, 0))\n",
    "    return (cumsum[N:] - cumsum[:-N]) / float(N)\n",
    "\n",
    "filename = '/cnet-succR.txt'\n",
    "\n",
    "sw_succr_list = []\n",
    "sm_succr_list = []\n",
    "sw_succr_dict = {}\n",
    "sm_succr_dict = {}\n",
    "m_succr_dict = {}\n",
    "for step in range(0, 9):\n",
    "    m_file_path = get_dynamic_data_path(maxflow, 3, 2, step) + filename\n",
    "    sw_file_path = get_dynamic_data_path(silentwhispers, 3, 2, step) + filename\n",
    "    sm_file_path = get_dynamic_data_path(speedymurmurs, 3, 2, step) + filename\n",
    "\n",
    "    # get succR for SW for each epoch\n",
    "    sw_new_dict = convert_kv_file_to_dict(sw_file_path)\n",
    "    sm_new_dict = convert_kv_file_to_dict(sm_file_path)\n",
    "    m_new_dict = convert_kv_file_to_dict(m_file_path)\n",
    "    \n",
    "    sw_succr_dict = merge_dicts(sw_new_dict, sw_succr_dict)\n",
    "    sm_succr_dict = merge_dicts(sm_new_dict, sm_succr_dict)\n",
    "    m_succr_dict = merge_dicts(m_new_dict, m_succr_dict)\n",
    "\n",
    "# update SW dict by dividing each value by the corresponding value in the M dict\n",
    "for k,v in sw_succr_dict.items():\n",
    "    if k in m_succr_dict:\n",
    "        if m_succr_dict[k] == 0:\n",
    "            sw_succr_dict[k] = 1\n",
    "        else:\n",
    "            sw_succr_dict[k] = v/m_succr_dict[k]\n",
    "\n",
    "# update SM dict by dividing each value by the corresponding value in the M dict\n",
    "for k,v in sm_succr_dict.items():\n",
    "    if k in m_succr_dict:\n",
    "        if m_succr_dict[k] == 0:\n",
    "            sm_succr_dict[k] = 1\n",
    "        else:\n",
    "            sm_succr_dict[k] = v/m_succr_dict[k]\n",
    "\n",
    "sw_succr_list = dict_to_list(sw_succr_dict, 801)\n",
    "sm_succr_list = dict_to_list(sm_succr_dict, 801)\n",
    "\n",
    "matplotlib.pyplot.axis([0,700,0,1])\n",
    "matplotlib.pyplot.plot(range(50, 801), running_mean(sw_succr_list, 50), 'r*-', markersize=1, linewidth=1, label='SilentWhispers')\n",
    "\n",
    "matplotlib.pyplot.plot(range(50, 801), running_mean(sm_succr_list, 50), 'b*-', markersize=1, linewidth=1, label='SpeedyMurmurs')\n",
    "matplotlib.pyplot.legend(loc=(0,1), scatterpoints=10)\n",
    "\n"
   ]
  },
  {
   "cell_type": "markdown",
   "metadata": {
    "ein.tags": "worksheet-0",
    "slideshow": {
     "slide_type": "-"
    }
   },
   "source": [
    "# Plot topology"
   ]
  },
  {
   "cell_type": "markdown",
   "metadata": {
    "ein.tags": "worksheet-0",
    "slideshow": {
     "slide_type": "-"
    }
   },
   "source": [
    "## Define graph"
   ]
  },
  {
   "cell_type": "code",
   "execution_count": 9,
   "metadata": {
    "autoscroll": false,
    "collapsed": false,
    "ein.hycell": false,
    "ein.tags": "worksheet-0",
    "slideshow": {
     "slide_type": "-"
    }
   },
   "outputs": [
    {
     "name": "stdout",
     "output_type": "stream",
     "text": [
      "Skipping metadata, line: 1\n",
      "Skipping metadata, line: 2\n",
      "Skipping metadata, line: 3\n",
      "Skipping metadata, line: 4\n",
      "Skipping metadata, line: 5\n",
      "Skipping metadata, line: 6\n",
      "Skipping metadata, line: 7\n",
      "node_id: 0\n",
      "node_id: 1\n",
      "node_id: 2\n",
      "node_id: 3\n",
      "node_id: 4\n",
      "node_id: 5\n",
      "node_id: 6\n",
      "node_id: 7\n",
      "Done\n"
     ]
    }
   ],
   "source": [
    "def read_graph_file(graph_file):\n",
    "    g = networkx.Graph()\n",
    "    with open(graph_file, 'r') as graph_entries:\n",
    "        count = 0\n",
    "        for node in graph_entries:\n",
    "            count += 1\n",
    "            # skip meta data at beginning of file\n",
    "            if count < 8:\n",
    "                print(f\"Skipping metadata, line: {count}\")\n",
    "                continue\n",
    "            elif count > 15:\n",
    "                print(\"Done\")\n",
    "                break\n",
    "            \n",
    "            node_id, connections_str = node.split(':')\n",
    "            destinations = connections_str.split(';')\n",
    "            print(f\"node_id: {node_id}\")\n",
    "            for dest in destinations:\n",
    "                #print(f'src: {node_id}; dest: {dest}')\n",
    "                g.add_edge(node_id, dest)\n",
    "            \n",
    "            \n",
    "    return g\n",
    "\n",
    "topology_file = '../data/finalSets/static/ripple-lcc.graph'\n",
    "\n",
    "G = read_graph_file(topology_file)"
   ]
  },
  {
   "cell_type": "markdown",
   "metadata": {
    "ein.tags": "worksheet-0",
    "slideshow": {
     "slide_type": "-"
    }
   },
   "source": [
    "# Performance Under Attack"
   ]
  },
  {
   "cell_type": "markdown",
   "metadata": {
    "ein.tags": "worksheet-0",
    "slideshow": {
     "slide_type": "-"
    }
   },
   "source": [
    "## Success ratio vs. Number of attackers\n",
    "\n",
    "### Generate list of configurations"
   ]
  },
  {
   "cell_type": "code",
   "execution_count": 74,
   "metadata": {
    "autoscroll": false,
    "collapsed": false,
    "ein.hycell": false,
    "ein.tags": "worksheet-0",
    "slideshow": {
     "slide_type": "-"
    }
   },
   "outputs": [],
   "source": [
    "config_dict_list_srvna_sm = []\n",
    "config_dict_list_srvna_sw = []\n",
    "for data_set in range(0, 10):\n",
    "    for alg in [speedymurmurs, silentwhispers]:\n",
    "    # for alg in [silentwhispers]:\n",
    "        for attackers in range(0, 30001, 5000):\n",
    "        # for attackers in range(30000, 30001, 5000):\n",
    "            config = f'''\n",
    "data_set_name: tiny-{data_set}\n",
    "base: ../tiny-data/finalSets/static\n",
    "topology: ripple-lcc.graph\n",
    "link_weights: ripple-lcc.graph_CREDIT_LINKS\n",
    "transaction_set: sampleTr-{data_set}.txt\n",
    "simulation_type: static\n",
    "force_overwrite: false\n",
    "routing_algorithm: \"{alg}\"\n",
    "attempts: 1\n",
    "trees: 3\n",
    "attack_properties:\n",
    "    attackers: {attackers}\n",
    "    attacker_selection: \"random\"\n",
    "    attack_type: drop_all\n",
    "iterations: 1\n",
    "'''\n",
    "            if alg == speedymurmurs:\n",
    "                config_dict_list_srvna_sm.append(parse_config(config))\n",
    "            elif alg == silentwhispers:\n",
    "                config_dict_list_srvna_sw.append(parse_config(config))\n",
    "\n"
   ]
  },
  {
   "cell_type": "markdown",
   "metadata": {
    "ein.tags": "worksheet-0",
    "slideshow": {
     "slide_type": "-"
    }
   },
   "source": [
    "### Run experiment"
   ]
  },
  {
   "cell_type": "code",
   "execution_count": 118,
   "metadata": {
    "autoscroll": false,
    "collapsed": false,
    "ein.hycell": false,
    "ein.tags": "worksheet-0",
    "slideshow": {
     "slide_type": "-"
    }
   },
   "outputs": [
    {
     "name": "stdout",
     "output_type": "stream",
     "text": [
      "task 0; something: None\n",
      "task 1; something: None\n",
      "task 2; something: None\n",
      "task 3; something: None\n",
      "task 4; something: None\n",
      "task 5; something: None\n",
      "task 6; something: None\n",
      "task 7; something: None\n",
      "task 8; something: None\n",
      "task 9; something: None\n",
      "task 10; something: None\n",
      "task 11; something: None\n",
      "task 12; something: None\n",
      "task 13; something: None\n",
      "task 14; something: None\n",
      "task 15; something: None\n",
      "task 16; something: None\n",
      "task 17; something: None\n",
      "task 18; something: None\n",
      "task 19; something: None\n",
      "task 20; something: None\n",
      "task 21; something: None\n",
      "task 22; something: None\n",
      "task 23; something: None\n",
      "task 24; something: None\n",
      "task 25; something: None\n",
      "task 26; something: None\n",
      "task 27; something: None\n",
      "task 28; something: None\n",
      "task 29; something: None\n",
      "task 30; something: None\n",
      "task 31; something: None\n",
      "task 32; something: None\n",
      "task 33; something: None\n",
      "task 34; something: None\n",
      "task 35; something: None\n",
      "task 36; something: None\n",
      "task 37; something: None\n",
      "task 38; something: None\n",
      "task 39; something: None\n",
      "task 40; something: None\n",
      "task 41; something: None\n",
      "task 42; something: None\n",
      "task 43; something: None\n",
      "task 44; something: None\n",
      "task 45; something: None\n",
      "task 46; something: None\n",
      "task 47; something: None\n",
      "task 48; something: None\n",
      "task 49; something: None\n",
      "task 50; something: None\n",
      "task 51; something: None\n",
      "task 52; something: None\n",
      "task 53; something: None\n",
      "task 54; something: None\n",
      "task 55; something: None\n",
      "task 56; something: None\n",
      "task 57; something: None\n",
      "task 58; something: None\n",
      "task 59; something: None\n",
      "task 60; something: None\n",
      "task 61; something: None\n",
      "task 62; something: None\n",
      "task 63; something: None\n",
      "task 64; something: None\n",
      "task 65; something: None\n",
      "task 66; something: None\n",
      "task 67; something: None\n",
      "task 68; something: None\n",
      "task 69; something: None\n",
      "CPU times: user 85 ms, sys: 102 ms, total: 187 ms\n",
      "Wall time: 4.54 s\n",
      "task 0; something: None\n",
      "task 1; something: None\n",
      "task 2; something: None\n",
      "task 3; something: None\n",
      "task 4; something: None\n",
      "task 5; something: None\n",
      "task 6; something: None\n",
      "task 7; something: None\n",
      "task 8; something: None\n",
      "task 9; something: None\n",
      "task 10; something: None\n",
      "task 11; something: None\n",
      "task 12; something: None\n",
      "task 13; something: None\n",
      "task 14; something: None\n",
      "task 15; something: None\n",
      "task 16; something: None\n",
      "task 17; something: None\n",
      "task 18; something: None\n",
      "task 19; something: None\n",
      "task 20; something: None\n",
      "task 21; something: None\n",
      "task 22; something: None\n",
      "task 23; something: None\n",
      "task 24; something: None\n",
      "task 25; something: None\n",
      "task 26; something: None\n",
      "task 27; something: None\n",
      "task 28; something: None\n",
      "task 29; something: None\n",
      "task 30; something: None\n",
      "task 31; something: None\n",
      "task 32; something: None\n",
      "task 33; something: None\n",
      "task 34; something: None\n",
      "task 35; something: None\n",
      "task 36; something: None\n",
      "task 37; something: None\n",
      "task 38; something: None\n",
      "task 39; something: None\n",
      "task 40; something: None\n",
      "task 41; something: None\n",
      "task 42; something: None\n",
      "task 43; something: None\n",
      "task 44; something: None\n",
      "task 45; something: None\n",
      "task 46; something: None\n",
      "task 47; something: None\n",
      "task 48; something: None\n",
      "task 49; something: None\n",
      "task 50; something: None\n",
      "task 51; something: None\n",
      "task 52; something: None\n",
      "task 53; something: None\n",
      "task 54; something: None\n",
      "task 55; something: None\n",
      "task 56; something: None\n",
      "task 57; something: None\n",
      "task 58; something: None\n",
      "task 59; something: None\n",
      "task 60; something: None\n",
      "task 61; something: None\n",
      "task 62; something: None\n",
      "task 63; something: None\n",
      "task 64; something: None\n",
      "task 65; something: None\n",
      "task 66; something: None\n",
      "task 67; something: None\n",
      "task 68; something: None\n",
      "task 69; something: None\n",
      "CPU times: user 36.1 ms, sys: 7.24 ms, total: 43.4 ms\n",
      "Wall time: 37.8 ms\n",
      "Done.\n"
     ]
    }
   ],
   "source": [
    "%time do_experiments(config_dict_list_srvna_sm)\n",
    "%time do_experiments(config_dict_list_srvna_sw)\n",
    "print(\"Done.\")"
   ]
  },
  {
   "cell_type": "markdown",
   "metadata": {
    "ein.tags": "worksheet-0",
    "slideshow": {
     "slide_type": "-"
    }
   },
   "source": [
    "### Plot results"
   ]
  },
  {
   "cell_type": "code",
   "execution_count": 259,
   "metadata": {
    "autoscroll": false,
    "collapsed": false,
    "ein.hycell": false,
    "ein.tags": "worksheet-0",
    "slideshow": {
     "slide_type": "-"
    }
   },
   "outputs": [
    {
     "data": {
      "text/plain": [
       "<matplotlib.legend.Legend at 0x11d294940>"
      ]
     },
     "execution_count": 259,
     "metadata": {},
     "output_type": "execute_result"
    },
    {
     "data": {
      "image/png": "[encoded data removed]",
      "text/plain": [
       "<Figure size 432x288 with 1 Axes>"
      ]
     },
     "metadata": {},
     "output_type": "display_data"
    }
   ],
   "source": [
    "key = 'CREDIT_NETWORK_SUCCESS'\n",
    "\n",
    "silentwhispers_data = extract_from_singles_config(config_dict_list_srvna_sw, key, \"attack_properties\", \"attackers\")\n",
    "speedymurmurs_data = extract_from_singles_config(config_dict_list_srvna_sm, key, \"attack_properties\", \"attackers\")\n",
    "\n",
    "matplotlib.pyplot.figure()\n",
    "matplotlib.pyplot.title('Performance Under Attack', size='xx-large')\n",
    "matplotlib.pyplot.ylabel('Success Ratio', size='x-large')\n",
    "matplotlib.pyplot.xlabel('Byzantine Nodes', size='x-large')\n",
    "matplotlib.pyplot.axis([0,30000,0.0,1.0])\n",
    "\n",
    "%config InlineBackend.figure_format ='retina'\n",
    "matplotlib.pyplot.plot(range(0,30001, 5000), silentwhispers_data, 'r*-', markersize=5, linewidth=1, label='SilentWhispers')\n",
    "matplotlib.pyplot.plot(range(0,30001, 5000), speedymurmurs_data, 'b*-', markersize=5, linewidth=1, label='SpeedyMurmurs')\n",
    "matplotlib.pyplot.legend(loc=(0,0), scatterpoints=10)"
   ]
  },
  {
   "cell_type": "code",
   "execution_count": 40,
   "metadata": {
    "autoscroll": false,
    "collapsed": false,
    "ein.hycell": false,
    "ein.tags": "worksheet-0",
    "slideshow": {
     "slide_type": "-"
    }
   },
   "outputs": [],
   "source": [
    "def test_func(x):\n",
    "    import time\n",
    "    time.sleep(x)\n",
    "    t = time.time()\n",
    "    return f\"slept {x}; time: {t}\"\n",
    "\n"
   ]
  },
  {
   "cell_type": "code",
   "execution_count": 41,
   "metadata": {
    "autoscroll": false,
    "collapsed": false,
    "ein.hycell": false,
    "ein.tags": "worksheet-0",
    "slideshow": {
     "slide_type": "-"
    }
   },
   "outputs": [
    {
     "name": "stdout",
     "output_type": "stream",
     "text": [
      "task 0; something: slept 0; time: 1557501080.9879968\n",
      "task 1; something: slept 1; time: 1557501081.990166\n"
     ]
    },
    {
     "name": "stdout",
     "output_type": "stream",
     "text": [
      "task 2; something: slept 2; time: 1557501082.9893508\n",
      "task 3; something: slept 3; time: 1557501085.989772\n"
     ]
    },
    {
     "name": "stdout",
     "output_type": "stream",
     "text": [
      "task 4; something: slept 4; time: 1557501084.9919848\n",
      "task 5; something: slept 5; time: 1557501089.995129\n"
     ]
    },
    {
     "name": "stdout",
     "output_type": "stream",
     "text": [
      "task 6; something: slept 6; time: 1557501086.988757\n",
      "task 7; something: slept 7; time: 1557501093.993379\n"
     ]
    }
   ],
   "source": [
    "#e = [(lambda: t(i)) for i in range(0, 4)]\n",
    "\n",
    "ipyclient.ids\n",
    "# v = ipyclient.load_balanced_view()\n",
    "a = ipyclient[:].map_async(test_func, range(0,8))\n",
    "for i,r in enumerate(a):\n",
    "    print(f\"task {i}; something: {r}\")"
   ]
  },
  {
   "cell_type": "code",
   "execution_count": null,
   "metadata": {
    "autoscroll": false,
    "collapsed": false,
    "ein.hycell": false,
    "ein.tags": "worksheet-1",
    "slideshow": {
     "slide_type": "-"
    }
   },
   "outputs": [],
   "source": []
  }
 ],
 "metadata": {
  "kernelspec": {
   "display_name": "Python 3",
   "name": "python3"
  },
  "language_info": {
   "codemirror_mode": {
    "name": "ipython",
    "version": 3
   },
   "file_extension": ".py",
   "mimetype": "text/x-python",
   "name": "python",
   "nbconvert_exporter": "python",
   "pygments_lexer": "ipython3",
   "version": "3.7.3"
  },
  "name": "Payment-Channel-Network-Simulations.ipynb"
 },
 "nbformat": 4,
 "nbformat_minor": 2
}
