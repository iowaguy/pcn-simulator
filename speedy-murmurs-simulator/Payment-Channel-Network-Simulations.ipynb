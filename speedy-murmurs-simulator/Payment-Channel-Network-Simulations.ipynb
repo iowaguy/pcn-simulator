{
 "cells": [
  {
   "cell_type": "markdown",
   "metadata": {
    "ein.tags": "worksheet-0",
    "slideshow": {
     "slide_type": "-"
    }
   },
   "source": [
    "## General utility functions and variables"
   ]
  },
  {
   "cell_type": "code",
   "execution_count": 1,
   "metadata": {
    "autoscroll": false,
    "ein.hycell": false,
    "ein.tags": "worksheet-0",
    "slideshow": {
     "slide_type": "-"
    }
   },
   "outputs": [],
   "source": [
    "import ipyparallel\n",
    "ipyclient = ipyparallel.Client()\n",
    "%matplotlib inline"
   ]
  },
  {
   "cell_type": "code",
   "execution_count": 2,
   "metadata": {
    "autoscroll": false,
    "ein.hycell": false,
    "ein.tags": "worksheet-0",
    "slideshow": {
     "slide_type": "-"
    }
   },
   "outputs": [
    {
     "name": "stdout",
     "output_type": "stream",
     "text": [
      "importing simulation_utils on engine(s)\n",
      "importing sys on engine(s)\n",
      "importing numpy on engine(s)\n",
      "importing matplotlib.pyplot on engine(s)\n",
      "importing subprocess on engine(s)\n",
      "importing networkx on engine(s)\n",
      "importing os on engine(s)\n",
      "importing shutil on engine(s)\n",
      "importing yaml on engine(s)\n",
      "importing ipyparallel on engine(s)\n",
      "importing __version__ from networkx on engine(s)\n",
      "networkx: 2.2\n"
     ]
    }
   ],
   "source": [
    "def setup():\n",
    "    import sys\n",
    "    import os\n",
    "    sys.path.append(os.getcwd())\n",
    "\n",
    "ipyclient[:].apply_sync(setup)\n",
    "    \n",
    "with ipyclient[:].sync_imports(local=True):\n",
    "    import simulation_utils\n",
    "    import sys\n",
    "    import numpy\n",
    "    import matplotlib.pyplot\n",
    "    import subprocess\n",
    "    import networkx\n",
    "    import os\n",
    "    import shutil\n",
    "    import yaml\n",
    "    import ipyparallel\n",
    "    from networkx import __version__ as networkxversion\n",
    "\n",
    "print('networkx: '+networkxversion)"
   ]
  },
  {
   "cell_type": "markdown",
   "metadata": {
    "ein.tags": "worksheet-0",
    "slideshow": {
     "slide_type": "-"
    }
   },
   "source": [
    "# Figure 2"
   ]
  },
  {
   "cell_type": "markdown",
   "metadata": {
    "ein.tags": "worksheet-0",
    "slideshow": {
     "slide_type": "-"
    }
   },
   "source": [
    "## 2a\n",
    "The x-axis is the number of trees (or landmarks) used, and the y-axis is the ratio of successfully routed transaction to total transactions. Each point on the plot is the value of CREDIT_NETWORK_SUCCESS in _singles.txt for the run with that many trees. All of these runs use 2 attempts."
   ]
  },
  {
   "cell_type": "markdown",
   "metadata": {
    "ein.tags": "worksheet-0",
    "slideshow": {
     "slide_type": "-"
    }
   },
   "source": [
    "### Run simulations"
   ]
  },
  {
   "cell_type": "code",
   "execution_count": 23,
   "metadata": {
    "autoscroll": false,
    "ein.hycell": false,
    "ein.tags": "worksheet-0",
    "slideshow": {
     "slide_type": "-"
    }
   },
   "outputs": [
    {
     "name": "stdout",
     "output_type": "stream",
     "text": [
      "Run exists. Skipping...\n",
      "Running: java -cp bin/ treeembedding.tests.Static 0 7 1 1 1\n",
      "Run exists. Skipping...\n",
      "Running: java -cp bin/ treeembedding.tests.Static 0 7 1 2 1\n",
      "Run exists. Skipping...\n",
      "Running: java -cp bin/ treeembedding.tests.Static 0 7 1 3 1\n",
      "Run exists. Skipping...\n",
      "Running: java -cp bin/ treeembedding.tests.Static 0 7 1 4 1\n",
      "Run exists. Skipping...\n",
      "Running: java -cp bin/ treeembedding.tests.Static 0 7 1 5 1\n",
      "Run exists. Skipping...\n",
      "Running: java -cp bin/ treeembedding.tests.Static 0 7 1 6 1\n",
      "Run exists. Skipping...\n",
      "Running: java -cp bin/ treeembedding.tests.Static 0 7 1 7 1\n"
     ]
    }
   ],
   "source": [
    "attempts = 1\n",
    "transaction_set = 0\n",
    "attack = 1\n",
    "no_attack = 0\n",
    "for tree in range(1, max_trees+1):\n",
    "    run_static(transaction_set, silentwhispers, attempts, tree, no_attack)\n",
    "    run_static(transaction_set, speedymurmurs, attempts, tree, attack, force=True)\n",
    "print('Done.')"
   ]
  },
  {
   "cell_type": "markdown",
   "metadata": {
    "ein.tags": "worksheet-0",
    "slideshow": {
     "slide_type": "-"
    }
   },
   "source": [
    "### Generate plots from data"
   ]
  },
  {
   "cell_type": "code",
   "execution_count": 25,
   "metadata": {
    "autoscroll": false,
    "ein.hycell": false,
    "ein.tags": "worksheet-0",
    "slideshow": {
     "slide_type": "-"
    }
   },
   "outputs": [
    {
     "data": {
      "text/plain": [
       "<matplotlib.legend.Legend at 0x116102b70>"
      ]
     },
     "execution_count": 25,
     "metadata": {},
     "output_type": "execute_result"
    },
    {
     "data": {
      "image/png": "[encoded data removed]",
      "text/plain": [
       "<Figure size 432x288 with 1 Axes>"
      ]
     },
     "metadata": {
      "needs_background": "light"
     },
     "output_type": "display_data"
    }
   ],
   "source": [
    "attempts = 1\n",
    "key = 'CREDIT_NETWORK_SUCCESS'\n",
    "silentwhispers_data = extract_from_singles(silentwhispers, attempts, max_trees, key)\n",
    "speedymurmurs_data = extract_from_singles(speedymurmurs, attempts, max_trees, key)\n",
    "\n",
    "matplotlib.pyplot.figure()\n",
    "matplotlib.pyplot.title('Figure 2a', size='xx-large')\n",
    "matplotlib.pyplot.ylabel('Success Ratio', size='x-large')\n",
    "matplotlib.pyplot.xlabel('Trees', size='x-large')\n",
    "matplotlib.pyplot.axis([0,8,0.0,1.0])\n",
    "\n",
    "matplotlib.pyplot.plot(range(1,max_trees+1), silentwhispers_data, 'r*-', markersize=5, linewidth=1, label='SilentWhispers')\n",
    "matplotlib.pyplot.plot(range(1,max_trees+1), speedymurmurs_data, 'b*-', markersize=5, linewidth=1, label='SpeedyMurmurs')\n",
    "matplotlib.pyplot.legend(loc=(0,1), scatterpoints=10)\n"
   ]
  },
  {
   "cell_type": "markdown",
   "metadata": {
    "ein.tags": "worksheet-0",
    "slideshow": {
     "slide_type": "-"
    }
   },
   "source": [
    "## 2b\n",
    "The x-axis is the number of trees (or landmarks) used, and the y-axis is the number of hops a transaction took to reach its destination. Each point on the plot is the value of CREDIT_NETWORK_DELAY_AV in _singles.txt for the run with that many trees. All of these runs use 2 attempts.\n",
    "\n",
    "Same simulations as 2a.\n"
   ]
  },
  {
   "cell_type": "markdown",
   "metadata": {
    "ein.tags": "worksheet-0",
    "slideshow": {
     "slide_type": "-"
    }
   },
   "source": [
    "### Generate plots from data"
   ]
  },
  {
   "cell_type": "code",
   "execution_count": 21,
   "metadata": {
    "autoscroll": false,
    "ein.hycell": false,
    "ein.tags": "worksheet-0",
    "slideshow": {
     "slide_type": "-"
    }
   },
   "outputs": [
    {
     "data": {
      "text/plain": [
       "<matplotlib.legend.Legend at 0x11cc5bcc0>"
      ]
     },
     "execution_count": 21,
     "metadata": {},
     "output_type": "execute_result"
    },
    {
     "data": {
      "image/png": "[encoded data removed]",
      "text/plain": [
       "<Figure size 432x288 with 1 Axes>"
      ]
     },
     "metadata": {
      "needs_background": "light"
     },
     "output_type": "display_data"
    }
   ],
   "source": [
    "attempts = 1\n",
    "key = 'CREDIT_NETWORK_DELAY_AV'\n",
    "silentwhispers_data = extract_from_singles(silentwhispers, attempts, max_trees, key)\n",
    "speedymurmurs_data = extract_from_singles(speedymurmurs, attempts, max_trees, key)\n",
    "\n",
    "matplotlib.pyplot.figure()\n",
    "matplotlib.pyplot.title('Figure 2b', size='xx-large')\n",
    "matplotlib.pyplot.ylabel('(Hop) Delay', size='x-large')\n",
    "matplotlib.pyplot.xlabel('Trees', size='x-large')\n",
    "matplotlib.pyplot.axis([0,8,0,30])\n",
    "\n",
    "matplotlib.pyplot.plot(range(1,max_trees+1), silentwhispers_data, 'r*-', markersize=5, linewidth=1, label='SilentWhispers')\n",
    "matplotlib.pyplot.plot(range(1,max_trees+1), speedymurmurs_data, 'b*-', markersize=5, linewidth=1, label='SpeedyMurmurs')\n",
    "matplotlib.pyplot.legend(loc=(0,1), scatterpoints=10)\n"
   ]
  },
  {
   "cell_type": "markdown",
   "metadata": {
    "ein.tags": "worksheet-0",
    "slideshow": {
     "slide_type": "-"
    }
   },
   "source": [
    "## 2c\n",
    "The x-axis is the number of times a failed transaction should be retried, and the y-axis is the ratio of successfully routed transaction to total transactions. Each point on the plot is the value of CREDIT_NETWORK_SUCCESS in \\_singles.txt for the run with that many retries. All of these runs use 3 landmarks."
   ]
  },
  {
   "cell_type": "markdown",
   "metadata": {
    "ein.tags": "worksheet-0",
    "slideshow": {
     "slide_type": "-"
    }
   },
   "source": [
    "### Run simulations"
   ]
  },
  {
   "cell_type": "code",
   "execution_count": null,
   "metadata": {
    "autoscroll": false,
    "ein.hycell": false,
    "ein.tags": "worksheet-0",
    "slideshow": {
     "slide_type": "-"
    }
   },
   "outputs": [
    {
     "name": "stdout",
     "output_type": "stream",
     "text": [
      "Run exists. Skipping...\n",
      "Run exists. Skipping...\n",
      "Run exists. Skipping...\n",
      "Run exists. Skipping...\n",
      "Run exists. Skipping...\n",
      "Run exists. Skipping...\n",
      "Run exists. Skipping...\n",
      "Run exists. Skipping...\n",
      "Run exists. Skipping...\n",
      "Run exists. Skipping...\n",
      "Run exists. Skipping...\n",
      "Run exists. Skipping...\n",
      "Run exists. Skipping...\n",
      "Run exists. Skipping...\n",
      "Run exists. Skipping...\n",
      "Running: java -cp bin/ treeembedding.tests.Static 0 7 8 3\n"
     ]
    }
   ],
   "source": [
    "trees = 3\n",
    "transaction_set = 0\n",
    "for attempt in range(1, max_attempts+1):\n",
    "    run_static(transaction_set, silentwhispers, attempt, trees)\n",
    "    run_static(transaction_set, speedymurmurs, attempt, trees)\n",
    "print('Done.')  \n",
    "    "
   ]
  },
  {
   "cell_type": "markdown",
   "metadata": {
    "ein.tags": "worksheet-0",
    "slideshow": {
     "slide_type": "-"
    }
   },
   "source": [
    "### Generate plots from data"
   ]
  },
  {
   "cell_type": "code",
   "execution_count": 23,
   "metadata": {
    "autoscroll": false,
    "ein.hycell": false,
    "ein.tags": "worksheet-0",
    "scrolled": true,
    "slideshow": {
     "slide_type": "-"
    }
   },
   "outputs": [
    {
     "data": {
      "text/plain": [
       "<matplotlib.legend.Legend at 0x11cd33048>"
      ]
     },
     "execution_count": 23,
     "metadata": {},
     "output_type": "execute_result"
    },
    {
     "data": {
      "image/png": "[encoded data removed]",
      "text/plain": [
       "<Figure size 432x288 with 1 Axes>"
      ]
     },
     "metadata": {
      "needs_background": "light"
     },
     "output_type": "display_data"
    }
   ],
   "source": [
    "trees = 3\n",
    "key = 'CREDIT_NETWORK_SUCCESS'\n",
    "silentwhispers_data = extract_from_singles_attempts(silentwhispers, max_attempts, trees, key)\n",
    "speedymurmurs_data = extract_from_singles_attempts(speedymurmurs, max_attempts, trees, key)\n",
    "\n",
    "matplotlib.pyplot.figure()\n",
    "matplotlib.pyplot.title('Figure 2c', size='xx-large')\n",
    "matplotlib.pyplot.ylabel('Success Ratio', size='x-large')\n",
    "matplotlib.pyplot.xlabel('Attempts', size='x-large')\n",
    "matplotlib.pyplot.axis([0,10,0.0,1.0])\n",
    "\n",
    "matplotlib.pyplot.plot(range(1,max_attempts+1), silentwhispers_data, 'r*-', markersize=5, linewidth=1, label='SilentWhispers')\n",
    "matplotlib.pyplot.plot(range(1,max_attempts+1), speedymurmurs_data, 'b*-', markersize=5, linewidth=1, label='SpeedyMurmurs')\n",
    "matplotlib.pyplot.legend(loc=(0,1), scatterpoints=10)\n"
   ]
  },
  {
   "cell_type": "markdown",
   "metadata": {
    "ein.tags": "worksheet-0",
    "slideshow": {
     "slide_type": "-"
    }
   },
   "source": [
    "## Figure 3 Plots"
   ]
  },
  {
   "cell_type": "markdown",
   "metadata": {
    "ein.tags": "worksheet-0",
    "slideshow": {
     "slide_type": "-"
    }
   },
   "source": [
    "## 3a\n",
    "This is generated from the Ripple transaction data set, not from the simulator. The x-axis is the epoch number with epochs being of length 1000\\*delta\\_av, where delta\\_av is calculated from the data set as the average time between two subsequent transactions. The y-axis is either the number of transactions or the number of transactions or link changes in that epoch. The number of transactions are determined by counting lines in the ripple transaction data set (for the epoch in question), and the link changes are determined by counting the number of lines in the newlinks data set (jan2013-newlinks-lcc-sorted-uniq-t\\*.txt) for the epoch in question."
   ]
  },
  {
   "cell_type": "markdown",
   "metadata": {
    "ein.tags": "worksheet-0",
    "slideshow": {
     "slide_type": "-"
    }
   },
   "source": [
    "### Generate plots from data"
   ]
  },
  {
   "cell_type": "code",
   "execution_count": 8,
   "metadata": {
    "autoscroll": false,
    "ein.hycell": false,
    "ein.tags": "worksheet-0",
    "scrolled": true,
    "slideshow": {
     "slide_type": "-"
    }
   },
   "outputs": [
    {
     "data": {
      "text/plain": [
       "<matplotlib.legend.Legend at 0x134797518>"
      ]
     },
     "execution_count": 8,
     "metadata": {},
     "output_type": "execute_result"
    },
    {
     "data": {
      "image/png": "[encoded data removed]",
      "text/plain": [
       "<Figure size 432x288 with 1 Axes>"
      ]
     },
     "metadata": {
      "needs_background": "light"
     },
     "output_type": "display_data"
    }
   ],
   "source": [
    "transactions_file = '../data/finalSets/dynamic/jan2013-trans-lcc-noself-uniq-{0}.txt'\n",
    "link_changes_file = '../data/finalSets/dynamic/jan2013-newlinks-lcc-sorted-uniq-t{0}.txt'\n",
    "epoch_length, transactions = get_epoch_length(transactions_file)\n",
    "link_changes = read_link_changes_files(link_changes_file)\n",
    "\n",
    "\n",
    "transactions_per_epoch = calculate_events_per_epoch(epoch_length, transactions)\n",
    "link_changes_per_epoch = calculate_events_per_epoch(epoch_length, link_changes)\n",
    "lc_per_epoch_list = dict_to_list(link_changes_per_epoch, 801)\n",
    "\n",
    "matplotlib.pyplot.figure()\n",
    "matplotlib.pyplot.title('Figure 3a', size='xx-large')\n",
    "matplotlib.pyplot.ylabel('Count', size='x-large')\n",
    "matplotlib.pyplot.xlabel('Epoch Number', size='x-large')\n",
    "matplotlib.pyplot.axis([0,700,0,25000])\n",
    "\n",
    "matplotlib.pyplot.plot(range(1, 801), transactions_per_epoch.values(), 'ro', markersize=1, linewidth=1, label='Transactions')\n",
    "matplotlib.pyplot.plot(range(1, 801), lc_per_epoch_list, 'bo', markersize=1, linewidth=1, label='Set Link')\n",
    "matplotlib.pyplot.legend(loc=(0,1), scatterpoints=10)\n"
   ]
  },
  {
   "cell_type": "markdown",
   "metadata": {
    "ein.tags": "worksheet-0",
    "slideshow": {
     "slide_type": "-"
    }
   },
   "source": [
    "## 3b\n",
    "The x-axis is the epoch number with epochs calculated as above. The y-axis is the number of stabilization messages for that epoch. The number of stabilization messages can be determined from the cnet-stab.txt file which tracks stabilization messages per epoch. All of these runs use 2 attempts and 3 landmarks."
   ]
  },
  {
   "cell_type": "markdown",
   "metadata": {
    "ein.tags": "worksheet-0",
    "slideshow": {
     "slide_type": "-"
    }
   },
   "source": [
    "### Run simulations"
   ]
  },
  {
   "cell_type": "code",
   "execution_count": 99,
   "metadata": {
    "autoscroll": false,
    "ein.hycell": false,
    "ein.tags": "worksheet-0",
    "slideshow": {
     "slide_type": "-"
    }
   },
   "outputs": [
    {
     "name": "stdout",
     "output_type": "stream",
     "text": [
      "Run exists. Skipping...\n",
      "Run exists. Skipping...\n",
      "Run exists. Skipping...\n",
      "Run exists. Skipping...\n",
      "Run exists. Skipping...\n",
      "Run exists. Skipping...\n",
      "Run exists. Skipping...\n",
      "Run exists. Skipping...\n",
      "Run exists. Skipping...\n",
      "Run exists. Skipping...\n",
      "Run exists. Skipping...\n",
      "Run exists. Skipping...\n",
      "Run exists. Skipping...\n",
      "Run exists. Skipping...\n",
      "Run exists. Skipping...\n",
      "Running: java -cp bin/ treeembedding.tests.Dynamic 0 7 7\n",
      "Run exists. Skipping...\n",
      "Running: java -cp bin/ treeembedding.tests.Dynamic 0 7 8\n",
      "Done.\n"
     ]
    }
   ],
   "source": [
    "for step in range(0,9):\n",
    "    run_dynamic(0, silentwhispers, 2, 3, step)\n",
    "    run_dynamic(0, speedymurmurs, 2, 3, step)\n",
    "print('Done.')"
   ]
  },
  {
   "cell_type": "markdown",
   "metadata": {
    "ein.tags": "worksheet-0",
    "slideshow": {
     "slide_type": "-"
    }
   },
   "source": [
    "### Generate plots from data"
   ]
  },
  {
   "cell_type": "code",
   "execution_count": 106,
   "metadata": {
    "autoscroll": false,
    "ein.hycell": false,
    "ein.tags": "worksheet-0",
    "slideshow": {
     "slide_type": "-"
    }
   },
   "outputs": [
    {
     "data": {
      "text/plain": [
       "<matplotlib.legend.Legend at 0x12b692390>"
      ]
     },
     "execution_count": 106,
     "metadata": {},
     "output_type": "execute_result"
    },
    {
     "data": {
      "image/png": "[encoded data removed]",
      "text/plain": [
       "<Figure size 432x288 with 1 Axes>"
      ]
     },
     "metadata": {
      "needs_background": "light"
     },
     "output_type": "display_data"
    }
   ],
   "source": [
    "stab_file = '/cnet-stab.txt'\n",
    "\n",
    "sw_stab_messages_list = []\n",
    "sm_stab_messages_list = []\n",
    "sw_stab_messages_dict = {}\n",
    "sm_stab_messages_dict = {}\n",
    "for step in range(0,9):\n",
    "    sw_file_path = get_dynamic_data_path(silentwhispers, 3, 2, step) + stab_file\n",
    "    sm_file_path = get_dynamic_data_path(speedymurmurs, 3, 2, step) + stab_file\n",
    "\n",
    "    # create dict of stab message values for both sw and sm\n",
    "    new_dict_sw = convert_kv_file_to_dict(sw_file_path)\n",
    "    new_dict_sm = convert_kv_file_to_dict(sm_file_path)\n",
    "\n",
    "    sw_stab_messages_dict = merge_dicts(new_dict_sw, sw_stab_messages_dict)\n",
    "    sm_stab_messages_dict = merge_dicts(new_dict_sm, sm_stab_messages_dict)\n",
    "\n",
    "sw_stab_messages_list = dict_to_list(sw_stab_messages_dict, 801)\n",
    "sm_stab_messages_list = dict_to_list(sm_stab_messages_dict, 801)\n",
    "\n",
    "matplotlib.pyplot.yscale('log')\n",
    "matplotlib.pyplot.axis([0,700,0,1e+10])\n",
    "matplotlib.pyplot.plot(range(1, 801), sw_stab_messages_list, 'ro', markersize=1, linewidth=1, label='SilentWhispers')\n",
    "matplotlib.pyplot.plot(range(1, 801), sm_stab_messages_list, 'bo', markersize=1, linewidth=1, label='SpeedyMurmurs')\n",
    "matplotlib.pyplot.legend(loc=(0,1), scatterpoints=10)"
   ]
  },
  {
   "cell_type": "markdown",
   "metadata": {
    "ein.tags": "worksheet-0",
    "slideshow": {
     "slide_type": "-"
    }
   },
   "source": [
    "## 3c\n",
    "The x-axis is the epoch number with epochs calculated as above. The y-axis is the ratio of the success rate of SpeedyMurmurs or SilentWhispers to the success rate of Ford-Fulkerson. The lines in the plot are represented as a moving average over 50 epochs. All of these runs use 2 attempts and 3 landmarks."
   ]
  },
  {
   "cell_type": "markdown",
   "metadata": {
    "ein.tags": "worksheet-0",
    "slideshow": {
     "slide_type": "-"
    }
   },
   "source": [
    "### Run simulations"
   ]
  },
  {
   "cell_type": "code",
   "execution_count": 100,
   "metadata": {
    "autoscroll": false,
    "ein.hycell": false,
    "ein.tags": "worksheet-0",
    "slideshow": {
     "slide_type": "-"
    }
   },
   "outputs": [
    {
     "name": "stdout",
     "output_type": "stream",
     "text": [
      "Run exists. Skipping...\n",
      "Run exists. Skipping...\n",
      "Run exists. Skipping...\n",
      "Run exists. Skipping...\n",
      "Run exists. Skipping...\n",
      "Running: java -cp bin/ treeembedding.tests.Dynamic 0 10 1\n",
      "Run exists. Skipping...\n",
      "Run exists. Skipping...\n",
      "Running: java -cp bin/ treeembedding.tests.Dynamic 0 10 2\n",
      "Run exists. Skipping...\n",
      "Run exists. Skipping...\n",
      "Running: java -cp bin/ treeembedding.tests.Dynamic 0 10 3\n",
      "Run exists. Skipping...\n",
      "Run exists. Skipping...\n",
      "Running: java -cp bin/ treeembedding.tests.Dynamic 0 10 4\n",
      "Run exists. Skipping...\n",
      "Run exists. Skipping...\n",
      "Running: java -cp bin/ treeembedding.tests.Dynamic 0 10 5\n",
      "Run exists. Skipping...\n",
      "Run exists. Skipping...\n",
      "Running: java -cp bin/ treeembedding.tests.Dynamic 0 10 6\n",
      "Run exists. Skipping...\n",
      "Run exists. Skipping...\n",
      "Running: java -cp bin/ treeembedding.tests.Dynamic 0 10 7\n",
      "Run exists. Skipping...\n",
      "Run exists. Skipping...\n",
      "Running: java -cp bin/ treeembedding.tests.Dynamic 0 10 8\n",
      "Done.\n"
     ]
    }
   ],
   "source": [
    "for step in range(0,9):\n",
    "    run_dynamic(0, silentwhispers, 2, 3, step)\n",
    "    run_dynamic(0, speedymurmurs, 2, 3, step)\n",
    "    run_dynamic(0, maxflow, 2, 3, step)\n",
    "print('Done.')"
   ]
  },
  {
   "cell_type": "markdown",
   "metadata": {
    "ein.tags": "worksheet-0",
    "slideshow": {
     "slide_type": "-"
    }
   },
   "source": [
    "### Generate plots from data"
   ]
  },
  {
   "cell_type": "code",
   "execution_count": 113,
   "metadata": {
    "autoscroll": false,
    "ein.hycell": false,
    "ein.tags": "worksheet-0",
    "slideshow": {
     "slide_type": "-"
    }
   },
   "outputs": [
    {
     "data": {
      "text/plain": [
       "<matplotlib.legend.Legend at 0x12e71c550>"
      ]
     },
     "execution_count": 113,
     "metadata": {},
     "output_type": "execute_result"
    },
    {
     "data": {
      "image/png": "[encoded data removed]",
      "text/plain": [
       "<Figure size 432x288 with 1 Axes>"
      ]
     },
     "metadata": {
      "needs_background": "light"
     },
     "output_type": "display_data"
    }
   ],
   "source": [
    "filename = '/cnet-succR.txt'\n",
    "\n",
    "sw_succr_list = []\n",
    "sm_succr_list = []\n",
    "sw_succr_dict = {}\n",
    "sm_succr_dict = {}\n",
    "m_succr_dict = {}\n",
    "for step in range(0, 9):\n",
    "    m_file_path = get_dynamic_data_path(maxflow, 3, 2, step) + filename\n",
    "    sw_file_path = get_dynamic_data_path(silentwhispers, 3, 2, step) + filename\n",
    "    sm_file_path = get_dynamic_data_path(speedymurmurs, 3, 2, step) + filename\n",
    "\n",
    "    # get succR for SW for each epoch\n",
    "    sw_new_dict = convert_kv_file_to_dict(sw_file_path)\n",
    "    sm_new_dict = convert_kv_file_to_dict(sm_file_path)\n",
    "    m_new_dict = convert_kv_file_to_dict(m_file_path)\n",
    "    \n",
    "    sw_succr_dict = merge_dicts(sw_new_dict, sw_succr_dict)\n",
    "    sm_succr_dict = merge_dicts(sm_new_dict, sm_succr_dict)\n",
    "    m_succr_dict = merge_dicts(m_new_dict, m_succr_dict)\n",
    "\n",
    "# update SW dict by dividing each value by the corresponding value in the M dict\n",
    "for k,v in sw_succr_dict.items():\n",
    "    if k in m_succr_dict:\n",
    "        if m_succr_dict[k] == 0:\n",
    "            sw_succr_dict[k] = 1\n",
    "        else:\n",
    "            sw_succr_dict[k] = v/m_succr_dict[k]\n",
    "\n",
    "# update SM dict by dividing each value by the corresponding value in the M dict\n",
    "for k,v in sm_succr_dict.items():\n",
    "    if k in m_succr_dict:\n",
    "        if m_succr_dict[k] == 0:\n",
    "            sm_succr_dict[k] = 1\n",
    "        else:\n",
    "            sm_succr_dict[k] = v/m_succr_dict[k]\n",
    "\n",
    "sw_succr_list = dict_to_list(sw_succr_dict, 801)\n",
    "sm_succr_list = dict_to_list(sm_succr_dict, 801)\n",
    "\n",
    "matplotlib.pyplot.axis([0,700,0,1])\n",
    "matplotlib.pyplot.plot(range(50, 801), running_mean(sw_succr_list, 50), 'r*-', markersize=1, linewidth=1, label='SilentWhispers')\n",
    "\n",
    "matplotlib.pyplot.plot(range(50, 801), running_mean(sm_succr_list, 50), 'b*-', markersize=1, linewidth=1, label='SpeedyMurmurs')\n",
    "matplotlib.pyplot.legend(loc=(0,1), scatterpoints=10)\n",
    "\n"
   ]
  },
  {
   "cell_type": "markdown",
   "metadata": {
    "ein.tags": "worksheet-0",
    "slideshow": {
     "slide_type": "-"
    }
   },
   "source": [
    "# Plot topology"
   ]
  },
  {
   "cell_type": "markdown",
   "metadata": {
    "ein.tags": "worksheet-0",
    "slideshow": {
     "slide_type": "-"
    }
   },
   "source": [
    "## Define graph"
   ]
  },
  {
   "cell_type": "code",
   "execution_count": 9,
   "metadata": {
    "autoscroll": false,
    "ein.hycell": false,
    "ein.tags": "worksheet-0",
    "slideshow": {
     "slide_type": "-"
    }
   },
   "outputs": [
    {
     "name": "stdout",
     "output_type": "stream",
     "text": [
      "Skipping metadata, line: 1\n",
      "Skipping metadata, line: 2\n",
      "Skipping metadata, line: 3\n",
      "Skipping metadata, line: 4\n",
      "Skipping metadata, line: 5\n",
      "Skipping metadata, line: 6\n",
      "Skipping metadata, line: 7\n",
      "node_id: 0\n",
      "node_id: 1\n",
      "node_id: 2\n",
      "node_id: 3\n",
      "node_id: 4\n",
      "node_id: 5\n",
      "node_id: 6\n",
      "node_id: 7\n",
      "Done\n"
     ]
    }
   ],
   "source": [
    "topology_file = '../data/finalSets/static/ripple-lcc.graph'\n",
    "\n",
    "G = read_graph_file(topology_file)"
   ]
  },
  {
   "cell_type": "markdown",
   "metadata": {
    "ein.tags": "worksheet-0",
    "slideshow": {
     "slide_type": "-"
    }
   },
   "source": [
    "# Performance Under Attack"
   ]
  },
  {
   "cell_type": "markdown",
   "metadata": {
    "ein.tags": "worksheet-0",
    "slideshow": {
     "slide_type": "-"
    }
   },
   "source": [
    "## Success ratio vs. Number of attackers\n",
    "\n",
    "### Generate list of configurations"
   ]
  },
  {
   "cell_type": "code",
   "execution_count": 3,
   "metadata": {
    "autoscroll": false,
    "ein.hycell": false,
    "ein.tags": "worksheet-0",
    "slideshow": {
     "slide_type": "-"
    }
   },
   "outputs": [],
   "source": [
    "import simulation_utils as su\n",
    "\n",
    "config_dict_list_srvna_sm = []\n",
    "config_dict_list_srvna_sw = []\n",
    "for data_set in range(0, 10):\n",
    "    for alg in [su.speedymurmurs, su.silentwhispers]:\n",
    "    # for alg in [silentwhispers]:\n",
    "        for attackers in range(0, 30001, 5000):\n",
    "        # for attackers in range(30000, 30001, 5000):\n",
    "            config = f'''\n",
    "data_set_name: tiny-{data_set}\n",
    "base: ../tiny-data/finalSets/static\n",
    "topology: ripple-lcc.graph\n",
    "link_weights: ripple-lcc.graph_CREDIT_LINKS\n",
    "transaction_set: sampleTr-{data_set}.txt\n",
    "simulation_type: static\n",
    "force_overwrite: true\n",
    "routing_algorithm: \"{alg}\"\n",
    "attempts: 1\n",
    "trees: 3\n",
    "attack_properties:\n",
    "    attackers: {attackers}\n",
    "    attacker_selection: \"random\"\n",
    "    attack_type: drop_all\n",
    "iterations: 1\n",
    "'''\n",
    "            if alg == su.speedymurmurs:\n",
    "                config_dict_list_srvna_sm.append(su.parse_config(config))\n",
    "            elif alg == su.silentwhispers:\n",
    "                config_dict_list_srvna_sw.append(su.parse_config(config))\n",
    "\n"
   ]
  },
  {
   "cell_type": "markdown",
   "metadata": {
    "ein.tags": "worksheet-0",
    "slideshow": {
     "slide_type": "-"
    }
   },
   "source": [
    "### Run experiment"
   ]
  },
  {
   "cell_type": "code",
   "execution_count": 4,
   "metadata": {
    "autoscroll": false,
    "ein.hycell": false,
    "ein.tags": "worksheet-0",
    "slideshow": {
     "slide_type": "-"
    }
   },
   "outputs": [
    {
     "name": "stdout",
     "output_type": "stream",
     "text": [
      "task 0; something: java -cp target/pcn-simulator-1.0-SNAPSHOT-jar-with-dependencies.jar treeembedding.tests.Static /Users/ben/workspace/credit-networks/speedy-murmurs-simulator/data/static-tiny-0-speedymurmurs-3-1-1\n",
      "task 1; something: java -cp target/pcn-simulator-1.0-SNAPSHOT-jar-with-dependencies.jar treeembedding.tests.Static /Users/ben/workspace/credit-networks/speedy-murmurs-simulator/data/static-tiny-0-speedymurmurs-3-1-1-drop_all-random-5000\n",
      "task 2; something: java -cp target/pcn-simulator-1.0-SNAPSHOT-jar-with-dependencies.jar treeembedding.tests.Static /Users/ben/workspace/credit-networks/speedy-murmurs-simulator/data/static-tiny-0-speedymurmurs-3-1-1-drop_all-random-10000\n",
      "task 3; something: java -cp target/pcn-simulator-1.0-SNAPSHOT-jar-with-dependencies.jar treeembedding.tests.Static /Users/ben/workspace/credit-networks/speedy-murmurs-simulator/data/static-tiny-0-speedymurmurs-3-1-1-drop_all-random-15000\n",
      "task 4; something: java -cp target/pcn-simulator-1.0-SNAPSHOT-jar-with-dependencies.jar treeembedding.tests.Static /Users/ben/workspace/credit-networks/speedy-murmurs-simulator/data/static-tiny-0-speedymurmurs-3-1-1-drop_all-random-20000\n",
      "task 5; something: java -cp target/pcn-simulator-1.0-SNAPSHOT-jar-with-dependencies.jar treeembedding.tests.Static /Users/ben/workspace/credit-networks/speedy-murmurs-simulator/data/static-tiny-0-speedymurmurs-3-1-1-drop_all-random-25000\n",
      "task 6; something: java -cp target/pcn-simulator-1.0-SNAPSHOT-jar-with-dependencies.jar treeembedding.tests.Static /Users/ben/workspace/credit-networks/speedy-murmurs-simulator/data/static-tiny-0-speedymurmurs-3-1-1-drop_all-random-30000\n",
      "task 7; something: java -cp target/pcn-simulator-1.0-SNAPSHOT-jar-with-dependencies.jar treeembedding.tests.Static /Users/ben/workspace/credit-networks/speedy-murmurs-simulator/data/static-tiny-1-speedymurmurs-3-1-1\n",
      "task 8; something: java -cp target/pcn-simulator-1.0-SNAPSHOT-jar-with-dependencies.jar treeembedding.tests.Static /Users/ben/workspace/credit-networks/speedy-murmurs-simulator/data/static-tiny-1-speedymurmurs-3-1-1-drop_all-random-5000\n",
      "task 9; something: java -cp target/pcn-simulator-1.0-SNAPSHOT-jar-with-dependencies.jar treeembedding.tests.Static /Users/ben/workspace/credit-networks/speedy-murmurs-simulator/data/static-tiny-1-speedymurmurs-3-1-1-drop_all-random-10000\n",
      "task 10; something: java -cp target/pcn-simulator-1.0-SNAPSHOT-jar-with-dependencies.jar treeembedding.tests.Static /Users/ben/workspace/credit-networks/speedy-murmurs-simulator/data/static-tiny-1-speedymurmurs-3-1-1-drop_all-random-15000\n",
      "task 11; something: java -cp target/pcn-simulator-1.0-SNAPSHOT-jar-with-dependencies.jar treeembedding.tests.Static /Users/ben/workspace/credit-networks/speedy-murmurs-simulator/data/static-tiny-1-speedymurmurs-3-1-1-drop_all-random-20000\n",
      "task 12; something: java -cp target/pcn-simulator-1.0-SNAPSHOT-jar-with-dependencies.jar treeembedding.tests.Static /Users/ben/workspace/credit-networks/speedy-murmurs-simulator/data/static-tiny-1-speedymurmurs-3-1-1-drop_all-random-25000\n",
      "task 13; something: java -cp target/pcn-simulator-1.0-SNAPSHOT-jar-with-dependencies.jar treeembedding.tests.Static /Users/ben/workspace/credit-networks/speedy-murmurs-simulator/data/static-tiny-1-speedymurmurs-3-1-1-drop_all-random-30000\n",
      "task 14; something: java -cp target/pcn-simulator-1.0-SNAPSHOT-jar-with-dependencies.jar treeembedding.tests.Static /Users/ben/workspace/credit-networks/speedy-murmurs-simulator/data/static-tiny-2-speedymurmurs-3-1-1\n",
      "task 15; something: java -cp target/pcn-simulator-1.0-SNAPSHOT-jar-with-dependencies.jar treeembedding.tests.Static /Users/ben/workspace/credit-networks/speedy-murmurs-simulator/data/static-tiny-2-speedymurmurs-3-1-1-drop_all-random-5000\n",
      "task 16; something: java -cp target/pcn-simulator-1.0-SNAPSHOT-jar-with-dependencies.jar treeembedding.tests.Static /Users/ben/workspace/credit-networks/speedy-murmurs-simulator/data/static-tiny-2-speedymurmurs-3-1-1-drop_all-random-10000\n",
      "task 17; something: java -cp target/pcn-simulator-1.0-SNAPSHOT-jar-with-dependencies.jar treeembedding.tests.Static /Users/ben/workspace/credit-networks/speedy-murmurs-simulator/data/static-tiny-2-speedymurmurs-3-1-1-drop_all-random-15000\n",
      "task 18; something: java -cp target/pcn-simulator-1.0-SNAPSHOT-jar-with-dependencies.jar treeembedding.tests.Static /Users/ben/workspace/credit-networks/speedy-murmurs-simulator/data/static-tiny-2-speedymurmurs-3-1-1-drop_all-random-20000\n",
      "task 19; something: java -cp target/pcn-simulator-1.0-SNAPSHOT-jar-with-dependencies.jar treeembedding.tests.Static /Users/ben/workspace/credit-networks/speedy-murmurs-simulator/data/static-tiny-2-speedymurmurs-3-1-1-drop_all-random-25000\n",
      "task 20; something: java -cp target/pcn-simulator-1.0-SNAPSHOT-jar-with-dependencies.jar treeembedding.tests.Static /Users/ben/workspace/credit-networks/speedy-murmurs-simulator/data/static-tiny-2-speedymurmurs-3-1-1-drop_all-random-30000\n",
      "task 21; something: java -cp target/pcn-simulator-1.0-SNAPSHOT-jar-with-dependencies.jar treeembedding.tests.Static /Users/ben/workspace/credit-networks/speedy-murmurs-simulator/data/static-tiny-3-speedymurmurs-3-1-1\n",
      "task 22; something: java -cp target/pcn-simulator-1.0-SNAPSHOT-jar-with-dependencies.jar treeembedding.tests.Static /Users/ben/workspace/credit-networks/speedy-murmurs-simulator/data/static-tiny-3-speedymurmurs-3-1-1-drop_all-random-5000\n",
      "task 23; something: java -cp target/pcn-simulator-1.0-SNAPSHOT-jar-with-dependencies.jar treeembedding.tests.Static /Users/ben/workspace/credit-networks/speedy-murmurs-simulator/data/static-tiny-3-speedymurmurs-3-1-1-drop_all-random-10000\n",
      "task 24; something: java -cp target/pcn-simulator-1.0-SNAPSHOT-jar-with-dependencies.jar treeembedding.tests.Static /Users/ben/workspace/credit-networks/speedy-murmurs-simulator/data/static-tiny-3-speedymurmurs-3-1-1-drop_all-random-15000\n",
      "task 25; something: java -cp target/pcn-simulator-1.0-SNAPSHOT-jar-with-dependencies.jar treeembedding.tests.Static /Users/ben/workspace/credit-networks/speedy-murmurs-simulator/data/static-tiny-3-speedymurmurs-3-1-1-drop_all-random-20000\n",
      "task 26; something: java -cp target/pcn-simulator-1.0-SNAPSHOT-jar-with-dependencies.jar treeembedding.tests.Static /Users/ben/workspace/credit-networks/speedy-murmurs-simulator/data/static-tiny-3-speedymurmurs-3-1-1-drop_all-random-25000\n",
      "task 27; something: java -cp target/pcn-simulator-1.0-SNAPSHOT-jar-with-dependencies.jar treeembedding.tests.Static /Users/ben/workspace/credit-networks/speedy-murmurs-simulator/data/static-tiny-3-speedymurmurs-3-1-1-drop_all-random-30000\n",
      "task 28; something: java -cp target/pcn-simulator-1.0-SNAPSHOT-jar-with-dependencies.jar treeembedding.tests.Static /Users/ben/workspace/credit-networks/speedy-murmurs-simulator/data/static-tiny-4-speedymurmurs-3-1-1\n",
      "task 29; something: java -cp target/pcn-simulator-1.0-SNAPSHOT-jar-with-dependencies.jar treeembedding.tests.Static /Users/ben/workspace/credit-networks/speedy-murmurs-simulator/data/static-tiny-4-speedymurmurs-3-1-1-drop_all-random-5000\n",
      "task 30; something: java -cp target/pcn-simulator-1.0-SNAPSHOT-jar-with-dependencies.jar treeembedding.tests.Static /Users/ben/workspace/credit-networks/speedy-murmurs-simulator/data/static-tiny-4-speedymurmurs-3-1-1-drop_all-random-10000\n",
      "task 31; something: java -cp target/pcn-simulator-1.0-SNAPSHOT-jar-with-dependencies.jar treeembedding.tests.Static /Users/ben/workspace/credit-networks/speedy-murmurs-simulator/data/static-tiny-4-speedymurmurs-3-1-1-drop_all-random-15000\n",
      "task 32; something: java -cp target/pcn-simulator-1.0-SNAPSHOT-jar-with-dependencies.jar treeembedding.tests.Static /Users/ben/workspace/credit-networks/speedy-murmurs-simulator/data/static-tiny-4-speedymurmurs-3-1-1-drop_all-random-20000\n",
      "task 33; something: java -cp target/pcn-simulator-1.0-SNAPSHOT-jar-with-dependencies.jar treeembedding.tests.Static /Users/ben/workspace/credit-networks/speedy-murmurs-simulator/data/static-tiny-4-speedymurmurs-3-1-1-drop_all-random-25000\n",
      "task 34; something: java -cp target/pcn-simulator-1.0-SNAPSHOT-jar-with-dependencies.jar treeembedding.tests.Static /Users/ben/workspace/credit-networks/speedy-murmurs-simulator/data/static-tiny-4-speedymurmurs-3-1-1-drop_all-random-30000\n",
      "task 35; something: java -cp target/pcn-simulator-1.0-SNAPSHOT-jar-with-dependencies.jar treeembedding.tests.Static /Users/ben/workspace/credit-networks/speedy-murmurs-simulator/data/static-tiny-5-speedymurmurs-3-1-1\n",
      "task 36; something: java -cp target/pcn-simulator-1.0-SNAPSHOT-jar-with-dependencies.jar treeembedding.tests.Static /Users/ben/workspace/credit-networks/speedy-murmurs-simulator/data/static-tiny-5-speedymurmurs-3-1-1-drop_all-random-5000\n",
      "task 37; something: java -cp target/pcn-simulator-1.0-SNAPSHOT-jar-with-dependencies.jar treeembedding.tests.Static /Users/ben/workspace/credit-networks/speedy-murmurs-simulator/data/static-tiny-5-speedymurmurs-3-1-1-drop_all-random-10000\n",
      "task 38; something: java -cp target/pcn-simulator-1.0-SNAPSHOT-jar-with-dependencies.jar treeembedding.tests.Static /Users/ben/workspace/credit-networks/speedy-murmurs-simulator/data/static-tiny-5-speedymurmurs-3-1-1-drop_all-random-15000\n",
      "task 39; something: java -cp target/pcn-simulator-1.0-SNAPSHOT-jar-with-dependencies.jar treeembedding.tests.Static /Users/ben/workspace/credit-networks/speedy-murmurs-simulator/data/static-tiny-5-speedymurmurs-3-1-1-drop_all-random-20000\n",
      "task 40; something: java -cp target/pcn-simulator-1.0-SNAPSHOT-jar-with-dependencies.jar treeembedding.tests.Static /Users/ben/workspace/credit-networks/speedy-murmurs-simulator/data/static-tiny-5-speedymurmurs-3-1-1-drop_all-random-25000\n",
      "task 41; something: java -cp target/pcn-simulator-1.0-SNAPSHOT-jar-with-dependencies.jar treeembedding.tests.Static /Users/ben/workspace/credit-networks/speedy-murmurs-simulator/data/static-tiny-5-speedymurmurs-3-1-1-drop_all-random-30000\n",
      "task 42; something: java -cp target/pcn-simulator-1.0-SNAPSHOT-jar-with-dependencies.jar treeembedding.tests.Static /Users/ben/workspace/credit-networks/speedy-murmurs-simulator/data/static-tiny-6-speedymurmurs-3-1-1\n",
      "task 43; something: java -cp target/pcn-simulator-1.0-SNAPSHOT-jar-with-dependencies.jar treeembedding.tests.Static /Users/ben/workspace/credit-networks/speedy-murmurs-simulator/data/static-tiny-6-speedymurmurs-3-1-1-drop_all-random-5000\n",
      "task 44; something: java -cp target/pcn-simulator-1.0-SNAPSHOT-jar-with-dependencies.jar treeembedding.tests.Static /Users/ben/workspace/credit-networks/speedy-murmurs-simulator/data/static-tiny-6-speedymurmurs-3-1-1-drop_all-random-10000\n",
      "task 45; something: java -cp target/pcn-simulator-1.0-SNAPSHOT-jar-with-dependencies.jar treeembedding.tests.Static /Users/ben/workspace/credit-networks/speedy-murmurs-simulator/data/static-tiny-6-speedymurmurs-3-1-1-drop_all-random-15000\n",
      "task 46; something: java -cp target/pcn-simulator-1.0-SNAPSHOT-jar-with-dependencies.jar treeembedding.tests.Static /Users/ben/workspace/credit-networks/speedy-murmurs-simulator/data/static-tiny-6-speedymurmurs-3-1-1-drop_all-random-20000\n",
      "task 47; something: java -cp target/pcn-simulator-1.0-SNAPSHOT-jar-with-dependencies.jar treeembedding.tests.Static /Users/ben/workspace/credit-networks/speedy-murmurs-simulator/data/static-tiny-6-speedymurmurs-3-1-1-drop_all-random-25000\n",
      "task 48; something: java -cp target/pcn-simulator-1.0-SNAPSHOT-jar-with-dependencies.jar treeembedding.tests.Static /Users/ben/workspace/credit-networks/speedy-murmurs-simulator/data/static-tiny-6-speedymurmurs-3-1-1-drop_all-random-30000\n",
      "task 49; something: java -cp target/pcn-simulator-1.0-SNAPSHOT-jar-with-dependencies.jar treeembedding.tests.Static /Users/ben/workspace/credit-networks/speedy-murmurs-simulator/data/static-tiny-7-speedymurmurs-3-1-1\n",
      "task 50; something: java -cp target/pcn-simulator-1.0-SNAPSHOT-jar-with-dependencies.jar treeembedding.tests.Static /Users/ben/workspace/credit-networks/speedy-murmurs-simulator/data/static-tiny-7-speedymurmurs-3-1-1-drop_all-random-5000\n",
      "task 51; something: java -cp target/pcn-simulator-1.0-SNAPSHOT-jar-with-dependencies.jar treeembedding.tests.Static /Users/ben/workspace/credit-networks/speedy-murmurs-simulator/data/static-tiny-7-speedymurmurs-3-1-1-drop_all-random-10000\n",
      "task 52; something: java -cp target/pcn-simulator-1.0-SNAPSHOT-jar-with-dependencies.jar treeembedding.tests.Static /Users/ben/workspace/credit-networks/speedy-murmurs-simulator/data/static-tiny-7-speedymurmurs-3-1-1-drop_all-random-15000\n",
      "task 53; something: java -cp target/pcn-simulator-1.0-SNAPSHOT-jar-with-dependencies.jar treeembedding.tests.Static /Users/ben/workspace/credit-networks/speedy-murmurs-simulator/data/static-tiny-7-speedymurmurs-3-1-1-drop_all-random-20000\n",
      "task 54; something: java -cp target/pcn-simulator-1.0-SNAPSHOT-jar-with-dependencies.jar treeembedding.tests.Static /Users/ben/workspace/credit-networks/speedy-murmurs-simulator/data/static-tiny-7-speedymurmurs-3-1-1-drop_all-random-25000\n",
      "task 55; something: java -cp target/pcn-simulator-1.0-SNAPSHOT-jar-with-dependencies.jar treeembedding.tests.Static /Users/ben/workspace/credit-networks/speedy-murmurs-simulator/data/static-tiny-7-speedymurmurs-3-1-1-drop_all-random-30000\n",
      "task 56; something: java -cp target/pcn-simulator-1.0-SNAPSHOT-jar-with-dependencies.jar treeembedding.tests.Static /Users/ben/workspace/credit-networks/speedy-murmurs-simulator/data/static-tiny-8-speedymurmurs-3-1-1\n",
      "task 57; something: java -cp target/pcn-simulator-1.0-SNAPSHOT-jar-with-dependencies.jar treeembedding.tests.Static /Users/ben/workspace/credit-networks/speedy-murmurs-simulator/data/static-tiny-8-speedymurmurs-3-1-1-drop_all-random-5000\n",
      "task 58; something: java -cp target/pcn-simulator-1.0-SNAPSHOT-jar-with-dependencies.jar treeembedding.tests.Static /Users/ben/workspace/credit-networks/speedy-murmurs-simulator/data/static-tiny-8-speedymurmurs-3-1-1-drop_all-random-10000\n",
      "task 59; something: java -cp target/pcn-simulator-1.0-SNAPSHOT-jar-with-dependencies.jar treeembedding.tests.Static /Users/ben/workspace/credit-networks/speedy-murmurs-simulator/data/static-tiny-8-speedymurmurs-3-1-1-drop_all-random-15000\n",
      "task 60; something: java -cp target/pcn-simulator-1.0-SNAPSHOT-jar-with-dependencies.jar treeembedding.tests.Static /Users/ben/workspace/credit-networks/speedy-murmurs-simulator/data/static-tiny-8-speedymurmurs-3-1-1-drop_all-random-20000\n",
      "task 61; something: java -cp target/pcn-simulator-1.0-SNAPSHOT-jar-with-dependencies.jar treeembedding.tests.Static /Users/ben/workspace/credit-networks/speedy-murmurs-simulator/data/static-tiny-8-speedymurmurs-3-1-1-drop_all-random-25000\n",
      "task 62; something: java -cp target/pcn-simulator-1.0-SNAPSHOT-jar-with-dependencies.jar treeembedding.tests.Static /Users/ben/workspace/credit-networks/speedy-murmurs-simulator/data/static-tiny-8-speedymurmurs-3-1-1-drop_all-random-30000\n",
      "task 63; something: java -cp target/pcn-simulator-1.0-SNAPSHOT-jar-with-dependencies.jar treeembedding.tests.Static /Users/ben/workspace/credit-networks/speedy-murmurs-simulator/data/static-tiny-9-speedymurmurs-3-1-1\n",
      "task 64; something: java -cp target/pcn-simulator-1.0-SNAPSHOT-jar-with-dependencies.jar treeembedding.tests.Static /Users/ben/workspace/credit-networks/speedy-murmurs-simulator/data/static-tiny-9-speedymurmurs-3-1-1-drop_all-random-5000\n",
      "task 65; something: java -cp target/pcn-simulator-1.0-SNAPSHOT-jar-with-dependencies.jar treeembedding.tests.Static /Users/ben/workspace/credit-networks/speedy-murmurs-simulator/data/static-tiny-9-speedymurmurs-3-1-1-drop_all-random-10000\n",
      "task 66; something: java -cp target/pcn-simulator-1.0-SNAPSHOT-jar-with-dependencies.jar treeembedding.tests.Static /Users/ben/workspace/credit-networks/speedy-murmurs-simulator/data/static-tiny-9-speedymurmurs-3-1-1-drop_all-random-15000\n",
      "task 67; something: java -cp target/pcn-simulator-1.0-SNAPSHOT-jar-with-dependencies.jar treeembedding.tests.Static /Users/ben/workspace/credit-networks/speedy-murmurs-simulator/data/static-tiny-9-speedymurmurs-3-1-1-drop_all-random-20000\n",
      "task 68; something: java -cp target/pcn-simulator-1.0-SNAPSHOT-jar-with-dependencies.jar treeembedding.tests.Static /Users/ben/workspace/credit-networks/speedy-murmurs-simulator/data/static-tiny-9-speedymurmurs-3-1-1-drop_all-random-25000\n",
      "task 69; something: java -cp target/pcn-simulator-1.0-SNAPSHOT-jar-with-dependencies.jar treeembedding.tests.Static /Users/ben/workspace/credit-networks/speedy-murmurs-simulator/data/static-tiny-9-speedymurmurs-3-1-1-drop_all-random-30000\n",
      "CPU times: user 360 ms, sys: 45.4 ms, total: 406 ms\n",
      "Wall time: 5min 38s\n"
     ]
    },
    {
     "name": "stdout",
     "output_type": "stream",
     "text": [
      "task 0; something: java -cp target/pcn-simulator-1.0-SNAPSHOT-jar-with-dependencies.jar treeembedding.tests.Static /Users/ben/workspace/credit-networks/speedy-murmurs-simulator/data/static-tiny-0-silentwhispers-3-1-1\n",
      "task 1; something: java -cp target/pcn-simulator-1.0-SNAPSHOT-jar-with-dependencies.jar treeembedding.tests.Static /Users/ben/workspace/credit-networks/speedy-murmurs-simulator/data/static-tiny-0-silentwhispers-3-1-1-drop_all-random-5000\n",
      "task 2; something: java -cp target/pcn-simulator-1.0-SNAPSHOT-jar-with-dependencies.jar treeembedding.tests.Static /Users/ben/workspace/credit-networks/speedy-murmurs-simulator/data/static-tiny-0-silentwhispers-3-1-1-drop_all-random-10000\n",
      "task 3; something: java -cp target/pcn-simulator-1.0-SNAPSHOT-jar-with-dependencies.jar treeembedding.tests.Static /Users/ben/workspace/credit-networks/speedy-murmurs-simulator/data/static-tiny-0-silentwhispers-3-1-1-drop_all-random-15000\n",
      "task 4; something: java -cp target/pcn-simulator-1.0-SNAPSHOT-jar-with-dependencies.jar treeembedding.tests.Static /Users/ben/workspace/credit-networks/speedy-murmurs-simulator/data/static-tiny-0-silentwhispers-3-1-1-drop_all-random-20000\n",
      "task 5; something: java -cp target/pcn-simulator-1.0-SNAPSHOT-jar-with-dependencies.jar treeembedding.tests.Static /Users/ben/workspace/credit-networks/speedy-murmurs-simulator/data/static-tiny-0-silentwhispers-3-1-1-drop_all-random-25000\n",
      "task 6; something: java -cp target/pcn-simulator-1.0-SNAPSHOT-jar-with-dependencies.jar treeembedding.tests.Static /Users/ben/workspace/credit-networks/speedy-murmurs-simulator/data/static-tiny-0-silentwhispers-3-1-1-drop_all-random-30000\n",
      "task 7; something: java -cp target/pcn-simulator-1.0-SNAPSHOT-jar-with-dependencies.jar treeembedding.tests.Static /Users/ben/workspace/credit-networks/speedy-murmurs-simulator/data/static-tiny-1-silentwhispers-3-1-1\n",
      "task 8; something: java -cp target/pcn-simulator-1.0-SNAPSHOT-jar-with-dependencies.jar treeembedding.tests.Static /Users/ben/workspace/credit-networks/speedy-murmurs-simulator/data/static-tiny-1-silentwhispers-3-1-1-drop_all-random-5000\n",
      "task 9; something: java -cp target/pcn-simulator-1.0-SNAPSHOT-jar-with-dependencies.jar treeembedding.tests.Static /Users/ben/workspace/credit-networks/speedy-murmurs-simulator/data/static-tiny-1-silentwhispers-3-1-1-drop_all-random-10000\n",
      "task 10; something: java -cp target/pcn-simulator-1.0-SNAPSHOT-jar-with-dependencies.jar treeembedding.tests.Static /Users/ben/workspace/credit-networks/speedy-murmurs-simulator/data/static-tiny-1-silentwhispers-3-1-1-drop_all-random-15000\n",
      "task 11; something: java -cp target/pcn-simulator-1.0-SNAPSHOT-jar-with-dependencies.jar treeembedding.tests.Static /Users/ben/workspace/credit-networks/speedy-murmurs-simulator/data/static-tiny-1-silentwhispers-3-1-1-drop_all-random-20000\n",
      "task 12; something: java -cp target/pcn-simulator-1.0-SNAPSHOT-jar-with-dependencies.jar treeembedding.tests.Static /Users/ben/workspace/credit-networks/speedy-murmurs-simulator/data/static-tiny-1-silentwhispers-3-1-1-drop_all-random-25000\n",
      "task 13; something: java -cp target/pcn-simulator-1.0-SNAPSHOT-jar-with-dependencies.jar treeembedding.tests.Static /Users/ben/workspace/credit-networks/speedy-murmurs-simulator/data/static-tiny-1-silentwhispers-3-1-1-drop_all-random-30000\n",
      "task 14; something: java -cp target/pcn-simulator-1.0-SNAPSHOT-jar-with-dependencies.jar treeembedding.tests.Static /Users/ben/workspace/credit-networks/speedy-murmurs-simulator/data/static-tiny-2-silentwhispers-3-1-1\n",
      "task 15; something: java -cp target/pcn-simulator-1.0-SNAPSHOT-jar-with-dependencies.jar treeembedding.tests.Static /Users/ben/workspace/credit-networks/speedy-murmurs-simulator/data/static-tiny-2-silentwhispers-3-1-1-drop_all-random-5000\n",
      "task 16; something: java -cp target/pcn-simulator-1.0-SNAPSHOT-jar-with-dependencies.jar treeembedding.tests.Static /Users/ben/workspace/credit-networks/speedy-murmurs-simulator/data/static-tiny-2-silentwhispers-3-1-1-drop_all-random-10000\n",
      "task 17; something: java -cp target/pcn-simulator-1.0-SNAPSHOT-jar-with-dependencies.jar treeembedding.tests.Static /Users/ben/workspace/credit-networks/speedy-murmurs-simulator/data/static-tiny-2-silentwhispers-3-1-1-drop_all-random-15000\n",
      "task 18; something: java -cp target/pcn-simulator-1.0-SNAPSHOT-jar-with-dependencies.jar treeembedding.tests.Static /Users/ben/workspace/credit-networks/speedy-murmurs-simulator/data/static-tiny-2-silentwhispers-3-1-1-drop_all-random-20000\n",
      "task 19; something: java -cp target/pcn-simulator-1.0-SNAPSHOT-jar-with-dependencies.jar treeembedding.tests.Static /Users/ben/workspace/credit-networks/speedy-murmurs-simulator/data/static-tiny-2-silentwhispers-3-1-1-drop_all-random-25000\n",
      "task 20; something: java -cp target/pcn-simulator-1.0-SNAPSHOT-jar-with-dependencies.jar treeembedding.tests.Static /Users/ben/workspace/credit-networks/speedy-murmurs-simulator/data/static-tiny-2-silentwhispers-3-1-1-drop_all-random-30000\n",
      "task 21; something: java -cp target/pcn-simulator-1.0-SNAPSHOT-jar-with-dependencies.jar treeembedding.tests.Static /Users/ben/workspace/credit-networks/speedy-murmurs-simulator/data/static-tiny-3-silentwhispers-3-1-1\n",
      "task 22; something: java -cp target/pcn-simulator-1.0-SNAPSHOT-jar-with-dependencies.jar treeembedding.tests.Static /Users/ben/workspace/credit-networks/speedy-murmurs-simulator/data/static-tiny-3-silentwhispers-3-1-1-drop_all-random-5000\n",
      "task 23; something: java -cp target/pcn-simulator-1.0-SNAPSHOT-jar-with-dependencies.jar treeembedding.tests.Static /Users/ben/workspace/credit-networks/speedy-murmurs-simulator/data/static-tiny-3-silentwhispers-3-1-1-drop_all-random-10000\n",
      "task 24; something: java -cp target/pcn-simulator-1.0-SNAPSHOT-jar-with-dependencies.jar treeembedding.tests.Static /Users/ben/workspace/credit-networks/speedy-murmurs-simulator/data/static-tiny-3-silentwhispers-3-1-1-drop_all-random-15000\n",
      "task 25; something: java -cp target/pcn-simulator-1.0-SNAPSHOT-jar-with-dependencies.jar treeembedding.tests.Static /Users/ben/workspace/credit-networks/speedy-murmurs-simulator/data/static-tiny-3-silentwhispers-3-1-1-drop_all-random-20000\n",
      "task 26; something: java -cp target/pcn-simulator-1.0-SNAPSHOT-jar-with-dependencies.jar treeembedding.tests.Static /Users/ben/workspace/credit-networks/speedy-murmurs-simulator/data/static-tiny-3-silentwhispers-3-1-1-drop_all-random-25000\n",
      "task 27; something: java -cp target/pcn-simulator-1.0-SNAPSHOT-jar-with-dependencies.jar treeembedding.tests.Static /Users/ben/workspace/credit-networks/speedy-murmurs-simulator/data/static-tiny-3-silentwhispers-3-1-1-drop_all-random-30000\n",
      "task 28; something: java -cp target/pcn-simulator-1.0-SNAPSHOT-jar-with-dependencies.jar treeembedding.tests.Static /Users/ben/workspace/credit-networks/speedy-murmurs-simulator/data/static-tiny-4-silentwhispers-3-1-1\n",
      "task 29; something: java -cp target/pcn-simulator-1.0-SNAPSHOT-jar-with-dependencies.jar treeembedding.tests.Static /Users/ben/workspace/credit-networks/speedy-murmurs-simulator/data/static-tiny-4-silentwhispers-3-1-1-drop_all-random-5000\n",
      "task 30; something: java -cp target/pcn-simulator-1.0-SNAPSHOT-jar-with-dependencies.jar treeembedding.tests.Static /Users/ben/workspace/credit-networks/speedy-murmurs-simulator/data/static-tiny-4-silentwhispers-3-1-1-drop_all-random-10000\n",
      "task 31; something: java -cp target/pcn-simulator-1.0-SNAPSHOT-jar-with-dependencies.jar treeembedding.tests.Static /Users/ben/workspace/credit-networks/speedy-murmurs-simulator/data/static-tiny-4-silentwhispers-3-1-1-drop_all-random-15000\n",
      "task 32; something: java -cp target/pcn-simulator-1.0-SNAPSHOT-jar-with-dependencies.jar treeembedding.tests.Static /Users/ben/workspace/credit-networks/speedy-murmurs-simulator/data/static-tiny-4-silentwhispers-3-1-1-drop_all-random-20000\n",
      "task 33; something: java -cp target/pcn-simulator-1.0-SNAPSHOT-jar-with-dependencies.jar treeembedding.tests.Static /Users/ben/workspace/credit-networks/speedy-murmurs-simulator/data/static-tiny-4-silentwhispers-3-1-1-drop_all-random-25000\n",
      "task 34; something: java -cp target/pcn-simulator-1.0-SNAPSHOT-jar-with-dependencies.jar treeembedding.tests.Static /Users/ben/workspace/credit-networks/speedy-murmurs-simulator/data/static-tiny-4-silentwhispers-3-1-1-drop_all-random-30000\n",
      "task 35; something: java -cp target/pcn-simulator-1.0-SNAPSHOT-jar-with-dependencies.jar treeembedding.tests.Static /Users/ben/workspace/credit-networks/speedy-murmurs-simulator/data/static-tiny-5-silentwhispers-3-1-1\n",
      "task 36; something: java -cp target/pcn-simulator-1.0-SNAPSHOT-jar-with-dependencies.jar treeembedding.tests.Static /Users/ben/workspace/credit-networks/speedy-murmurs-simulator/data/static-tiny-5-silentwhispers-3-1-1-drop_all-random-5000\n",
      "task 37; something: java -cp target/pcn-simulator-1.0-SNAPSHOT-jar-with-dependencies.jar treeembedding.tests.Static /Users/ben/workspace/credit-networks/speedy-murmurs-simulator/data/static-tiny-5-silentwhispers-3-1-1-drop_all-random-10000\n",
      "task 38; something: java -cp target/pcn-simulator-1.0-SNAPSHOT-jar-with-dependencies.jar treeembedding.tests.Static /Users/ben/workspace/credit-networks/speedy-murmurs-simulator/data/static-tiny-5-silentwhispers-3-1-1-drop_all-random-15000\n",
      "task 39; something: java -cp target/pcn-simulator-1.0-SNAPSHOT-jar-with-dependencies.jar treeembedding.tests.Static /Users/ben/workspace/credit-networks/speedy-murmurs-simulator/data/static-tiny-5-silentwhispers-3-1-1-drop_all-random-20000\n",
      "task 40; something: java -cp target/pcn-simulator-1.0-SNAPSHOT-jar-with-dependencies.jar treeembedding.tests.Static /Users/ben/workspace/credit-networks/speedy-murmurs-simulator/data/static-tiny-5-silentwhispers-3-1-1-drop_all-random-25000\n",
      "task 41; something: java -cp target/pcn-simulator-1.0-SNAPSHOT-jar-with-dependencies.jar treeembedding.tests.Static /Users/ben/workspace/credit-networks/speedy-murmurs-simulator/data/static-tiny-5-silentwhispers-3-1-1-drop_all-random-30000\n",
      "task 42; something: java -cp target/pcn-simulator-1.0-SNAPSHOT-jar-with-dependencies.jar treeembedding.tests.Static /Users/ben/workspace/credit-networks/speedy-murmurs-simulator/data/static-tiny-6-silentwhispers-3-1-1\n",
      "task 43; something: java -cp target/pcn-simulator-1.0-SNAPSHOT-jar-with-dependencies.jar treeembedding.tests.Static /Users/ben/workspace/credit-networks/speedy-murmurs-simulator/data/static-tiny-6-silentwhispers-3-1-1-drop_all-random-5000\n",
      "task 44; something: java -cp target/pcn-simulator-1.0-SNAPSHOT-jar-with-dependencies.jar treeembedding.tests.Static /Users/ben/workspace/credit-networks/speedy-murmurs-simulator/data/static-tiny-6-silentwhispers-3-1-1-drop_all-random-10000\n",
      "task 45; something: java -cp target/pcn-simulator-1.0-SNAPSHOT-jar-with-dependencies.jar treeembedding.tests.Static /Users/ben/workspace/credit-networks/speedy-murmurs-simulator/data/static-tiny-6-silentwhispers-3-1-1-drop_all-random-15000\n",
      "task 46; something: java -cp target/pcn-simulator-1.0-SNAPSHOT-jar-with-dependencies.jar treeembedding.tests.Static /Users/ben/workspace/credit-networks/speedy-murmurs-simulator/data/static-tiny-6-silentwhispers-3-1-1-drop_all-random-20000\n",
      "task 47; something: java -cp target/pcn-simulator-1.0-SNAPSHOT-jar-with-dependencies.jar treeembedding.tests.Static /Users/ben/workspace/credit-networks/speedy-murmurs-simulator/data/static-tiny-6-silentwhispers-3-1-1-drop_all-random-25000\n",
      "task 48; something: java -cp target/pcn-simulator-1.0-SNAPSHOT-jar-with-dependencies.jar treeembedding.tests.Static /Users/ben/workspace/credit-networks/speedy-murmurs-simulator/data/static-tiny-6-silentwhispers-3-1-1-drop_all-random-30000\n",
      "task 49; something: java -cp target/pcn-simulator-1.0-SNAPSHOT-jar-with-dependencies.jar treeembedding.tests.Static /Users/ben/workspace/credit-networks/speedy-murmurs-simulator/data/static-tiny-7-silentwhispers-3-1-1\n",
      "task 50; something: java -cp target/pcn-simulator-1.0-SNAPSHOT-jar-with-dependencies.jar treeembedding.tests.Static /Users/ben/workspace/credit-networks/speedy-murmurs-simulator/data/static-tiny-7-silentwhispers-3-1-1-drop_all-random-5000\n",
      "task 51; something: java -cp target/pcn-simulator-1.0-SNAPSHOT-jar-with-dependencies.jar treeembedding.tests.Static /Users/ben/workspace/credit-networks/speedy-murmurs-simulator/data/static-tiny-7-silentwhispers-3-1-1-drop_all-random-10000\n",
      "task 52; something: java -cp target/pcn-simulator-1.0-SNAPSHOT-jar-with-dependencies.jar treeembedding.tests.Static /Users/ben/workspace/credit-networks/speedy-murmurs-simulator/data/static-tiny-7-silentwhispers-3-1-1-drop_all-random-15000\n",
      "task 53; something: java -cp target/pcn-simulator-1.0-SNAPSHOT-jar-with-dependencies.jar treeembedding.tests.Static /Users/ben/workspace/credit-networks/speedy-murmurs-simulator/data/static-tiny-7-silentwhispers-3-1-1-drop_all-random-20000\n",
      "task 54; something: java -cp target/pcn-simulator-1.0-SNAPSHOT-jar-with-dependencies.jar treeembedding.tests.Static /Users/ben/workspace/credit-networks/speedy-murmurs-simulator/data/static-tiny-7-silentwhispers-3-1-1-drop_all-random-25000\n",
      "task 55; something: java -cp target/pcn-simulator-1.0-SNAPSHOT-jar-with-dependencies.jar treeembedding.tests.Static /Users/ben/workspace/credit-networks/speedy-murmurs-simulator/data/static-tiny-7-silentwhispers-3-1-1-drop_all-random-30000\n",
      "task 56; something: java -cp target/pcn-simulator-1.0-SNAPSHOT-jar-with-dependencies.jar treeembedding.tests.Static /Users/ben/workspace/credit-networks/speedy-murmurs-simulator/data/static-tiny-8-silentwhispers-3-1-1\n",
      "task 57; something: java -cp target/pcn-simulator-1.0-SNAPSHOT-jar-with-dependencies.jar treeembedding.tests.Static /Users/ben/workspace/credit-networks/speedy-murmurs-simulator/data/static-tiny-8-silentwhispers-3-1-1-drop_all-random-5000\n",
      "task 58; something: java -cp target/pcn-simulator-1.0-SNAPSHOT-jar-with-dependencies.jar treeembedding.tests.Static /Users/ben/workspace/credit-networks/speedy-murmurs-simulator/data/static-tiny-8-silentwhispers-3-1-1-drop_all-random-10000\n",
      "task 59; something: java -cp target/pcn-simulator-1.0-SNAPSHOT-jar-with-dependencies.jar treeembedding.tests.Static /Users/ben/workspace/credit-networks/speedy-murmurs-simulator/data/static-tiny-8-silentwhispers-3-1-1-drop_all-random-15000\n",
      "task 60; something: java -cp target/pcn-simulator-1.0-SNAPSHOT-jar-with-dependencies.jar treeembedding.tests.Static /Users/ben/workspace/credit-networks/speedy-murmurs-simulator/data/static-tiny-8-silentwhispers-3-1-1-drop_all-random-20000\n",
      "task 61; something: java -cp target/pcn-simulator-1.0-SNAPSHOT-jar-with-dependencies.jar treeembedding.tests.Static /Users/ben/workspace/credit-networks/speedy-murmurs-simulator/data/static-tiny-8-silentwhispers-3-1-1-drop_all-random-25000\n",
      "task 62; something: java -cp target/pcn-simulator-1.0-SNAPSHOT-jar-with-dependencies.jar treeembedding.tests.Static /Users/ben/workspace/credit-networks/speedy-murmurs-simulator/data/static-tiny-8-silentwhispers-3-1-1-drop_all-random-30000\n",
      "task 63; something: java -cp target/pcn-simulator-1.0-SNAPSHOT-jar-with-dependencies.jar treeembedding.tests.Static /Users/ben/workspace/credit-networks/speedy-murmurs-simulator/data/static-tiny-9-silentwhispers-3-1-1\n",
      "task 64; something: java -cp target/pcn-simulator-1.0-SNAPSHOT-jar-with-dependencies.jar treeembedding.tests.Static /Users/ben/workspace/credit-networks/speedy-murmurs-simulator/data/static-tiny-9-silentwhispers-3-1-1-drop_all-random-5000\n",
      "task 65; something: java -cp target/pcn-simulator-1.0-SNAPSHOT-jar-with-dependencies.jar treeembedding.tests.Static /Users/ben/workspace/credit-networks/speedy-murmurs-simulator/data/static-tiny-9-silentwhispers-3-1-1-drop_all-random-10000\n",
      "task 66; something: java -cp target/pcn-simulator-1.0-SNAPSHOT-jar-with-dependencies.jar treeembedding.tests.Static /Users/ben/workspace/credit-networks/speedy-murmurs-simulator/data/static-tiny-9-silentwhispers-3-1-1-drop_all-random-15000\n",
      "task 67; something: java -cp target/pcn-simulator-1.0-SNAPSHOT-jar-with-dependencies.jar treeembedding.tests.Static /Users/ben/workspace/credit-networks/speedy-murmurs-simulator/data/static-tiny-9-silentwhispers-3-1-1-drop_all-random-20000\n",
      "task 68; something: java -cp target/pcn-simulator-1.0-SNAPSHOT-jar-with-dependencies.jar treeembedding.tests.Static /Users/ben/workspace/credit-networks/speedy-murmurs-simulator/data/static-tiny-9-silentwhispers-3-1-1-drop_all-random-25000\n",
      "task 69; something: java -cp target/pcn-simulator-1.0-SNAPSHOT-jar-with-dependencies.jar treeembedding.tests.Static /Users/ben/workspace/credit-networks/speedy-murmurs-simulator/data/static-tiny-9-silentwhispers-3-1-1-drop_all-random-30000\n",
      "CPU times: user 365 ms, sys: 31.3 ms, total: 396 ms\n",
      "Wall time: 6min 46s\n",
      "Done.\n"
     ]
    }
   ],
   "source": [
    "def do_experiments(config_dict_list):\n",
    "    lbv = ipyclient.load_balanced_view()\n",
    "    result = lbv.map_sync(simulation_utils.do_experiment, config_dict_list)\n",
    "\n",
    "    for i,r in enumerate(result):\n",
    "        print(f\"Task ID #{i}; Command: {r}\")\n",
    "\n",
    "\n",
    "%time do_experiments(config_dict_list_srvna_sm)\n",
    "%time do_experiments(config_dict_list_srvna_sw)\n",
    "print(\"Done.\")"
   ]
  },
  {
   "cell_type": "markdown",
   "metadata": {
    "ein.tags": "worksheet-0",
    "slideshow": {
     "slide_type": "-"
    }
   },
   "source": [
    "### Plot results"
   ]
  },
  {
   "cell_type": "code",
   "execution_count": 4,
   "metadata": {
    "autoscroll": false,
    "ein.hycell": false,
    "ein.tags": "worksheet-0",
    "slideshow": {
     "slide_type": "-"
    }
   },
   "outputs": [
    {
     "data": {
      "text/plain": [
       "<matplotlib.legend.Legend at 0x11c3ebc18>"
      ]
     },
     "execution_count": 4,
     "metadata": {},
     "output_type": "execute_result"
    },
    {
     "data": {
      "image/png": "[encoded data removed]",
      "text/plain": [
       "<Figure size 432x288 with 1 Axes>"
      ]
     },
     "metadata": {
      "image/png": {
       "height": 285,
       "width": 406
      },
      "needs_background": "light"
     },
     "output_type": "display_data"
    }
   ],
   "source": [
    "key = 'CREDIT_NETWORK_SUCCESS'\n",
    "\n",
    "silentwhispers_data = su.extract_from_singles_config(config_dict_list_srvna_sw, key, \"attack_properties\", \"attackers\")\n",
    "speedymurmurs_data = su.extract_from_singles_config(config_dict_list_srvna_sm, key, \"attack_properties\", \"attackers\")\n",
    "\n",
    "matplotlib.pyplot.figure()\n",
    "matplotlib.pyplot.title('Performance Under Attack', size='xx-large')\n",
    "matplotlib.pyplot.ylabel('Success Ratio', size='x-large')\n",
    "matplotlib.pyplot.xlabel('Byzantine Nodes', size='x-large')\n",
    "matplotlib.pyplot.axis([0,30000,0.0,1.0])\n",
    "\n",
    "%config InlineBackend.figure_format ='retina'\n",
    "matplotlib.pyplot.plot(range(0,30001, 5000), silentwhispers_data, 'r*-', markersize=5, linewidth=1, label='SilentWhispers')\n",
    "matplotlib.pyplot.plot(range(0,30001, 5000), speedymurmurs_data, 'b*-', markersize=5, linewidth=1, label='SpeedyMurmurs')\n",
    "matplotlib.pyplot.legend(loc=(0,0), scatterpoints=10)"
   ]
  },
  {
   "cell_type": "code",
   "execution_count": 40,
   "metadata": {
    "autoscroll": false,
    "ein.hycell": false,
    "ein.tags": "worksheet-0",
    "slideshow": {
     "slide_type": "-"
    }
   },
   "outputs": [],
   "source": [
    "def test_func(x):\n",
    "    import time\n",
    "    time.sleep(x)\n",
    "    t = time.time()\n",
    "    return f\"slept {x}; time: {t}\"\n",
    "\n"
   ]
  },
  {
   "cell_type": "code",
   "execution_count": 41,
   "metadata": {
    "autoscroll": false,
    "ein.hycell": false,
    "ein.tags": "worksheet-0",
    "slideshow": {
     "slide_type": "-"
    }
   },
   "outputs": [
    {
     "name": "stdout",
     "output_type": "stream",
     "text": [
      "task 0; something: slept 0; time: 1557501080.9879968\n",
      "task 1; something: slept 1; time: 1557501081.990166\n",
      "task 2; something: slept 2; time: 1557501082.9893508\n",
      "task 3; something: slept 3; time: 1557501085.989772\n",
      "task 4; something: slept 4; time: 1557501084.9919848\n",
      "task 5; something: slept 5; time: 1557501089.995129\n",
      "task 6; something: slept 6; time: 1557501086.988757\n",
      "task 7; something: slept 7; time: 1557501093.993379\n"
     ]
    }
   ],
   "source": [
    "#e = [(lambda: t(i)) for i in range(0, 4)]\n",
    "\n",
    "ipyclient.ids\n",
    "# v = ipyclient.load_balanced_view()\n",
    "a = ipyclient[:].map_async(test_func, range(0,8))\n",
    "for i,r in enumerate(a):\n",
    "    print(f\"task {i}; something: {r}\")"
   ]
  },
  {
   "cell_type": "code",
   "execution_count": null,
   "metadata": {
    "autoscroll": false,
    "ein.hycell": false,
    "ein.tags": "worksheet-0",
    "slideshow": {
     "slide_type": "-"
    }
   },
   "outputs": [],
   "source": []
  }
 ],
 "metadata": {
  "kernelspec": {
   "display_name": "Python 3",
   "language": "python",
   "name": "python3"
  },
  "language_info": {
   "codemirror_mode": {
    "name": "ipython",
    "version": 3
   },
   "file_extension": ".py",
   "mimetype": "text/x-python",
   "name": "python",
   "nbconvert_exporter": "python",
   "pygments_lexer": "ipython3",
   "version": "3.7.3"
  },
  "name": "Payment-Channel-Network-Simulations.ipynb"
 },
 "nbformat": 4,
 "nbformat_minor": 2
}
