{
 "cells": [
  {
   "cell_type": "code",
   "execution_count": 6,
   "metadata": {},
   "outputs": [],
   "source": [
    "import numpy as np\n",
    "import pandas as pd\n",
    "import matplotlib.pyplot as plt\n",
    "import subprocess\n",
    "import os\n",
    "%matplotlib inline"
   ]
  },
  {
   "cell_type": "markdown",
   "metadata": {},
   "source": [
    "## General utility functions and variables"
   ]
  },
  {
   "cell_type": "code",
   "execution_count": 7,
   "metadata": {},
   "outputs": [],
   "source": [
    "global singles\n",
    "global classpath\n",
    "global ID\n",
    "global silentwhispers\n",
    "global speedymurmurs\n",
    "global max_steps\n",
    "global max_attempts\n",
    "global max_trees\n",
    "\n",
    "singles = '_singles.txt'\n",
    "classpath = 'bin/'\n",
    "ID = 'id'\n",
    "silentwhispers = 'silentwhispers'\n",
    "speedymurmurs = 'speedymurmurs'\n",
    "maxflow = 'maxflow'\n",
    "max_steps = 9\n",
    "max_attempts = 10\n",
    "max_trees = 7\n",
    "\n",
    "algo_info = {\n",
    "    'silentwhispers':{\n",
    "        'token':'SW-PER-MUL',\n",
    "        'run_token':'SILENTW-false-true',\n",
    "        'short_name':'SW',\n",
    "        'id':0\n",
    "    },\n",
    "    'speedymurmurs':{\n",
    "        'token':'V-DYN',\n",
    "        'run_token':'TDRAP-true-false',\n",
    "        'short_name':'SM',\n",
    "        'id':7\n",
    "    },\n",
    "    'maxflow':{\n",
    "        'short_name':'M',\n",
    "        'id':10\n",
    "    }\n",
    "}\n",
    "static_node_count = '67149'\n",
    "dynamic_node_count = '93502'\n",
    "\n",
    "static_data_root = 'data/static/READABLE_FILE_'\n",
    "dynamic_data_root = 'data/READABLE_FILE_'\n",
    "\n",
    "dynamic_epoch = '165552.45497208898'\n",
    "static_epoch = '1000.0'\n",
    "\n",
    "def get_static_data_path(algo, tree, attempts):\n",
    "    return f'{static_data_root}{algo_info[algo][\"token\"]}-{static_node_count}/0/CREDIT_NETWORK-STATIC-{static_epoch}-TREE_ROUTE_{algo_info[algo][\"run_token\"]}-{tree}-2000.0-RANDOM_PARTITIONER-{attempts}'\n",
    "\n",
    "def get_dynamic_data_path(algo, tree, attempts, step):\n",
    "    step += 1\n",
    "    retries = attempts - 1\n",
    "    if algo == maxflow:\n",
    "        return f'{dynamic_data_root}{algo_info[algo][\"short_name\"]}-P{step}-{dynamic_node_count}/0/CREDIT_MAX_FLOW-0.0-0'\n",
    "    else:\n",
    "        return f'{dynamic_data_root}{algo_info[algo][\"short_name\"]}-P{step}-{dynamic_node_count}/0/CREDIT_NETWORK-{algo_info[algo][\"short_name\"]}-P{step}-{dynamic_epoch}-TREE_ROUTE_{algo_info[algo][\"run_token\"]}-{tree}-331.10490994417796-RANDOM_PARTITIONER-{retries}'\n",
    "\n",
    "def extract_kv_pairs_from_singles(singles_path):\n",
    "    ret = {}\n",
    "    with open(singles_path, 'r') as f:\n",
    "        for line in f:\n",
    "            k,v = line.rstrip().split('=')\n",
    "            ret[k] = v\n",
    "    return ret\n",
    "\n",
    "def extract_from_singles(algo, attempts, trees, key):\n",
    "    x_vs_key = []\n",
    "    for tree in range(1,trees+1):\n",
    "        data_path = get_static_data_path(algo, tree, attempts) + '/' + singles\n",
    "        singles_pairs = extract_kv_pairs_from_singles(data_path)\n",
    "        x_vs_key.append(float(singles_pairs[key]))\n",
    "    return x_vs_key\n",
    "\n",
    "def extract_from_singles_attempts(algo, attempts, trees, key):\n",
    "    x_vs_key = []\n",
    "    for tree in range(1,attempts):\n",
    "        data_path = get_static_data_path(algo, tree, attempts) + '/' + singles\n",
    "        singles_pairs = extract_kv_pairs_from_singles(data_path)\n",
    "        x_vs_key.append(float(singles_pairs[key]))\n",
    "    return x_vs_key\n",
    "\n",
    "def convert_kv_file_to_dict(filepath):\n",
    "    out_dict = {}\n",
    "    with open(filepath, 'r') as textfile:\n",
    "        for line in textfile:\n",
    "            k,v = line.rstrip().split('\\t')\n",
    "            out_dict[int(k)] = float(v)\n",
    "    return out_dict\n",
    "\n",
    "def dict_to_list(d, xrange):\n",
    "    out_list = []\n",
    "    for i in range(1,xrange):\n",
    "        if i in d:\n",
    "            out_list.append(d[i])\n",
    "        else:\n",
    "            out_list.append(0)\n",
    "    return out_list\n",
    "\n",
    "# repeated values are ignored\n",
    "def merge_dicts(dict1, dict2):\n",
    "    data_dict = {}\n",
    "    for k, v in dict1.items():\n",
    "        if k in dict2:\n",
    "            data_dict[k] = dict2[k]\n",
    "        else:\n",
    "            data_dict[k] = dict1[k]\n",
    "    return data_dict"
   ]
  },
  {
   "cell_type": "markdown",
   "metadata": {},
   "source": [
    "## Run a single simulation"
   ]
  },
  {
   "cell_type": "code",
   "execution_count": 9,
   "metadata": {},
   "outputs": [],
   "source": [
    "def run_static(transaction_set, algo, attempts, trees, force=False):\n",
    "    # skip run if it has already happened\n",
    "    if not force and os.path.isdir(get_static_data_path(algo, trees, attempts)):\n",
    "        print('Run exists. Skipping...')\n",
    "        return\n",
    "    print(f'Running: java -cp {classpath} treeembedding.tests.Static {transaction_set} {algo_info[algo][ID]} {attempts} {trees}')\n",
    "    subprocess.run(['java', '-cp', f'{classpath}', 'treeembedding.tests.Static', f'{transaction_set}', f'{algo_info[algo][ID]}', f'{attempts}', f'{trees}'], capture_output=True)\n",
    "\n",
    "def run_dynamic(transaction_set, algo, attempts, trees, step, force=False):\n",
    "    # skip run if it has already happened\n",
    "    if not force and os.path.isdir(get_dynamic_data_path(algo, trees, attempts, step)):\n",
    "        print('Run exists. Skipping...')\n",
    "        return\n",
    "    else:\n",
    "        print(f'Running: java -cp {classpath} treeembedding.tests.Dynamic {transaction_set} {algo_info[algo][ID]} {step}')\n",
    "        subprocess.run(['java', '-cp', f'{classpath}', 'treeembedding.tests.Dynamic', f'{transaction_set}', f'{algo_info[algo][ID]}', f'{step}'])"
   ]
  },
  {
   "cell_type": "markdown",
   "metadata": {},
   "source": [
    "# Figure 2"
   ]
  },
  {
   "cell_type": "markdown",
   "metadata": {},
   "source": [
    "## 2a\n",
    "The x-axis is the number of trees (or landmarks) used, and the y-axis is the ratio of successfully routed transaction to total transactions. Each point on the plot is the value of CREDIT_NETWORK_SUCCESS in _singles.txt for the run with that many trees. All of these runs use 2 attempts."
   ]
  },
  {
   "cell_type": "markdown",
   "metadata": {},
   "source": [
    "### Run simulations"
   ]
  },
  {
   "cell_type": "code",
   "execution_count": null,
   "metadata": {},
   "outputs": [],
   "source": [
    "attempts = 1\n",
    "transaction_set = 0\n",
    "for tree in range(1, max_trees+1):\n",
    "    run_static(transaction_set, silentwhispers, attempts, tree)\n",
    "    run_static(transaction_set, speedymurmurs, attempts, tree)\n",
    "    "
   ]
  },
  {
   "cell_type": "markdown",
   "metadata": {},
   "source": [
    "### Generate plots from data"
   ]
  },
  {
   "cell_type": "code",
   "execution_count": 4,
   "metadata": {},
   "outputs": [
    {
     "data": {
      "text/plain": [
       "<matplotlib.legend.Legend at 0x11b449b70>"
      ]
     },
     "execution_count": 4,
     "metadata": {},
     "output_type": "execute_result"
    },
    {
     "data": {
      "image/png": "[encoded data removed]",
      "text/plain": [
       "<Figure size 432x288 with 1 Axes>"
      ]
     },
     "metadata": {
      "needs_background": "light"
     },
     "output_type": "display_data"
    }
   ],
   "source": [
    "attempts = 1\n",
    "key = 'CREDIT_NETWORK_SUCCESS'\n",
    "silentwhispers_data = extract_from_singles(silentwhispers, attempts, max_trees, key)\n",
    "speedymurmurs_data = extract_from_singles(speedymurmurs, attempts, max_trees, key)\n",
    "\n",
    "plt.figure()\n",
    "plt.title('Figure 2a', size='xx-large')\n",
    "plt.ylabel('Success Ratio', size='x-large')\n",
    "plt.xlabel('Trees', size='x-large')\n",
    "plt.axis([0,8,0.0,1.0])\n",
    "\n",
    "plt.plot(range(1,max_trees), silentwhispers_data, 'r*-', markersize=5, linewidth=1, label='SilentWhispers')\n",
    "plt.plot(range(1,max_trees), speedymurmurs_data, 'b*-', markersize=5, linewidth=1, label='SpeedyMurmurs')\n",
    "plt.legend(loc=(0,1), scatterpoints=10)\n"
   ]
  },
  {
   "cell_type": "markdown",
   "metadata": {},
   "source": [
    "## 2b\n",
    "The x-axis is the number of trees (or landmarks) used, and the y-axis is the number of hops a transaction took to reach its destination. Each point on the plot is the value of CREDIT_NETWORK_DELAY_AV in _singles.txt for the run with that many trees. All of these runs use 2 attempts.\n",
    "\n",
    "Same simulations as 2a.\n"
   ]
  },
  {
   "cell_type": "markdown",
   "metadata": {},
   "source": [
    "### Generate plots from data"
   ]
  },
  {
   "cell_type": "code",
   "execution_count": 5,
   "metadata": {},
   "outputs": [
    {
     "data": {
      "text/plain": [
       "<matplotlib.legend.Legend at 0x11b5e9f28>"
      ]
     },
     "execution_count": 5,
     "metadata": {},
     "output_type": "execute_result"
    },
    {
     "data": {
      "image/png": "[encoded data removed]",
      "text/plain": [
       "<Figure size 432x288 with 1 Axes>"
      ]
     },
     "metadata": {
      "needs_background": "light"
     },
     "output_type": "display_data"
    }
   ],
   "source": [
    "attempts = 1\n",
    "key = 'CREDIT_NETWORK_DELAY_AV'\n",
    "silentwhispers_data = extract_from_singles(silentwhispers, attempts, max_trees, key)\n",
    "speedymurmurs_data = extract_from_singles(speedymurmurs, attempts, max_trees, key)\n",
    "\n",
    "plt.figure()\n",
    "plt.title('Figure 2b', size='xx-large')\n",
    "plt.ylabel('(Hop) Delay', size='x-large')\n",
    "plt.xlabel('Trees', size='x-large')\n",
    "plt.axis([0,8,0,30])\n",
    "\n",
    "plt.plot(range(1,6), silentwhispers_data, 'r*-', markersize=5, linewidth=1, label='SilentWhispers')\n",
    "plt.plot(range(1,6), speedymurmurs_data, 'b*-', markersize=5, linewidth=1, label='SpeedyMurmurs')\n",
    "plt.legend(loc=(0,1), scatterpoints=10)\n"
   ]
  },
  {
   "cell_type": "markdown",
   "metadata": {},
   "source": [
    "## 2c\n",
    "The x-axis is the number of times a failed transaction should be retried, and the y-axis is the ratio of successfully routed transaction to total transactions. Each point on the plot is the value of CREDIT_NETWORK_SUCCESS in \\_singles.txt for the run with that many retries. All of these runs use 3 landmarks."
   ]
  },
  {
   "cell_type": "markdown",
   "metadata": {},
   "source": [
    "### Run simulations"
   ]
  },
  {
   "cell_type": "code",
   "execution_count": null,
   "metadata": {},
   "outputs": [
    {
     "name": "stdout",
     "output_type": "stream",
     "text": [
      "Run exists. Skipping...\n",
      "Run exists. Skipping...\n",
      "Run exists. Skipping...\n",
      "Run exists. Skipping...\n",
      "Run exists. Skipping...\n",
      "Run exists. Skipping...\n",
      "Run exists. Skipping...\n",
      "Run exists. Skipping...\n",
      "Run exists. Skipping...\n",
      "Run exists. Skipping...\n",
      "Run exists. Skipping...\n",
      "Run exists. Skipping...\n",
      "Run exists. Skipping...\n",
      "Run exists. Skipping...\n",
      "Run exists. Skipping...\n",
      "Running: java -cp bin/ treeembedding.tests.Static 0 7 8 3\n"
     ]
    }
   ],
   "source": [
    "trees = 3\n",
    "transaction_set = 0\n",
    "for attempt in range(1, max_attempts+1):\n",
    "    run_static(transaction_set, silentwhispers, attempt, trees)\n",
    "    run_static(transaction_set, speedymurmurs, attempt, trees)\n",
    "print('Done.')  \n",
    "    "
   ]
  },
  {
   "cell_type": "markdown",
   "metadata": {},
   "source": [
    "### Generate plots from data"
   ]
  },
  {
   "cell_type": "code",
   "execution_count": 6,
   "metadata": {
    "scrolled": true
   },
   "outputs": [
    {
     "ename": "FileNotFoundError",
     "evalue": "[Errno 2] No such file or directory: 'data/static/READABLE_FILE_SW-PER-MUL-67149/0/CREDIT_NETWORK-STATIC-1000.0-TREE_ROUTE_SILENTW-false-true-1-2000.0-RANDOM_PARTITIONER-10/_singles.txt'",
     "output_type": "error",
     "traceback": [
      "\u001b[0;31m---------------------------------------------------------------------------\u001b[0m",
      "\u001b[0;31mFileNotFoundError\u001b[0m                         Traceback (most recent call last)",
      "\u001b[0;32m<ipython-input-6-c2705b1236aa>\u001b[0m in \u001b[0;36m<module>\u001b[0;34m\u001b[0m\n\u001b[1;32m      2\u001b[0m \u001b[0mtrees\u001b[0m \u001b[0;34m=\u001b[0m \u001b[0;36m3\u001b[0m\u001b[0;34m\u001b[0m\u001b[0;34m\u001b[0m\u001b[0m\n\u001b[1;32m      3\u001b[0m \u001b[0mkey\u001b[0m \u001b[0;34m=\u001b[0m \u001b[0;34m'CREDIT_NETWORK_SUCCESS'\u001b[0m\u001b[0;34m\u001b[0m\u001b[0;34m\u001b[0m\u001b[0m\n\u001b[0;32m----> 4\u001b[0;31m \u001b[0msilentwhispers_data\u001b[0m \u001b[0;34m=\u001b[0m \u001b[0mextract_from_singles_attempts\u001b[0m\u001b[0;34m(\u001b[0m\u001b[0;34m\"silentwhispers\"\u001b[0m\u001b[0;34m,\u001b[0m \u001b[0mattempts\u001b[0m\u001b[0;34m,\u001b[0m \u001b[0mtrees\u001b[0m\u001b[0;34m,\u001b[0m \u001b[0mkey\u001b[0m\u001b[0;34m)\u001b[0m\u001b[0;34m\u001b[0m\u001b[0;34m\u001b[0m\u001b[0m\n\u001b[0m\u001b[1;32m      5\u001b[0m \u001b[0mspeedymurmurs_data\u001b[0m \u001b[0;34m=\u001b[0m \u001b[0mextract_from_singles_attempts\u001b[0m\u001b[0;34m(\u001b[0m\u001b[0;34m\"speedymurmurs\"\u001b[0m\u001b[0;34m,\u001b[0m \u001b[0mattempts\u001b[0m\u001b[0;34m,\u001b[0m \u001b[0mtrees\u001b[0m\u001b[0;34m,\u001b[0m \u001b[0mkey\u001b[0m\u001b[0;34m)\u001b[0m\u001b[0;34m\u001b[0m\u001b[0;34m\u001b[0m\u001b[0m\n\u001b[1;32m      6\u001b[0m \u001b[0;34m\u001b[0m\u001b[0m\n",
      "\u001b[0;32m<ipython-input-2-80de64ad4869>\u001b[0m in \u001b[0;36mextract_from_singles_attempts\u001b[0;34m(algo, attempts, trees, key)\u001b[0m\n\u001b[1;32m     52\u001b[0m     \u001b[0;32mfor\u001b[0m \u001b[0mtree\u001b[0m \u001b[0;32min\u001b[0m \u001b[0mrange\u001b[0m\u001b[0;34m(\u001b[0m\u001b[0;36m1\u001b[0m\u001b[0;34m,\u001b[0m\u001b[0mattempts\u001b[0m\u001b[0;34m)\u001b[0m\u001b[0;34m:\u001b[0m\u001b[0;34m\u001b[0m\u001b[0;34m\u001b[0m\u001b[0m\n\u001b[1;32m     53\u001b[0m         \u001b[0mdata_path\u001b[0m \u001b[0;34m=\u001b[0m \u001b[0mget_static_data_path\u001b[0m\u001b[0;34m(\u001b[0m\u001b[0malgo\u001b[0m\u001b[0;34m,\u001b[0m \u001b[0mtree\u001b[0m\u001b[0;34m,\u001b[0m \u001b[0mattempts\u001b[0m\u001b[0;34m)\u001b[0m \u001b[0;34m+\u001b[0m \u001b[0;34m'/'\u001b[0m \u001b[0;34m+\u001b[0m \u001b[0msingles\u001b[0m\u001b[0;34m\u001b[0m\u001b[0;34m\u001b[0m\u001b[0m\n\u001b[0;32m---> 54\u001b[0;31m         \u001b[0msingles_pairs\u001b[0m \u001b[0;34m=\u001b[0m \u001b[0mextract_kv_pairs_from_singles\u001b[0m\u001b[0;34m(\u001b[0m\u001b[0mdata_path\u001b[0m\u001b[0;34m)\u001b[0m\u001b[0;34m\u001b[0m\u001b[0;34m\u001b[0m\u001b[0m\n\u001b[0m\u001b[1;32m     55\u001b[0m         \u001b[0mx_vs_key\u001b[0m\u001b[0;34m.\u001b[0m\u001b[0mappend\u001b[0m\u001b[0;34m(\u001b[0m\u001b[0mfloat\u001b[0m\u001b[0;34m(\u001b[0m\u001b[0msingles_pairs\u001b[0m\u001b[0;34m[\u001b[0m\u001b[0mkey\u001b[0m\u001b[0;34m]\u001b[0m\u001b[0;34m)\u001b[0m\u001b[0;34m)\u001b[0m\u001b[0;34m\u001b[0m\u001b[0;34m\u001b[0m\u001b[0m\n\u001b[1;32m     56\u001b[0m     \u001b[0;32mreturn\u001b[0m \u001b[0mx_vs_key\u001b[0m\u001b[0;34m\u001b[0m\u001b[0;34m\u001b[0m\u001b[0m\n",
      "\u001b[0;32m<ipython-input-2-80de64ad4869>\u001b[0m in \u001b[0;36mextract_kv_pairs_from_singles\u001b[0;34m(singles_path)\u001b[0m\n\u001b[1;32m     34\u001b[0m \u001b[0;32mdef\u001b[0m \u001b[0mextract_kv_pairs_from_singles\u001b[0m\u001b[0;34m(\u001b[0m\u001b[0msingles_path\u001b[0m\u001b[0;34m)\u001b[0m\u001b[0;34m:\u001b[0m\u001b[0;34m\u001b[0m\u001b[0;34m\u001b[0m\u001b[0m\n\u001b[1;32m     35\u001b[0m     \u001b[0mret\u001b[0m \u001b[0;34m=\u001b[0m \u001b[0;34m{\u001b[0m\u001b[0;34m}\u001b[0m\u001b[0;34m\u001b[0m\u001b[0;34m\u001b[0m\u001b[0m\n\u001b[0;32m---> 36\u001b[0;31m     \u001b[0;32mwith\u001b[0m \u001b[0mopen\u001b[0m\u001b[0;34m(\u001b[0m\u001b[0msingles_path\u001b[0m\u001b[0;34m,\u001b[0m \u001b[0;34m'r'\u001b[0m\u001b[0;34m)\u001b[0m \u001b[0;32mas\u001b[0m \u001b[0mf\u001b[0m\u001b[0;34m:\u001b[0m\u001b[0;34m\u001b[0m\u001b[0;34m\u001b[0m\u001b[0m\n\u001b[0m\u001b[1;32m     37\u001b[0m         \u001b[0;32mfor\u001b[0m \u001b[0mline\u001b[0m \u001b[0;32min\u001b[0m \u001b[0mf\u001b[0m\u001b[0;34m:\u001b[0m\u001b[0;34m\u001b[0m\u001b[0;34m\u001b[0m\u001b[0m\n\u001b[1;32m     38\u001b[0m             \u001b[0mk\u001b[0m\u001b[0;34m,\u001b[0m\u001b[0mv\u001b[0m \u001b[0;34m=\u001b[0m \u001b[0mline\u001b[0m\u001b[0;34m.\u001b[0m\u001b[0mrstrip\u001b[0m\u001b[0;34m(\u001b[0m\u001b[0;34m)\u001b[0m\u001b[0;34m.\u001b[0m\u001b[0msplit\u001b[0m\u001b[0;34m(\u001b[0m\u001b[0;34m'='\u001b[0m\u001b[0;34m)\u001b[0m\u001b[0;34m\u001b[0m\u001b[0;34m\u001b[0m\u001b[0m\n",
      "\u001b[0;31mFileNotFoundError\u001b[0m: [Errno 2] No such file or directory: 'data/static/READABLE_FILE_SW-PER-MUL-67149/0/CREDIT_NETWORK-STATIC-1000.0-TREE_ROUTE_SILENTW-false-true-1-2000.0-RANDOM_PARTITIONER-10/_singles.txt'"
     ]
    }
   ],
   "source": [
    "attempts = 10\n",
    "trees = 3\n",
    "key = 'CREDIT_NETWORK_SUCCESS'\n",
    "silentwhispers_data = extract_from_singles_attempts(silentwhispers, attempts, trees, key)\n",
    "speedymurmurs_data = extract_from_singles_attempts(speedymurmurs, attempts, trees, key)\n",
    "\n",
    "plt.figure()\n",
    "plt.title('Figure 2c', size='xx-large')\n",
    "plt.ylabel('Success Ratio', size='x-large')\n",
    "plt.xlabel('Attempts', size='x-large')\n",
    "plt.axis([0,10,0.0,1.0])\n",
    "\n",
    "plt.plot(range(1,10), silentwhispers_data, 'r*-', markersize=5, linewidth=1, label='SilentWhispers')\n",
    "plt.plot(range(1,10), speedymurmurs_data, 'b*-', markersize=5, linewidth=1, label='SpeedyMurmurs')\n",
    "plt.legend(loc=(0,1), scatterpoints=10)\n"
   ]
  },
  {
   "cell_type": "markdown",
   "metadata": {},
   "source": [
    "## Figure 3 Plots"
   ]
  },
  {
   "cell_type": "markdown",
   "metadata": {},
   "source": [
    "## 3a\n",
    "This is generated from the Ripple transaction data set, not from the simulator. The x-axis is the epoch number with epochs being of length 1000\\*delta\\_av, where delta\\_av is calculated from the data set as the average time between two subsequent transactions. The y-axis is either the number of transactions or the number of transactions or link changes in that epoch. The number of transactions are determined by counting lines in the ripple transaction data set (for the epoch in question), and the link changes are determined by counting the number of lines in the newlinks data set (jan2013-newlinks-lcc-sorted-uniq-t\\*.txt) for the epoch in question."
   ]
  },
  {
   "cell_type": "markdown",
   "metadata": {},
   "source": [
    "### Generate plots from data"
   ]
  },
  {
   "cell_type": "code",
   "execution_count": 8,
   "metadata": {
    "scrolled": true
   },
   "outputs": [
    {
     "data": {
      "text/plain": [
       "<matplotlib.legend.Legend at 0x134797518>"
      ]
     },
     "execution_count": 8,
     "metadata": {},
     "output_type": "execute_result"
    },
    {
     "data": {
      "image/png": "[encoded data removed]",
      "text/plain": [
       "<Figure size 432x288 with 1 Axes>"
      ]
     },
     "metadata": {
      "needs_background": "light"
     },
     "output_type": "display_data"
    }
   ],
   "source": [
    "def get_epoch_length(transactions_file):\n",
    "    transactions_list = []\n",
    "    for i in range(1, 10):\n",
    "        transactions_list = read_transactions_file(transactions_file.format(i), transactions_list)\n",
    "\n",
    "    # sum the time between subsequent transctions\n",
    "    sum_delta = 0\n",
    "    for i in range(1, len(transactions_list)):\n",
    "        sum_delta += transactions_list[i][0] - transactions_list[i - 1][0]\n",
    "    delta_av = sum_delta/len(transactions_list)\n",
    "    return (delta_av * 1000, transactions_list)\n",
    "\n",
    "def read_link_changes_files(link_changes_file):\n",
    "    link_changes_list = []\n",
    "    for i in range(1, 10):\n",
    "        link_changes_list = read_link_changes_file(link_changes_file.format(i), link_changes_list)\n",
    "    return link_changes_list\n",
    "\n",
    "def read_link_changes_file(link_changes_file, link_changes_list = []):\n",
    "    with open(link_changes_file, 'r') as link_changes:\n",
    "        count = 0\n",
    "        for link_change in link_changes:\n",
    "            lc = link_change.split(\" \")\n",
    "            # time, source, destination, amount\n",
    "            link_changes_list.append((int(lc[0]), lc[1], lc[2], lc[3]))\n",
    "\n",
    "        return link_changes_list\n",
    "\n",
    "def calculate_events_per_epoch(epoch_length, events):\n",
    "    cur_epoch = 1\n",
    "    next_epoch_starts = epoch_length\n",
    "\n",
    "    events_in_current_epoch = 0\n",
    "    events_per_epoch = {}\n",
    "    for event in events:\n",
    "        if event[0] < next_epoch_starts:\n",
    "            events_in_current_epoch += 1\n",
    "        else:\n",
    "            events_per_epoch[cur_epoch] = events_in_current_epoch\n",
    "            next_epoch_starts += epoch_length\n",
    "            cur_epoch += 1\n",
    "            # should be 1 because it needs to include the current transaction\n",
    "            events_in_current_epoch = 1\n",
    "    return events_per_epoch\n",
    "\n",
    "def read_transactions_file(transactions_file, transactions_list = []):\n",
    "    with open(transactions_file, 'r') as transactions:\n",
    "        count = 0\n",
    "        for transaction in transactions:\n",
    "            t = transaction.split(\" \")\n",
    "            if len(t) == 4:\n",
    "                # time, amount, source, destination\n",
    "                transactions_list.append((int(t[0]), t[1], t[2], t[3]))\n",
    "            elif len(t) == 3:\n",
    "                # time, amount, source, destination\n",
    "                transactions_list.append((count, t[1], t[2], t[3]))\n",
    "                count += 1\n",
    "\n",
    "        return transactions_list\n",
    "\n",
    "transactions_file = '../data/finalSets/dynamic/jan2013-trans-lcc-noself-uniq-{0}.txt'\n",
    "link_changes_file = '../data/finalSets/dynamic/jan2013-newlinks-lcc-sorted-uniq-t{0}.txt'\n",
    "epoch_length, transactions = get_epoch_length(transactions_file)\n",
    "link_changes = read_link_changes_files(link_changes_file)\n",
    "\n",
    "\n",
    "transactions_per_epoch = calculate_events_per_epoch(epoch_length, transactions)\n",
    "link_changes_per_epoch = calculate_events_per_epoch(epoch_length, link_changes)\n",
    "lc_per_epoch_list = dict_to_list(link_changes_per_epoch, 801)\n",
    "\n",
    "plt.figure()\n",
    "plt.title('Figure 3a', size='xx-large')\n",
    "plt.ylabel('Count', size='x-large')\n",
    "plt.xlabel('Epoch Number', size='x-large')\n",
    "plt.axis([0,700,0,25000])\n",
    "\n",
    "plt.plot(range(1, 801), transactions_per_epoch.values(), 'ro', markersize=1, linewidth=1, label='Transactions')\n",
    "plt.plot(range(1, 801), lc_per_epoch_list, 'bo', markersize=1, linewidth=1, label='Set Link')\n",
    "plt.legend(loc=(0,1), scatterpoints=10)\n"
   ]
  },
  {
   "cell_type": "markdown",
   "metadata": {},
   "source": [
    "## 3b\n",
    "The x-axis is the epoch number with epochs calculated as above. The y-axis is the number of stabilization messages for that epoch. The number of stabilization messages can be determined from the cnet-stab.txt file which tracks stabilization messages per epoch. All of these runs use 2 attempts and 3 landmarks."
   ]
  },
  {
   "cell_type": "markdown",
   "metadata": {},
   "source": [
    "### Run simulations"
   ]
  },
  {
   "cell_type": "code",
   "execution_count": 99,
   "metadata": {},
   "outputs": [
    {
     "name": "stdout",
     "output_type": "stream",
     "text": [
      "Run exists. Skipping...\n",
      "Run exists. Skipping...\n",
      "Run exists. Skipping...\n",
      "Run exists. Skipping...\n",
      "Run exists. Skipping...\n",
      "Run exists. Skipping...\n",
      "Run exists. Skipping...\n",
      "Run exists. Skipping...\n",
      "Run exists. Skipping...\n",
      "Run exists. Skipping...\n",
      "Run exists. Skipping...\n",
      "Run exists. Skipping...\n",
      "Run exists. Skipping...\n",
      "Run exists. Skipping...\n",
      "Run exists. Skipping...\n",
      "Running: java -cp bin/ treeembedding.tests.Dynamic 0 7 7\n",
      "Run exists. Skipping...\n",
      "Running: java -cp bin/ treeembedding.tests.Dynamic 0 7 8\n",
      "Done.\n"
     ]
    }
   ],
   "source": [
    "for step in range(0,9):\n",
    "    run_dynamic(0, silentwhispers, 2, 3, step)\n",
    "    run_dynamic(0, speedymurmurs, 2, 3, step)\n",
    "print('Done.')"
   ]
  },
  {
   "cell_type": "markdown",
   "metadata": {},
   "source": [
    "### Generate plots from data"
   ]
  },
  {
   "cell_type": "code",
   "execution_count": 106,
   "metadata": {},
   "outputs": [
    {
     "data": {
      "text/plain": [
       "<matplotlib.legend.Legend at 0x12b692390>"
      ]
     },
     "execution_count": 106,
     "metadata": {},
     "output_type": "execute_result"
    },
    {
     "data": {
      "image/png": "[encoded data removed]",
      "text/plain": [
       "<Figure size 432x288 with 1 Axes>"
      ]
     },
     "metadata": {
      "needs_background": "light"
     },
     "output_type": "display_data"
    }
   ],
   "source": [
    "stab_file = '/cnet-stab.txt'\n",
    "\n",
    "sw_stab_messages_list = []\n",
    "sm_stab_messages_list = []\n",
    "sw_stab_messages_dict = {}\n",
    "sm_stab_messages_dict = {}\n",
    "for step in range(0,9):\n",
    "    sw_file_path = get_dynamic_data_path(silentwhispers, 3, 2, step) + stab_file\n",
    "    sm_file_path = get_dynamic_data_path(speedymurmurs, 3, 2, step) + stab_file\n",
    "\n",
    "    # create dict of stab message values for both sw and sm\n",
    "    new_dict_sw = convert_kv_file_to_dict(sw_file_path)\n",
    "    new_dict_sm = convert_kv_file_to_dict(sm_file_path)\n",
    "\n",
    "    sw_stab_messages_dict = merge_dicts(new_dict_sw, sw_stab_messages_dict)\n",
    "    sm_stab_messages_dict = merge_dicts(new_dict_sm, sm_stab_messages_dict)\n",
    "\n",
    "sw_stab_messages_list = dict_to_list(sw_stab_messages_dict, 801)\n",
    "sm_stab_messages_list = dict_to_list(sm_stab_messages_dict, 801)\n",
    "\n",
    "plt.yscale('log')\n",
    "plt.axis([0,700,0,1e+10])\n",
    "plt.plot(range(1, 801), sw_stab_messages_list, 'ro', markersize=1, linewidth=1, label='SilentWhispers')\n",
    "plt.plot(range(1, 801), sm_stab_messages_list, 'bo', markersize=1, linewidth=1, label='SpeedyMurmurs')\n",
    "plt.legend(loc=(0,1), scatterpoints=10)"
   ]
  },
  {
   "cell_type": "markdown",
   "metadata": {},
   "source": [
    "## 3c\n",
    "The x-axis is the epoch number with epochs calculated as above. The y-axis is the ratio of the success rate of SpeedyMurmurs or SilentWhispers to the success rate of Ford-Fulkerson. The lines in the plot are represented as a moving average over 50 epochs. All of these runs use 2 attempts and 3 landmarks."
   ]
  },
  {
   "cell_type": "markdown",
   "metadata": {},
   "source": [
    "### Run simulations"
   ]
  },
  {
   "cell_type": "code",
   "execution_count": 12,
   "metadata": {},
   "outputs": [
    {
     "name": "stdout",
     "output_type": "stream",
     "text": [
      "Running: java -cp bin/ treeembedding.tests.Dynamic 0 0 0\n",
      "Running: java -cp bin/ treeembedding.tests.Dynamic 0 7 0\n",
      "Running: java -cp bin/ treeembedding.tests.Dynamic 0 10 0\n",
      "Running: java -cp bin/ treeembedding.tests.Dynamic 0 0 1\n",
      "Running: java -cp bin/ treeembedding.tests.Dynamic 0 7 1\n",
      "Running: java -cp bin/ treeembedding.tests.Dynamic 0 10 1\n",
      "Running: java -cp bin/ treeembedding.tests.Dynamic 0 0 2\n",
      "Running: java -cp bin/ treeembedding.tests.Dynamic 0 7 2\n",
      "Running: java -cp bin/ treeembedding.tests.Dynamic 0 10 2\n",
      "Running: java -cp bin/ treeembedding.tests.Dynamic 0 0 3\n",
      "Running: java -cp bin/ treeembedding.tests.Dynamic 0 7 3\n",
      "Running: java -cp bin/ treeembedding.tests.Dynamic 0 10 3\n",
      "Running: java -cp bin/ treeembedding.tests.Dynamic 0 0 4\n",
      "Running: java -cp bin/ treeembedding.tests.Dynamic 0 7 4\n",
      "Running: java -cp bin/ treeembedding.tests.Dynamic 0 10 4\n",
      "Running: java -cp bin/ treeembedding.tests.Dynamic 0 0 5\n",
      "Running: java -cp bin/ treeembedding.tests.Dynamic 0 7 5\n",
      "Running: java -cp bin/ treeembedding.tests.Dynamic 0 10 5\n",
      "Running: java -cp bin/ treeembedding.tests.Dynamic 0 0 6\n",
      "Running: java -cp bin/ treeembedding.tests.Dynamic 0 7 6\n",
      "Running: java -cp bin/ treeembedding.tests.Dynamic 0 10 6\n",
      "Running: java -cp bin/ treeembedding.tests.Dynamic 0 0 7\n",
      "Running: java -cp bin/ treeembedding.tests.Dynamic 0 7 7\n",
      "Running: java -cp bin/ treeembedding.tests.Dynamic 0 10 7\n",
      "Running: java -cp bin/ treeembedding.tests.Dynamic 0 0 8\n",
      "Running: java -cp bin/ treeembedding.tests.Dynamic 0 7 8\n",
      "Running: java -cp bin/ treeembedding.tests.Dynamic 0 10 8\n",
      "Done.\n"
     ]
    }
   ],
   "source": [
    "for step in range(0,9):\n",
    "    run_dynamic(0, silentwhispers, 2, 3, step)\n",
    "    run_dynamic(0, speedymurmurs, 2, 3, step)\n",
    "    run_dynamic(0, maxflow, 2, 3, step)\n",
    "print('Done.')"
   ]
  },
  {
   "cell_type": "markdown",
   "metadata": {},
   "source": [
    "### Generate plots from data"
   ]
  },
  {
   "cell_type": "code",
   "execution_count": 113,
   "metadata": {},
   "outputs": [
    {
     "data": {
      "text/plain": [
       "<matplotlib.legend.Legend at 0x12e71c550>"
      ]
     },
     "execution_count": 113,
     "metadata": {},
     "output_type": "execute_result"
    },
    {
     "data": {
      "image/png": "[encoded data removed]",
      "text/plain": [
       "<Figure size 432x288 with 1 Axes>"
      ]
     },
     "metadata": {
      "needs_background": "light"
     },
     "output_type": "display_data"
    }
   ],
   "source": [
    "def running_mean(x, N):\n",
    "    cumsum = np.cumsum(np.insert(x, 0, 0)) \n",
    "    return (cumsum[N:] - cumsum[:-N]) / float(N)\n",
    "\n",
    "filename = '/cnet-succR.txt'\n",
    "\n",
    "sw_succr_list = []\n",
    "sm_succr_list = []\n",
    "sw_succr_dict = {}\n",
    "sm_succr_dict = {}\n",
    "m_succr_dict = {}\n",
    "for step in range(0, 9):\n",
    "    m_file_path = get_dynamic_data_path(maxflow, 3, 2, step) + filename\n",
    "    sw_file_path = get_dynamic_data_path(silentwhispers, 3, 2, step) + filename\n",
    "    sm_file_path = get_dynamic_data_path(speedymurmurs, 3, 2, step) + filename\n",
    "\n",
    "    # get succR for SW for each epoch\n",
    "    sw_new_dict = convert_kv_file_to_dict(sw_file_path)\n",
    "    sm_new_dict = convert_kv_file_to_dict(sm_file_path)\n",
    "    m_new_dict = convert_kv_file_to_dict(m_file_path)\n",
    "    \n",
    "    sw_succr_dict = merge_dicts(sw_new_dict, sw_succr_dict)\n",
    "    sm_succr_dict = merge_dicts(sm_new_dict, sm_succr_dict)\n",
    "    m_succr_dict = merge_dicts(m_new_dict, m_succr_dict)\n",
    "\n",
    "# update SW dict by dividing each value by the corresponding value in the M dict\n",
    "for k,v in sw_succr_dict.items():\n",
    "    if k in m_succr_dict:\n",
    "        if m_succr_dict[k] == 0:\n",
    "            sw_succr_dict[k] = 1\n",
    "        else:\n",
    "            sw_succr_dict[k] = v/m_succr_dict[k]\n",
    "\n",
    "# update SM dict by dividing each value by the corresponding value in the M dict\n",
    "for k,v in sm_succr_dict.items():\n",
    "    if k in m_succr_dict:\n",
    "        if m_succr_dict[k] == 0:\n",
    "            sm_succr_dict[k] = 1\n",
    "        else:\n",
    "            sm_succr_dict[k] = v/m_succr_dict[k]\n",
    "\n",
    "sw_succr_list = dict_to_list(sw_succr_dict, 801)\n",
    "sm_succr_list = dict_to_list(sm_succr_dict, 801)\n",
    "\n",
    "plt.axis([0,700,0,1])\n",
    "plt.plot(range(50, 801), running_mean(sw_succr_list, 50), 'r*-', markersize=1, linewidth=1, label='SilentWhispers')\n",
    "\n",
    "plt.plot(range(50, 801), running_mean(sm_succr_list, 50), 'b*-', markersize=1, linewidth=1, label='SpeedyMurmurs')\n",
    "plt.legend(loc=(0,1), scatterpoints=10)\n",
    "\n"
   ]
  }
 ],
 "metadata": {
  "kernelspec": {
   "display_name": "Python 3",
   "language": "python",
   "name": "python3"
  },
  "language_info": {
   "codemirror_mode": {
    "name": "ipython",
    "version": 3
   },
   "file_extension": ".py",
   "mimetype": "text/x-python",
   "name": "python",
   "nbconvert_exporter": "python",
   "pygments_lexer": "ipython3",
   "version": "3.6.8"
  }
 },
 "nbformat": 4,
 "nbformat_minor": 2
}
