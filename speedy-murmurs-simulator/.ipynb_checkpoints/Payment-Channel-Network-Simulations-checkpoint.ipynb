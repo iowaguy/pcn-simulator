{
 "cells": [
  {
   "cell_type": "code",
   "execution_count": 44,
   "metadata": {},
   "outputs": [],
   "source": [
    "import numpy as np\n",
    "import pandas as pd\n",
    "import matplotlib.pyplot as plt\n",
    "%matplotlib inline"
   ]
  },
  {
   "cell_type": "code",
   "execution_count": 119,
   "metadata": {},
   "outputs": [],
   "source": [
    "global singles\n",
    "singles = '_singles.txt'\n",
    "\n",
    "algo_info = {\n",
    "    'silentwhispers':{\n",
    "        'token':'SW-PER-MUL',\n",
    "        'run_token':'SILENTW-false-true',\n",
    "        'short_name':'SW',\n",
    "        'id':0\n",
    "    },\n",
    "    'speedymurmurs':{\n",
    "        'token':'V-DYN',\n",
    "        'run_token':'TDRAP-true-false',\n",
    "        'short_name':'SM',\n",
    "        'id':7\n",
    "    },\n",
    "    'maxflow':{\n",
    "        'short_name':'M',\n",
    "        'id':10\n",
    "    }\n",
    "}\n",
    "static_node_count = '67149'\n",
    "static_data_root = 'data/static/READABLE_FILE_'\n",
    "dynamic_data_root = 'data'\n",
    "dynamic_epoch = '165552.45497208898'\n",
    "static_epoch = '1000.0'\n",
    "\n",
    "def get_static_data_path(algo, tree, attempts):\n",
    "    return f'{static_data_root}{algo_info[algo][\"token\"]}-{static_node_count}/0/CREDIT_NETWORK-STATIC-{static_epoch}-TREE_ROUTE_{algo_info[algo][\"run_token\"]}-{tree}-2000.0-RANDOM_PARTITIONER-{attempts}'\n",
    "\n",
    "def get_dynamic_data_path(algo, tree, attempts, step):\n",
    "    return f'{dynamic_data_root}/0/CREDIT_NETWORK-{algo_info[algo][\"short_name\"]}-P{step}-{dynamic_epoch}-TREE_ROUTE_{algo_info[algo][\"run_token\"]}-{tree}-331.10490994417796-RANDOM_PARTITIONER-{attempts}'\n",
    "\n",
    "def extract_kv_pairs_from_singles(singles_path):\n",
    "    ret = {}\n",
    "    with open(singles_path, 'r') as f:\n",
    "        for line in f:\n",
    "            k,v = line.rstrip().split('=')\n",
    "            ret[k] = v\n",
    "    return ret\n",
    "\n",
    "def extract_from_singles(algo, attempts, trees, key):\n",
    "    x_vs_key = []\n",
    "    for tree in range(1,trees):\n",
    "        data_path = get_static_data_path(algo, tree, attempts) + '/' + singles\n",
    "        singles_pairs = extract_kv_pairs_from_singles(data_path)\n",
    "        x_vs_key.append(float(singles_pairs[key]))\n",
    "    return x_vs_key\n",
    "\n",
    "def extract_from_singles_attempts(algo, attempts, trees, key):\n",
    "    x_vs_key = []\n",
    "    for tree in range(1,attempts):\n",
    "        data_path = get_static_data_path(algo, tree, attempts) + '/' + singles\n",
    "        singles_pairs = extract_kv_pairs_from_singles(data_path)\n",
    "        x_vs_key.append(float(singles_pairs[key]))\n",
    "    return x_vs_key\n"
   ]
  },
  {
   "cell_type": "markdown",
   "metadata": {},
   "source": [
    "## Run a single static simulation"
   ]
  },
  {
   "cell_type": "code",
   "execution_count": null,
   "metadata": {},
   "outputs": [],
   "source": [
    "import os\n",
    "\n",
    "def run_static(transaction_set, algo, attempts, trees):\n",
    "    os.system(f'java -cp {class_path} treeembedding.tests.Static {transaction_set} {algo} {attempts} {trees}')\n"
   ]
  },
  {
   "cell_type": "markdown",
   "metadata": {},
   "source": [
    "## Figure 2 Plots"
   ]
  },
  {
   "cell_type": "markdown",
   "metadata": {},
   "source": [
    "## 2a"
   ]
  },
  {
   "cell_type": "markdown",
   "metadata": {},
   "source": [
    "### // TODO do runs\n",
    "* first check if runs already exist"
   ]
  },
  {
   "cell_type": "code",
   "execution_count": 110,
   "metadata": {},
   "outputs": [
    {
     "data": {
      "text/plain": [
       "<matplotlib.legend.Legend at 0x11e393438>"
      ]
     },
     "execution_count": 110,
     "metadata": {},
     "output_type": "execute_result"
    },
    {
     "data": {
      "image/png": "[encoded data removed]",
      "text/plain": [
       "<Figure size 432x288 with 1 Axes>"
      ]
     },
     "metadata": {
      "needs_background": "light"
     },
     "output_type": "display_data"
    }
   ],
   "source": [
    "attempts = 1\n",
    "key = 'CREDIT_NETWORK_SUCCESS'\n",
    "silentwhispers_data = extract_from_singles(\"silentwhispers\", attempts, 6, key)\n",
    "speedymurmurs_data = extract_from_singles(\"speedymurmurs\", attempts, 6, key)\n",
    "\n",
    "plt.figure()\n",
    "plt.title('Figure 2a', size='xx-large')\n",
    "plt.ylabel('Success Ratio', size='x-large')\n",
    "plt.xlabel('Trees', size='x-large')\n",
    "plt.axis([0,8,0.0,1.0])\n",
    "\n",
    "plt.plot(range(1,6), silentwhispers_data, 'r*-', markersize=5, linewidth=1, label='SilentWhispers')\n",
    "plt.plot(range(1,6), speedymurmurs_data, 'b*-', markersize=5, linewidth=1, label='SpeedyMurmurs')\n",
    "plt.legend(loc=(0,1), scatterpoints=10)\n",
    "\n"
   ]
  },
  {
   "cell_type": "markdown",
   "metadata": {},
   "source": [
    "## 2b"
   ]
  },
  {
   "cell_type": "markdown",
   "metadata": {},
   "source": [
    "### // TODO do runs\n",
    "* first check if runs already exist"
   ]
  },
  {
   "cell_type": "code",
   "execution_count": 113,
   "metadata": {},
   "outputs": [
    {
     "data": {
      "text/plain": [
       "<matplotlib.legend.Legend at 0x11e4b4e10>"
      ]
     },
     "execution_count": 113,
     "metadata": {},
     "output_type": "execute_result"
    },
    {
     "data": {
      "image/png": "[encoded data removed]",
      "text/plain": [
       "<Figure size 432x288 with 1 Axes>"
      ]
     },
     "metadata": {
      "needs_background": "light"
     },
     "output_type": "display_data"
    }
   ],
   "source": [
    "attempts = 1\n",
    "key = 'CREDIT_NETWORK_DELAY_AV'\n",
    "silentwhispers_data = extract_from_singles(\"silentwhispers\", attempts, 6, key)\n",
    "speedymurmurs_data = extract_from_singles(\"speedymurmurs\", attempts, 6, key)\n",
    "\n",
    "plt.figure()\n",
    "plt.title('Figure 2b', size='xx-large')\n",
    "plt.ylabel('(Hop) Delay', size='x-large')\n",
    "plt.xlabel('Trees', size='x-large')\n",
    "plt.axis([0,8,0,30])\n",
    "\n",
    "plt.plot(range(1,6), silentwhispers_data, 'r*-', markersize=5, linewidth=1, label='SilentWhispers')\n",
    "plt.plot(range(1,6), speedymurmurs_data, 'b*-', markersize=5, linewidth=1, label='SpeedyMurmurs')\n",
    "plt.legend(loc=(0,1), scatterpoints=10)"
   ]
  },
  {
   "cell_type": "markdown",
   "metadata": {},
   "source": [
    "## 2c"
   ]
  },
  {
   "cell_type": "markdown",
   "metadata": {},
   "source": [
    "### // TODO do runs\n",
    "* first check if runs already exist"
   ]
  },
  {
   "cell_type": "code",
   "execution_count": 117,
   "metadata": {},
   "outputs": [
    {
     "ename": "FileNotFoundError",
     "evalue": "[Errno 2] No such file or directory: 'data/static/READABLE_FILE_SW-PER-MUL-67149/0/CREDIT_NETWORK-STATIC-1000.0-TREE_ROUTE_SILENTW-false-true-1-2000.0-RANDOM_PARTITIONER-10/_singles.txt'",
     "output_type": "error",
     "traceback": [
      "\u001b[0;31m---------------------------------------------------------------------------\u001b[0m",
      "\u001b[0;31mFileNotFoundError\u001b[0m                         Traceback (most recent call last)",
      "\u001b[0;32m<ipython-input-117-09373b404657>\u001b[0m in \u001b[0;36m<module>\u001b[0;34m\u001b[0m\n\u001b[1;32m      2\u001b[0m \u001b[0mtrees\u001b[0m \u001b[0;34m=\u001b[0m \u001b[0;36m3\u001b[0m\u001b[0;34m\u001b[0m\u001b[0;34m\u001b[0m\u001b[0m\n\u001b[1;32m      3\u001b[0m \u001b[0mkey\u001b[0m \u001b[0;34m=\u001b[0m \u001b[0;34m'CREDIT_NETWORK_SUCCESS'\u001b[0m\u001b[0;34m\u001b[0m\u001b[0;34m\u001b[0m\u001b[0m\n\u001b[0;32m----> 4\u001b[0;31m \u001b[0msilentwhispers_data\u001b[0m \u001b[0;34m=\u001b[0m \u001b[0mextract_from_singles_attempts\u001b[0m\u001b[0;34m(\u001b[0m\u001b[0;34m\"silentwhispers\"\u001b[0m\u001b[0;34m,\u001b[0m \u001b[0mattempts\u001b[0m\u001b[0;34m,\u001b[0m \u001b[0mtrees\u001b[0m\u001b[0;34m,\u001b[0m \u001b[0mkey\u001b[0m\u001b[0;34m)\u001b[0m\u001b[0;34m\u001b[0m\u001b[0;34m\u001b[0m\u001b[0m\n\u001b[0m\u001b[1;32m      5\u001b[0m \u001b[0mspeedymurmurs_data\u001b[0m \u001b[0;34m=\u001b[0m \u001b[0mextract_from_singles_attempts\u001b[0m\u001b[0;34m(\u001b[0m\u001b[0;34m\"speedymurmurs\"\u001b[0m\u001b[0;34m,\u001b[0m \u001b[0mattempts\u001b[0m\u001b[0;34m,\u001b[0m \u001b[0mtrees\u001b[0m\u001b[0;34m,\u001b[0m \u001b[0mkey\u001b[0m\u001b[0;34m)\u001b[0m\u001b[0;34m\u001b[0m\u001b[0;34m\u001b[0m\u001b[0m\n\u001b[1;32m      6\u001b[0m \u001b[0;34m\u001b[0m\u001b[0m\n",
      "\u001b[0;32m<ipython-input-116-03c8889a24cb>\u001b[0m in \u001b[0;36mextract_from_singles_attempts\u001b[0;34m(algo, attempts, trees, key)\u001b[0m\n\u001b[1;32m     41\u001b[0m     \u001b[0;32mfor\u001b[0m \u001b[0mtree\u001b[0m \u001b[0;32min\u001b[0m \u001b[0mrange\u001b[0m\u001b[0;34m(\u001b[0m\u001b[0;36m1\u001b[0m\u001b[0;34m,\u001b[0m\u001b[0mattempts\u001b[0m\u001b[0;34m)\u001b[0m\u001b[0;34m:\u001b[0m\u001b[0;34m\u001b[0m\u001b[0;34m\u001b[0m\u001b[0m\n\u001b[1;32m     42\u001b[0m         \u001b[0mdata_path\u001b[0m \u001b[0;34m=\u001b[0m \u001b[0mget_static_data_path\u001b[0m\u001b[0;34m(\u001b[0m\u001b[0malgo\u001b[0m\u001b[0;34m,\u001b[0m \u001b[0mtree\u001b[0m\u001b[0;34m,\u001b[0m \u001b[0mattempts\u001b[0m\u001b[0;34m)\u001b[0m \u001b[0;34m+\u001b[0m \u001b[0;34m'/'\u001b[0m \u001b[0;34m+\u001b[0m \u001b[0msingles\u001b[0m\u001b[0;34m\u001b[0m\u001b[0;34m\u001b[0m\u001b[0m\n\u001b[0;32m---> 43\u001b[0;31m         \u001b[0msingles_pairs\u001b[0m \u001b[0;34m=\u001b[0m \u001b[0mextract_kv_pairs_from_singles\u001b[0m\u001b[0;34m(\u001b[0m\u001b[0mdata_path\u001b[0m\u001b[0;34m)\u001b[0m\u001b[0;34m\u001b[0m\u001b[0;34m\u001b[0m\u001b[0m\n\u001b[0m\u001b[1;32m     44\u001b[0m         \u001b[0mx_vs_key\u001b[0m\u001b[0;34m.\u001b[0m\u001b[0mappend\u001b[0m\u001b[0;34m(\u001b[0m\u001b[0mfloat\u001b[0m\u001b[0;34m(\u001b[0m\u001b[0msingles_pairs\u001b[0m\u001b[0;34m[\u001b[0m\u001b[0mkey\u001b[0m\u001b[0;34m]\u001b[0m\u001b[0;34m)\u001b[0m\u001b[0;34m)\u001b[0m\u001b[0;34m\u001b[0m\u001b[0;34m\u001b[0m\u001b[0m\n\u001b[1;32m     45\u001b[0m     \u001b[0;32mreturn\u001b[0m \u001b[0mx_vs_key\u001b[0m\u001b[0;34m\u001b[0m\u001b[0;34m\u001b[0m\u001b[0m\n",
      "\u001b[0;32m<ipython-input-116-03c8889a24cb>\u001b[0m in \u001b[0;36mextract_kv_pairs_from_singles\u001b[0;34m(singles_path)\u001b[0m\n\u001b[1;32m     23\u001b[0m \u001b[0;32mdef\u001b[0m \u001b[0mextract_kv_pairs_from_singles\u001b[0m\u001b[0;34m(\u001b[0m\u001b[0msingles_path\u001b[0m\u001b[0;34m)\u001b[0m\u001b[0;34m:\u001b[0m\u001b[0;34m\u001b[0m\u001b[0;34m\u001b[0m\u001b[0m\n\u001b[1;32m     24\u001b[0m     \u001b[0mret\u001b[0m \u001b[0;34m=\u001b[0m \u001b[0;34m{\u001b[0m\u001b[0;34m}\u001b[0m\u001b[0;34m\u001b[0m\u001b[0;34m\u001b[0m\u001b[0m\n\u001b[0;32m---> 25\u001b[0;31m     \u001b[0;32mwith\u001b[0m \u001b[0mopen\u001b[0m\u001b[0;34m(\u001b[0m\u001b[0msingles_path\u001b[0m\u001b[0;34m,\u001b[0m \u001b[0;34m'r'\u001b[0m\u001b[0;34m)\u001b[0m \u001b[0;32mas\u001b[0m \u001b[0mf\u001b[0m\u001b[0;34m:\u001b[0m\u001b[0;34m\u001b[0m\u001b[0;34m\u001b[0m\u001b[0m\n\u001b[0m\u001b[1;32m     26\u001b[0m         \u001b[0;32mfor\u001b[0m \u001b[0mline\u001b[0m \u001b[0;32min\u001b[0m \u001b[0mf\u001b[0m\u001b[0;34m:\u001b[0m\u001b[0;34m\u001b[0m\u001b[0;34m\u001b[0m\u001b[0m\n\u001b[1;32m     27\u001b[0m             \u001b[0mk\u001b[0m\u001b[0;34m,\u001b[0m\u001b[0mv\u001b[0m \u001b[0;34m=\u001b[0m \u001b[0mline\u001b[0m\u001b[0;34m.\u001b[0m\u001b[0mrstrip\u001b[0m\u001b[0;34m(\u001b[0m\u001b[0;34m)\u001b[0m\u001b[0;34m.\u001b[0m\u001b[0msplit\u001b[0m\u001b[0;34m(\u001b[0m\u001b[0;34m'='\u001b[0m\u001b[0;34m)\u001b[0m\u001b[0;34m\u001b[0m\u001b[0;34m\u001b[0m\u001b[0m\n",
      "\u001b[0;31mFileNotFoundError\u001b[0m: [Errno 2] No such file or directory: 'data/static/READABLE_FILE_SW-PER-MUL-67149/0/CREDIT_NETWORK-STATIC-1000.0-TREE_ROUTE_SILENTW-false-true-1-2000.0-RANDOM_PARTITIONER-10/_singles.txt'"
     ]
    }
   ],
   "source": [
    "attempts = 10\n",
    "trees = 3\n",
    "key = 'CREDIT_NETWORK_SUCCESS'\n",
    "silentwhispers_data = extract_from_singles_attempts(\"silentwhispers\", attempts, trees, key)\n",
    "speedymurmurs_data = extract_from_singles_attempts(\"speedymurmurs\", attempts, trees, key)\n",
    "\n",
    "plt.figure()\n",
    "plt.title('Figure 2c', size='xx-large')\n",
    "plt.ylabel('Success Ratio', size='x-large')\n",
    "plt.xlabel('Attempts', size='x-large')\n",
    "plt.axis([0,10,0.0,1.0])\n",
    "\n",
    "plt.plot(range(1,10), silentwhispers_data, 'r*-', markersize=5, linewidth=1, label='SilentWhispers')\n",
    "plt.plot(range(1,10), speedymurmurs_data, 'b*-', markersize=5, linewidth=1, label='SpeedyMurmurs')\n",
    "plt.legend(loc=(0,1), scatterpoints=10)"
   ]
  },
  {
   "cell_type": "markdown",
   "metadata": {},
   "source": [
    "## Figure 3 Plots"
   ]
  },
  {
   "cell_type": "markdown",
   "metadata": {},
   "source": [
    "## 3a"
   ]
  },
  {
   "cell_type": "markdown",
   "metadata": {},
   "source": [
    "### // TODO do runs\n",
    "* first check if runs already exist"
   ]
  },
  {
   "cell_type": "code",
   "execution_count": 133,
   "metadata": {},
   "outputs": [
    {
     "data": {
      "text/plain": [
       "<matplotlib.legend.Legend at 0x128f91390>"
      ]
     },
     "execution_count": 133,
     "metadata": {},
     "output_type": "execute_result"
    },
    {
     "data": {
      "image/png": "[encoded data removed]",
      "text/plain": [
       "<Figure size 432x288 with 1 Axes>"
      ]
     },
     "metadata": {
      "needs_background": "light"
     },
     "output_type": "display_data"
    }
   ],
   "source": [
    "def get_epoch_length(transactions_file):\n",
    "    transactions_list = []\n",
    "    for i in range(1, 10):\n",
    "        transactions_list = read_transactions_file(transactions_file.format(i), transactions_list)\n",
    "\n",
    "    # sum the time between subsequent transctions\n",
    "    sum_delta = 0\n",
    "    for i in range(1, len(transactions_list)):\n",
    "        sum_delta += transactions_list[i][0] - transactions_list[i - 1][0]\n",
    "    delta_av = sum_delta/len(transactions_list)\n",
    "    return (delta_av * 1000, transactions_list)\n",
    "\n",
    "def read_link_changes_files(link_changes_file):\n",
    "    link_changes_list = []\n",
    "    for i in range(1, 10):\n",
    "        link_changes_list = read_link_changes_file(link_changes_file.format(i), link_changes_list)\n",
    "    return link_changes_list\n",
    "\n",
    "def read_link_changes_file(link_changes_file, link_changes_list = []):\n",
    "    with open(link_changes_file, 'r') as link_changes:\n",
    "        count = 0\n",
    "        for link_change in link_changes:\n",
    "            lc = link_change.split(\" \")\n",
    "            # time, source, destination, amount\n",
    "            link_changes_list.append((int(lc[0]), lc[1], lc[2], lc[3]))\n",
    "\n",
    "        return link_changes_list\n",
    "\n",
    "def calculate_events_per_epoch(epoch_length, events):\n",
    "    cur_epoch = 1\n",
    "    next_epoch_starts = epoch_length\n",
    "\n",
    "    events_in_current_epoch = 0\n",
    "    events_per_epoch = {}\n",
    "    for event in events:\n",
    "        if event[0] < next_epoch_starts:\n",
    "            events_in_current_epoch += 1\n",
    "        else:\n",
    "            events_per_epoch[cur_epoch] = events_in_current_epoch\n",
    "            next_epoch_starts += epoch_length\n",
    "            cur_epoch += 1\n",
    "            # should be 1 because it needs to include the current transaction\n",
    "            events_in_current_epoch = 1\n",
    "    return events_per_epoch\n",
    "\n",
    "def read_transactions_file(transactions_file, transactions_list = []):\n",
    "    with open(transactions_file, 'r') as transactions:\n",
    "        count = 0\n",
    "        for transaction in transactions:\n",
    "            t = transaction.split(\" \")\n",
    "            if len(t) == 4:\n",
    "                # time, amount, source, destination\n",
    "                transactions_list.append((int(t[0]), t[1], t[2], t[3]))\n",
    "            elif len(t) == 3:\n",
    "                # time, amount, source, destination\n",
    "                transactions_list.append((count, t[1], t[2], t[3]))\n",
    "                count += 1\n",
    "\n",
    "        return transactions_list\n",
    "\n",
    "transactions_file = '../data/finalSets/dynamic/jan2013-trans-lcc-noself-uniq-{0}.txt'\n",
    "link_changes_file = '../data/finalSets/dynamic/jan2013-newlinks-lcc-sorted-uniq-t{0}.txt'\n",
    "epoch_length, transactions = get_epoch_length(transactions_file)\n",
    "link_changes = read_link_changes_files(link_changes_file)\n",
    "\n",
    "\n",
    "transactions_per_epoch = calculate_events_per_epoch(epoch_length, transactions)\n",
    "link_changes_per_epoch = calculate_events_per_epoch(epoch_length, link_changes)\n",
    "lc_per_epoch_list = []\n",
    "for i in range(1,801):\n",
    "    if i in link_changes_per_epoch:\n",
    "        lc_per_epoch_list.append(link_changes_per_epoch[i])\n",
    "    else:\n",
    "        lc_per_epoch_list.append(0)\n",
    "\n",
    "#print(transactions_per_epoch)\n",
    "plt.figure()\n",
    "plt.title('Figure 3a', size='xx-large')\n",
    "plt.ylabel('Count', size='x-large')\n",
    "plt.xlabel('Epoch Number', size='x-large')\n",
    "plt.axis([0,700,0,25000])\n",
    "\n",
    "#plt.scatter(transactions_per_epoch)\n",
    "plt.plot(range(1, 801), transactions_per_epoch.values(), 'ro', markersize=1, linewidth=1, label='Transactions')\n",
    "plt.plot(range(1, 801), lc_per_epoch_list, 'bo', markersize=1, linewidth=1, label='Set Link')\n",
    "plt.legend(loc=(0,1), scatterpoints=10)\n"
   ]
  },
  {
   "cell_type": "code",
   "execution_count": null,
   "metadata": {},
   "outputs": [],
   "source": []
  }
 ],
 "metadata": {
  "kernelspec": {
   "display_name": "Python 3",
   "language": "python",
   "name": "python3"
  },
  "language_info": {
   "codemirror_mode": {
    "name": "ipython",
    "version": 3
   },
   "file_extension": ".py",
   "mimetype": "text/x-python",
   "name": "python",
   "nbconvert_exporter": "python",
   "pygments_lexer": "ipython3",
   "version": "3.7.2"
  }
 },
 "nbformat": 4,
 "nbformat_minor": 2
}
